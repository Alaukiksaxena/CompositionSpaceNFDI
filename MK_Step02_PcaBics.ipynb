{
 "cells": [
  {
   "cell_type": "code",
   "execution_count": 1,
   "id": "c3d54e7c",
   "metadata": {},
   "outputs": [],
   "source": [
    "# import libraries\n",
    "import sys\n",
    "import os\n",
    "import pandas as pd\n",
    "import matplotlib.pylab as plt\n",
    "from jupyterlab_h5web import H5Web\n",
    "# import modules with the functionalities offered by CompositionSpace\n",
    "from compositionspace.utils import get_file_size\n",
    "from compositionspace.io import get_reconstructed_positions, get_iontypes, get_iontypes_info\n",
    "from compositionspace.segmentation import ProcessSegmentation"
   ]
  },
  {
   "cell_type": "code",
   "execution_count": 2,
   "id": "ca3b9b99-5e57-42b8-a249-6da7e3ac92a7",
   "metadata": {},
   "outputs": [
    {
     "name": "stdout",
     "output_type": "stream",
     "text": [
      "Executing compositionspace in the following working directory: /home/kaiobach/Research/hu_hu_hu/sprint19/compspace/CompositionSpace\n"
     ]
    }
   ],
   "source": [
    "# ! pip list  \n",
    "MY_PROCESSED_DATA_PATH = f\"{os.getcwd()}\"\n",
    "print(f\"Executing compositionspace in the following working directory: {os.getcwd()}\")"
   ]
  },
  {
   "cell_type": "code",
   "execution_count": 3,
   "id": "cb380e4f-93e0-4721-a9bd-da7fe387c57d",
   "metadata": {},
   "outputs": [],
   "source": [
    "RECONSTRUCTION_AND_RANGING = (\"R21_08680-v02.pos\", \"R21_08680.rrng\")\n",
    "RECONSTRUCTION_AND_RANGING = (\"PARAPROBE.Transcoder.Results.SimID.636502001.nxs\",\n",
    "                              \"PARAPROBE.Ranger.Results.SimID.636502001.nxs\")\n",
    "config_file_path = f\"{MY_PROCESSED_DATA_PATH}/experiment_params.yaml\"\n",
    "results_file_path = f\"{MY_PROCESSED_DATA_PATH}/CompositionSpace.Results.nxs\""
   ]
  },
  {
   "cell_type": "code",
   "execution_count": 4,
   "id": "6f1bbeed-d030-436d-bd1b-73a8417063bb",
   "metadata": {},
   "outputs": [
    {
     "name": "stdout",
     "output_type": "stream",
     "text": [
      "GaussianMixture ML analysis with n_cluster 1\n",
      "GaussianMixture ML analysis with n_cluster 2\n",
      "GaussianMixture ML analysis with n_cluster 3\n",
      "GaussianMixture ML analysis with n_cluster 4\n",
      "GaussianMixture ML analysis with n_cluster 5\n"
     ]
    }
   ],
   "source": [
    "segmentation = ProcessSegmentation(\n",
    "    config_file_path,\n",
    "    results_file_path,\n",
    "    entry_id=1,\n",
    "    verbose=True)\n",
    "segmentation.perform_pca_and_write_results()\n",
    "segmentation.perform_bics_minimization_and_write_results()"
   ]
  },
  {
   "cell_type": "code",
   "execution_count": 5,
   "id": "bd8625ad-1d60-4ac1-b0d1-9cc93dead44e",
   "metadata": {},
   "outputs": [
    {
     "name": "stdout",
     "output_type": "stream",
     "text": [
      "14.687 MiB\n"
     ]
    },
    {
     "data": {
      "application/x-hdf5": "/home/kaiobach/Research/hu_hu_hu/sprint19/compspace/CompositionSpace/CompositionSpace.Results.nxs",
      "text/plain": [
       "<jupyterlab_h5web.widget.H5Web object>"
      ]
     },
     "execution_count": 5,
     "metadata": {},
     "output_type": "execute_result"
    }
   ],
   "source": [
    "get_file_size(results_file_path)\n",
    "H5Web(results_file_path)"
   ]
  },
  {
   "cell_type": "markdown",
   "id": "3667abf2-6017-4232-9aa6-d9e7f1bede9d",
   "metadata": {},
   "source": [
    "<div class=\"alert alert-block alert-danger\">\n",
    "Discussion points:<br>\n",
    "* Modify NXapm_composition_space<br>\n",
    "* What to show how to show?<br>\n",
    "* Number of cluster vs Number of clusters? wording...?<br>\n",
    "* Why to run the gm several times, ones in the bics loop ones in get composition cluster files \n",
    "</div>"
   ]
  }
 ],
 "metadata": {
  "kernelspec": {
   "display_name": "Python 3 (ipykernel)",
   "language": "python",
   "name": "python3"
  },
  "language_info": {
   "codemirror_mode": {
    "name": "ipython",
    "version": 3
   },
   "file_extension": ".py",
   "mimetype": "text/x-python",
   "name": "python",
   "nbconvert_exporter": "python",
   "pygments_lexer": "ipython3",
   "version": "3.11.5"
  }
 },
 "nbformat": 4,
 "nbformat_minor": 5
}
