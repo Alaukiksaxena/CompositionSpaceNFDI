{
 "cells": [
  {
   "cell_type": "code",
   "execution_count": null,
   "id": "c3d54e7c",
   "metadata": {},
   "outputs": [],
   "source": [
    "# import libraries\n",
    "import sys\n",
    "import os\n",
    "import pandas as pd\n",
    "import matplotlib.pylab as plt\n",
    "from jupyterlab_h5web import H5Web\n",
    "# import modules with the functionalities offered by CompositionSpace\n",
    "from compositionspace.utils import get_file_size\n",
    "from compositionspace.io import get_reconstructed_positions, get_iontypes, get_iontypes_info\n",
    "from compositionspace.segmentation import ProcessSegmentation"
   ]
  },
  {
   "cell_type": "code",
   "execution_count": null,
   "id": "ca3b9b99-5e57-42b8-a249-6da7e3ac92a7",
   "metadata": {},
   "outputs": [],
   "source": [
    "# ! pip list  \n",
    "MY_PROCESSED_DATA_PATH = f\"{os.getcwd()}\"\n",
    "print(f\"Executing compositionspace in the following working directory: {os.getcwd()}\")"
   ]
  },
  {
   "cell_type": "code",
   "execution_count": null,
   "id": "cb380e4f-93e0-4721-a9bd-da7fe387c57d",
   "metadata": {},
   "outputs": [],
   "source": [
    "RECONSTRUCTION_AND_RANGING = (\"R21_08680-v02.pos\", \"R21_08680.rrng\")\n",
    "RECONSTRUCTION_AND_RANGING = (\"PARAPROBE.Transcoder.Results.SimID.636502001.nxs\",\n",
    "                              \"PARAPROBE.Ranger.Results.SimID.636502001.nxs\")\n",
    "config_file_path = f\"{MY_PROCESSED_DATA_PATH}/experiment_params.yaml\"\n",
    "results_file_path = f\"{MY_PROCESSED_DATA_PATH}/CompositionSpace.Results.nxs\""
   ]
  },
  {
   "cell_type": "code",
   "execution_count": null,
   "id": "6f1bbeed-d030-436d-bd1b-73a8417063bb",
   "metadata": {},
   "outputs": [],
   "source": [
    "segmentation = ProcessSegmentation(\n",
    "    config_file_path,\n",
    "    results_file_path,\n",
    "    entry_id=2,\n",
    "    verbose=False)\n",
    "segmentation.perform_pca_and_write_results()\n",
    "segmentation.perform_bics_minimization_and_write_results()"
   ]
  },
  {
   "cell_type": "code",
   "execution_count": null,
   "id": "bd8625ad-1d60-4ac1-b0d1-9cc93dead44e",
   "metadata": {},
   "outputs": [],
   "source": [
    "H5Web(results_file_path)"
   ]
  },
  {
   "cell_type": "code",
   "execution_count": null,
   "id": "a5326ceb-a87b-4304-9dbb-c2d36e749189",
   "metadata": {},
   "outputs": [],
   "source": [
    "segmentation = ProcessSegmentation(\n",
    "    config_file_path,\n",
    "    results_file_path,\n",
    "    verbose=False)\n",
    "segmentation.get_pca_cumsum()\n",
    "segmentation.write_pca_\n",
    "\n",
    "from sklearn.decomposition import PCA\n",
    "import h5py\n",
    "import numpy as np\n",
    "\n",
    "input_file_name = \"apm.composition.space.nxs\"\n",
    "h5r = h5py.File(input_file_name, \"r\")\n",
    "src = \"/entry1/voxelization\"\n",
    "total_weights = h5r[f\"{src}/total\"][:]\n",
    "n_ion_types = 73\n",
    "EPSILON = 1.0e-6  # move to params\n",
    "composition_matrix = np.zeros([np.shape(total_weights)[0], n_ion_types], np.float64)\n",
    "for ityp in np.arange(0, n_ion_types):  # make flexible\n",
    "    ityp_weights = h5r[f\"{src}/ion{ityp}/weight\"][:]\n",
    "    if np.shape(ityp_weights) == np.shape(total_weights):\n",
    "        composition_matrix[:, ityp] = np.divide(ityp_weights, total_weights, where= total_weights >= EPSILON)\n",
    "        composition_matrix[np.where(composition_matrix[:, ityp] < EPSILON), ityp] = 0.\n",
    "        composition_matrix[np.isnan(composition_matrix[:, ityp]), ityp] = 0.        \n",
    "    else:\n",
    "        raise LogicError(\"Length of iontype-specific and total weight arrays needs to be the same!\")\n",
    "        break\n",
    "print(composition_matrix)\n",
    "h5r.close()\n",
    "\n",
    "run = True\n",
    "if run is True:  \n",
    "    X_train = composition_matrix  # ratios.drop(['Total_no','vox'], axis=1)\n",
    "    PCAObj = PCA(n_components = n_ion_types)  # len(spec_lst)) \n",
    "    PCATrans = PCAObj.fit_transform(X_train)\n",
    "    PCACumsumArr = np.cumsum(PCAObj.explained_variance_ratio_)\n",
    "\n",
    "run = False\n",
    "if run is True:\n",
    "    plt.figure(figsize=(5,5))\n",
    "    plt.plot( range(1,len(PCACumsumArr)+1,1),PCACumsumArr,\"-o\")\n",
    "    plt.ylabel(\"Explained Variance\")\n",
    "    plt.xlabel('Dimensions')\n",
    "    plt.grid()\n",
    "    output_path = \"output\"\n",
    "    output_path = os.path.join(output_path, \"PCA_cumsum.png\")\n",
    "    plt.savefig(output_path)\n",
    "    plt.show()"
   ]
  },
  {
   "cell_type": "code",
   "execution_count": null,
   "id": "4c7d183a-201d-4f3d-a856-502d21f59e49",
   "metadata": {},
   "outputs": [],
   "source": [
    "output_file_name = \"apm.composition.space.pca.nxs\"\n",
    "h5w = h5py.File(output_file_name, \"w\")\n",
    "trg = \"/entry1/composition_clustering_pca\"\n",
    "grp = h5w.create_group(trg)\n",
    "grp.attrs[\"NX_class\"] = \"NXprocess\"\n",
    "dst = h5w.create_dataset(f\"{trg}/sequence_index\", data=np.uint64(2))\n",
    "trg = \"/entry1/composition_clustering_pca/result\"\n",
    "grp = h5w.create_group(trg)\n",
    "grp.attrs[\"NX_class\"] = \"NXdata\"\n",
    "grp.attrs[\"axes\"] = \"axis_pca_dimension\"\n",
    "grp.attrs[\"axis_pca_dimension\"] = np.uint64(0)\n",
    "grp.attrs[\"signal\"] = \"axis_explained_variance\"\n",
    "# further attributes\n",
    "# to render it a proper NeXus NXdata object\n",
    "axis_dim = np.asarray(np.linspace(0, n_ion_types - 1, num=n_ion_types, endpoint=True), np.uint32)\n",
    "dst = h5w.create_dataset(f\"{trg}/axis_pca_dimension\", compression=\"gzip\", compression_opts=1, data=axis_dim)\n",
    "dst.attrs[\"long_name\"] = \"Dimension\"\n",
    "# dst.attrs[\"unit\"] = \"\"\n",
    "axis_expl_var = np.asarray(PCACumsumArr, np.float64)\n",
    "dst = h5w.create_dataset(f\"{trg}/axis_explained_variance\", compression=\"gzip\", compression_opts=1, data=axis_expl_var)\n",
    "dst.attrs[\"long_name\"] = \"Explained variance\"\n",
    "# dst.attrs[\"unit\"] = \"1\"\n",
    "h5w.close()"
   ]
  },
  {
   "cell_type": "code",
   "execution_count": null,
   "id": "83349bd6-d5cd-4cb0-b5c2-9e52f833a24d",
   "metadata": {},
   "outputs": [],
   "source": [
    "H5Web(output_file_name)"
   ]
  },
  {
   "cell_type": "code",
   "execution_count": null,
   "id": "4fda2add",
   "metadata": {
    "tags": []
   },
   "outputs": [],
   "source": [
    "comps = CompositionClustering(\"experiment_params.yaml\")\n",
    "res = comps.get_PCA_cumsum(data.voxel_ratio_file, data.voxel_files[0])"
   ]
  },
  {
   "cell_type": "code",
   "execution_count": null,
   "id": "b39d8548-592c-418d-a186-0ad5e7fe8962",
   "metadata": {},
   "outputs": [],
   "source": [
    "with h5py.File(data.voxel_files[0],\"r\") as hdf:\n",
    "    group = hdf.get(\"Group_sm_vox_xyz_Da_spec\")\n",
    "    group0 = hdf.get(\"0\")\n",
    "    spec_lst = list(list(group0.attrs.values())[1])\n",
    "    print(f\"value {spec_lst}, type {type(spec_lst)}, len {len(spec_lst)}\")"
   ]
  },
  {
   "cell_type": "code",
   "execution_count": null,
   "id": "4c1967bd",
   "metadata": {
    "tags": []
   },
   "outputs": [],
   "source": [
    "res = comps.get_bics_minimization(data.voxel_ratio_file, data.voxel_files[0])"
   ]
  },
  {
   "cell_type": "code",
   "execution_count": null,
   "id": "2d742ace-3d6a-4340-9737-905c22ff22e2",
   "metadata": {},
   "outputs": [],
   "source": [
    "## Prepare storage of results of BICS minimization via Gaussian mixture"
   ]
  },
  {
   "cell_type": "code",
   "execution_count": null,
   "id": "4890f027-a666-4850-b258-facd75cfafe2",
   "metadata": {},
   "outputs": [],
   "source": [
    "output_file_name = \"apm.composition.space.bics.nxs\"\n",
    "h5w = h5py.File(output_file_name, \"w\")\n",
    "trg = \"/entry1/composition_clustering_ic_opt\"  # information criterion optimization (minimization)\n",
    "grp = h5w.create_group(trg)\n",
    "grp.attrs[\"NX_class\"] = \"NXprocess\"\n",
    "dst = h5w.create_dataset(f\"{trg}/sequence_index\", data=np.uint64(3))\n",
    "h5w.close()"
   ]
  },
  {
   "cell_type": "markdown",
   "id": "3667abf2-6017-4232-9aa6-d9e7f1bede9d",
   "metadata": {},
   "source": [
    "<div class=\"alert alert-block alert-danger\">\n",
    "Discussion points:<br>\n",
    "* Modify NXapm_composition_space<br>\n",
    "* What to show how to show?<br>\n",
    "* Number of cluster vs Number of clusters? wording...?<br>\n",
    "* Why to run the gm several times, ones in the bics loop ones in get composition cluster files \n",
    "</div>"
   ]
  }
 ],
 "metadata": {
  "kernelspec": {
   "display_name": "Python 3 (ipykernel)",
   "language": "python",
   "name": "python3"
  },
  "language_info": {
   "codemirror_mode": {
    "name": "ipython",
    "version": 3
   },
   "file_extension": ".py",
   "mimetype": "text/x-python",
   "name": "python",
   "nbconvert_exporter": "python",
   "pygments_lexer": "ipython3",
   "version": "3.11.5"
  }
 },
 "nbformat": 4,
 "nbformat_minor": 5
}
