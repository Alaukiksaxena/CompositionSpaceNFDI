{
 "cells": [
  {
   "cell_type": "code",
   "execution_count": 1,
   "metadata": {
    "ExecuteTime": {
     "end_time": "2021-08-04T15:37:51.482437Z",
     "start_time": "2021-08-04T15:37:51.467484Z"
    }
   },
   "outputs": [],
   "source": [
    "import numpy as np\n",
    "import pandas as pd\n",
    "import matplotlib.pyplot as plt\n",
    "from mpl_toolkits.mplot3d import Axes3D\n",
    "import pickle\n",
    "from comp_analysis_cluster import read_rrng\n",
    "from comp_analysis_cluster import Voxelisation\n",
    "from comp_analysis_cluster import VoxelComposition\n",
    "from tqdm import tqdm\n",
    "import paraprobe_transcoder\n",
    "import os\n",
    "#import plotly.graph_objects as go\n",
    "import h5py"
   ]
  },
  {
   "cell_type": "markdown",
   "metadata": {},
   "source": [
    "# Creating small chunks"
   ]
  },
  {
   "cell_type": "code",
   "execution_count": 2,
   "metadata": {},
   "outputs": [
    {
     "name": "stderr",
     "output_type": "stream",
     "text": [
      "  0%|          | 0/10 [00:00<?, ?it/s]\n",
      "  0%|          | 0/10 [00:00<?, ?it/s]\u001b[A"
     ]
    },
    {
     "name": "stdout",
     "output_type": "stream",
     "text": [
      "chunk_0\n",
      "-266\n"
     ]
    },
    {
     "name": "stderr",
     "output_type": "stream",
     "text": [
      "/talos/u/gazal/APT_calculations/for_nikita_Sm_Zr_Cu_Fe/20220613_APT_NFDI/comp_analysis_cluster.py:233: SettingWithCopyWarning: \n",
      "A value is trying to be set on a copy of a slice from a DataFrame.\n",
      "Try using .loc[row_indexer,col_indexer] = value instead\n",
      "\n",
      "See the caveats in the documentation: https://pandas.pydata.org/pandas-docs/stable/user_guide/indexing.html#returning-a-view-versus-a-copy\n",
      "  x[\"vox_file\"] = [name_sub_file for n_file in range(len(x))]\n"
     ]
    },
    {
     "name": "stdout",
     "output_type": "stream",
     "text": [
      "-264\n",
      "-262\n",
      "-260\n",
      "-258\n",
      "-256\n",
      "-254\n",
      "-252\n",
      "-250\n",
      "-248\n",
      "-246\n",
      "-244\n",
      "-242\n"
     ]
    },
    {
     "name": "stderr",
     "output_type": "stream",
     "text": [
      "\n",
      " 10%|█         | 1/10 [00:51<07:46, 51.81s/it]\u001b[A"
     ]
    },
    {
     "name": "stdout",
     "output_type": "stream",
     "text": [
      "chunk_1\n",
      "-240\n",
      "-238\n",
      "-236\n",
      "-234\n",
      "-232\n",
      "-230\n",
      "-228\n",
      "-226\n",
      "-224\n",
      "-222\n",
      "-220\n",
      "-218\n",
      "-216\n",
      "-214\n"
     ]
    },
    {
     "name": "stderr",
     "output_type": "stream",
     "text": [
      "\n",
      " 20%|██        | 2/10 [02:08<07:53, 59.24s/it]\u001b[A"
     ]
    },
    {
     "name": "stdout",
     "output_type": "stream",
     "text": [
      "chunk_2\n",
      "-213\n",
      "-211\n",
      "-209\n",
      "-207\n",
      "-205\n",
      "-203\n",
      "-201\n",
      "-199\n",
      "-197\n",
      "-195\n",
      "-193\n",
      "-191\n",
      "-189\n",
      "-187\n"
     ]
    },
    {
     "name": "stderr",
     "output_type": "stream",
     "text": [
      "\n",
      " 30%|███       | 3/10 [03:21<07:22, 63.26s/it]\u001b[A"
     ]
    },
    {
     "name": "stdout",
     "output_type": "stream",
     "text": [
      "chunk_3\n",
      "-186\n",
      "-184\n",
      "-182\n",
      "-180\n",
      "-178\n",
      "100000\n",
      "-176\n",
      "-174\n",
      "-172\n",
      "-170\n",
      "-168\n",
      "-166\n",
      "-164\n",
      "-162\n"
     ]
    },
    {
     "name": "stderr",
     "output_type": "stream",
     "text": [
      "\n",
      " 40%|████      | 4/10 [04:22<06:17, 62.86s/it]\u001b[A"
     ]
    },
    {
     "name": "stdout",
     "output_type": "stream",
     "text": [
      "chunk_4\n",
      "-160\n",
      "-158\n",
      "-156\n",
      "-154\n",
      "-152\n",
      "-150\n",
      "-148\n",
      "-146\n",
      "-144\n",
      "-142\n",
      "-140\n",
      "-138\n",
      "-136\n",
      "-134\n"
     ]
    },
    {
     "name": "stderr",
     "output_type": "stream",
     "text": [
      "\n",
      " 50%|█████     | 5/10 [05:23<05:10, 62.13s/it]\u001b[A"
     ]
    },
    {
     "name": "stdout",
     "output_type": "stream",
     "text": [
      "chunk_5\n",
      "-133\n",
      "-131\n",
      "-129\n",
      "-127\n",
      "-125\n",
      "-123\n",
      "-121\n",
      "-119\n",
      "-117\n",
      "-115\n",
      "-113\n",
      "-111\n",
      "-109\n"
     ]
    },
    {
     "name": "stderr",
     "output_type": "stream",
     "text": [
      "\n",
      " 60%|██████    | 6/10 [06:12<03:52, 58.23s/it]\u001b[A"
     ]
    },
    {
     "name": "stdout",
     "output_type": "stream",
     "text": [
      "chunk_6\n",
      "-107\n",
      "-105\n",
      "-103\n",
      "-101\n",
      "-99\n",
      "-97\n",
      "-95\n",
      "-93\n",
      "-91\n",
      "-89\n",
      "-87\n",
      "-85\n",
      "-83\n",
      "-81\n"
     ]
    },
    {
     "name": "stderr",
     "output_type": "stream",
     "text": [
      "\n",
      " 70%|███████   | 7/10 [07:03<02:47, 55.98s/it]\u001b[A"
     ]
    },
    {
     "name": "stdout",
     "output_type": "stream",
     "text": [
      "chunk_7\n",
      "-80\n",
      "-78\n",
      "200000\n",
      "-76\n",
      "-74\n",
      "-72\n",
      "-70\n",
      "-68\n",
      "-66\n",
      "-64\n",
      "-62\n",
      "-60\n",
      "-58\n",
      "-56\n",
      "-54\n"
     ]
    },
    {
     "name": "stderr",
     "output_type": "stream",
     "text": [
      "\n",
      " 80%|████████  | 8/10 [07:47<01:44, 52.43s/it]\u001b[A"
     ]
    },
    {
     "name": "stdout",
     "output_type": "stream",
     "text": [
      "chunk_8\n",
      "-53\n",
      "-51\n",
      "-49\n",
      "-47\n",
      "-45\n",
      "-43\n",
      "-41\n",
      "-39\n",
      "-37\n",
      "-35\n",
      "-33\n",
      "-31\n",
      "-29\n"
     ]
    },
    {
     "name": "stderr",
     "output_type": "stream",
     "text": [
      "\n",
      " 90%|█████████ | 9/10 [08:16<00:45, 45.47s/it]\u001b[A"
     ]
    },
    {
     "name": "stdout",
     "output_type": "stream",
     "text": [
      "chunk_9\n",
      "-27\n",
      "-25\n",
      "-23\n",
      "-21\n",
      "-19\n",
      "-17\n",
      "-15\n",
      "-13\n",
      "-11\n",
      "-9\n",
      "-7\n",
      "-5\n",
      "-3\n",
      "-1\n"
     ]
    },
    {
     "name": "stderr",
     "output_type": "stream",
     "text": [
      "\n",
      "100%|██████████| 10/10 [08:31<00:00, 51.11s/it]\u001b[A\n",
      "100%|██████████| 10/10 [08:31<00:00, 51.11s/it]\n"
     ]
    }
   ],
   "source": [
    "Voxelisation(Size = 2 )"
   ]
  },
  {
   "cell_type": "code",
   "execution_count": 14,
   "metadata": {},
   "outputs": [],
   "source": []
  },
  {
   "cell_type": "code",
   "execution_count": 3,
   "metadata": {},
   "outputs": [
    {
     "name": "stderr",
     "output_type": "stream",
     "text": [
      "100%|██████████| 238395/238395 [02:24<00:00, 1654.88it/s]\n"
     ]
    }
   ],
   "source": [
    "VoxelComposition()"
   ]
  },
  {
   "cell_type": "code",
   "execution_count": 85,
   "metadata": {},
   "outputs": [],
   "source": [
    "########################"
   ]
  },
  {
   "cell_type": "code",
   "execution_count": null,
   "metadata": {},
   "outputs": [],
   "source": []
  }
 ],
 "metadata": {
  "kernelspec": {
   "display_name": "Python 3",
   "language": "python",
   "name": "python3"
  },
  "language_info": {
   "codemirror_mode": {
    "name": "ipython",
    "version": 3
   },
   "file_extension": ".py",
   "mimetype": "text/x-python",
   "name": "python",
   "nbconvert_exporter": "python",
   "pygments_lexer": "ipython3",
   "version": "3.7.6"
  }
 },
 "nbformat": 4,
 "nbformat_minor": 2
}
