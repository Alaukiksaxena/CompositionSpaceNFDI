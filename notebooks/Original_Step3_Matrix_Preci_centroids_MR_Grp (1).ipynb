{
 "cells": [
  {
   "cell_type": "code",
   "execution_count": 1,
   "metadata": {
    "ExecuteTime": {
     "end_time": "2021-07-12T12:33:46.724474Z",
     "start_time": "2021-07-12T12:33:44.854439Z"
    }
   },
   "outputs": [],
   "source": [
    "\n",
    "from sklearn import mixture\n",
    "import numpy as np\n",
    "import pandas as pd\n",
    "import matplotlib.pyplot as plt\n",
    "from comp_analysis_cluster import read_rrng\n",
    "import os\n",
    "from mpl_toolkits import mplot3d\n",
    "from scipy import stats\n",
    "import seaborn as sns\n",
    "from scipy.optimize import curve_fit\n",
    "from scipy import asarray as ar,exp\n",
    "from scipy.stats import norm\n",
    "import  pandas as pd\n",
    "from tqdm import tqdm\n",
    "import h5py\n",
    "from sklearn.decomposition import PCA\n",
    "from sklearn.metrics import silhouette_score\n",
    "from sklearn.cluster import KMeans\n",
    "from sklearn.mixture import GaussianMixture\n",
    "from sklearn.metrics import homogeneity_score\n",
    "import plotly.graph_objects as go\n",
    "import numpy as np\n",
    "\n",
    "\n",
    "from comp_analysis_cluster import centeroid_df, centeroid_np_array, PCA_cumsum, NumClusters, VoxRead, CompositionCluster,SaveCompositionClusters\n"
   ]
  },
  {
   "cell_type": "code",
   "execution_count": 2,
   "metadata": {},
   "outputs": [],
   "source": [
    "Small_chunk_file_name = \"file_file_D1 High Hc R5076_52126_apt_large_chunks_test_arr_h5_small_chunks_test_arr4.h5\"\n",
    "Vox_centroid_file_to_make_name = \"3_Vox_centroids_D3_Mr_Grp.h5\"\n",
    "Vox_ratio_file_name=\"3Vox_ratios_filenames_num_MR_Grp.h5\""
   ]
  },
  {
   "cell_type": "code",
   "execution_count": 3,
   "metadata": {},
   "outputs": [],
   "source": [
    "PCACumsumArr, Ratios = PCA_cumsum(VoxRatioFile=Vox_ratio_file_name, VoxFile =Small_chunk_file_name)"
   ]
  },
  {
   "cell_type": "code",
   "execution_count": 4,
   "metadata": {},
   "outputs": [
    {
     "name": "stderr",
     "output_type": "stream",
     "text": [
      "100%|██████████| 9/9 [00:34<00:00,  3.79s/it]\n"
     ]
    }
   ],
   "source": [
    "NumClustersVal, AIC, BIC =  NumClusters(VoxRatioFile=Vox_ratio_file_name, VoxFile =Small_chunk_file_name, NumClustersVal=10 )"
   ]
  },
  {
   "cell_type": "code",
   "execution_count": 5,
   "metadata": {},
   "outputs": [
    {
     "data": {
      "text/plain": [
       "<matplotlib.legend.Legend at 0x14c6d23a2cd0>"
      ]
     },
     "execution_count": 5,
     "metadata": {},
     "output_type": "execute_result"
    },
    {
     "data": {
      "image/png": "[encoded data removed]",
      "text/plain": [
       "<Figure size 432x288 with 1 Axes>"
      ]
     },
     "metadata": {
      "needs_background": "light"
     },
     "output_type": "display_data"
    }
   ],
   "source": [
    "NumCLusterLst = list(range(1,NumClustersVal))\n",
    "plt.plot(NumCLusterLst, AIC, label=\"AIC\")\n",
    "plt.plot(NumCLusterLst, BIC, label=\"BIC\")\n",
    "plt.legend()"
   ]
  },
  {
   "cell_type": "code",
   "execution_count": 6,
   "metadata": {},
   "outputs": [
    {
     "name": "stderr",
     "output_type": "stream",
     "text": [
      "100%|██████████| 238395/238395 [02:26<00:00, 1621.90it/s]\n",
      "100%|██████████| 173078/173078 [01:48<00:00, 1587.94it/s]\n",
      "100%|██████████| 23144/23144 [00:33<00:00, 693.41it/s] \n"
     ]
    }
   ],
   "source": [
    "SaveCompositionClusters(VoxRatioFile=Vox_ratio_file_name, VoxFile =Small_chunk_file_name, OutFile =Vox_centroid_file_to_make_name,n_components = 10)"
   ]
  },
  {
   "cell_type": "code",
   "execution_count": 82,
   "metadata": {},
   "outputs": [
    {
     "data": {
      "text/plain": [
       "42167"
      ]
     },
     "execution_count": 82,
     "metadata": {},
     "output_type": "execute_result"
    }
   ],
   "source": [
    "\n",
    "with h5py.File(Vox_centroid_file_to_make_name , \"r\") as hdfr:\n",
    "    Phase2_cent_arr = np.array(hdfr.get(\"Phase1/Phase1_centroids\"))\n",
    "    group2 = hdfr.get(\"Phase1\")\n",
    "    Phase2_cent_columns = list(list(group2.attrs.values())[0])\n",
    "    #Group_name = list(list(hdfr.attrs.values())[1])\n",
    "Phase2_cent =pd.DataFrame(data=Phase2_cent_arr, columns=Phase2_cent_columns)\n",
    "Phase2_cent.head()\n",
    "len(Phase2_cent)"
   ]
  },
  {
   "cell_type": "code",
   "execution_count": 83,
   "metadata": {},
   "outputs": [
    {
     "data": {
      "text/plain": [
       "'/talos/u/gazal/APT_calculations/for_nikita_Sm_Zr_Cu_Fe/20220613_APT_NFDI/Ph1_raw_cent_D1.vtu'"
      ]
     },
     "execution_count": 83,
     "metadata": {},
     "output_type": "execute_result"
    }
   ],
   "source": [
    "from pyevtk.hl import pointsToVTK\n",
    "from pyevtk.hl import gridToVTK#, pointsToVTKAsTIN\n",
    "\n",
    "Df_comb = Phase2_cent\n",
    "image = Df_comb.values\n",
    "FILE_PATH1 = \"./Ph1_raw_cent_D1\"\n",
    "x = np.ascontiguousarray(image[:,0])\n",
    "y= np.ascontiguousarray(image[:,1])\n",
    "z = np.ascontiguousarray(image[:,2])\n",
    "label = np.ascontiguousarray( image[:,3])\n",
    "pointsToVTK(FILE_PATH1,x,y,z, data = {\"label\" : label}  )"
   ]
  },
  {
   "cell_type": "code",
   "execution_count": null,
   "metadata": {},
   "outputs": [],
   "source": [
    "####################################"
   ]
  }
 ],
 "metadata": {
  "kernelspec": {
   "display_name": "Python 3",
   "language": "python",
   "name": "python3"
  },
  "language_info": {
   "codemirror_mode": {
    "name": "ipython",
    "version": 3
   },
   "file_extension": ".py",
   "mimetype": "text/x-python",
   "name": "python",
   "nbconvert_exporter": "python",
   "pygments_lexer": "ipython3",
   "version": "3.7.6"
  }
 },
 "nbformat": 4,
 "nbformat_minor": 4
}
