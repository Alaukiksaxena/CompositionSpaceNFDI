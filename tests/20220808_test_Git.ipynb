{
 "cells": [
  {
   "cell_type": "code",
   "execution_count": 1,
   "metadata": {},
   "outputs": [],
   "source": [
    "# Import libraries\n",
    "import sys\n",
    "import os"
   ]
  },
  {
   "cell_type": "code",
   "execution_count": 2,
   "metadata": {},
   "outputs": [],
   "source": [
    "MYPREFIX='/u/gazal/APT_calculations/CompositionSpace_git/CompositionSpaceNFDI'\n",
    "MYTARGET='/u/gazal/New_paraprobe/Paris2022'\n",
    "CWD = os.getcwd()"
   ]
  },
  {
   "cell_type": "code",
   "execution_count": 3,
   "metadata": {},
   "outputs": [
    {
     "name": "stdout",
     "output_type": "stream",
     "text": [
      "/talos/u/gazal/APT_calculations/CompositionSpace_git/CompositionSpaceNFDI/tests\r\n"
     ]
    }
   ],
   "source": [
    "sys.path.append(MYPREFIX)\n",
    "! echo $PWD"
   ]
  },
  {
   "cell_type": "code",
   "execution_count": 4,
   "metadata": {},
   "outputs": [],
   "source": [
    "from compositionspace.datautils import Prepare_data\n",
    "import json \n",
    "import pandas as pd\n",
    "import matplotlib.pylab as plt\n",
    "from compositionspace.Composition_Space import Composition_Space\n",
    "from compositionspace.postprocessing import Postprocess_data"
   ]
  },
  {
   "cell_type": "code",
   "execution_count": 5,
   "metadata": {},
   "outputs": [
    {
     "name": "stdout",
     "output_type": "stream",
     "text": [
      "/talos/u/gazal/APT_calculations/CompositionSpace_git/CompositionSpaceNFDI/tests\n"
     ]
    }
   ],
   "source": [
    "import os\n",
    "print (os.getcwd())"
   ]
  },
  {
   "cell_type": "code",
   "execution_count": 6,
   "metadata": {},
   "outputs": [],
   "source": [
    "experiment_param = json.load(open(\"experiment_params.json\",\"r\"))"
   ]
  },
  {
   "cell_type": "code",
   "execution_count": 7,
   "metadata": {},
   "outputs": [],
   "source": [
    "try:\n",
    "    experiment_param = json.load(open(\"experiment_params.json\",\"r\"))\n",
    "except:\n",
    "    ValueError(\"Could not read parameter file\")"
   ]
  },
  {
   "cell_type": "code",
   "execution_count": 8,
   "metadata": {},
   "outputs": [
    {
     "data": {
      "text/plain": [
       "{'input_path': '/u/gazal/APT_calculations/for_nikita_Sm_Zr_Cu_Fe/APT_exp_Data_D3/D1',\n",
       " 'output_path': '/u/gazal/APT_calculations/CompositionSpace_git/output',\n",
       " 'n_big_slices': 10,\n",
       " 'voxel_size': 2,\n",
       " 'bics_clusters': 10,\n",
       " 'n_phases': 3,\n",
       " 'submission_path': 'spaceship-titanic/submission.csv',\n",
       " 'target': 'Transported',\n",
       " 'fill_numerical_with': {},\n",
       " 'fill_categorical_with': {},\n",
       " 'parameters': {'drop_features': ['PassengerId', 'Name', 'Cabin'],\n",
       "  'normalization': {'method': 'mean'},\n",
       "  'preprocess_method': 1,\n",
       "  'fill_numerical_columns': 'mean',\n",
       "  'fill_categorical_columns': 'mode',\n",
       "  'ml_models': {'GaussianMixture': {'name': 'GaussianMixture',\n",
       "    'params': {'n_components': 3, 'max_iter': 100000, 'verbose': 0}}}}}"
      ]
     },
     "execution_count": 8,
     "metadata": {},
     "output_type": "execute_result"
    }
   ],
   "source": [
    "experiment_param"
   ]
  },
  {
   "cell_type": "code",
   "execution_count": 21,
   "metadata": {},
   "outputs": [],
   "source": [
    "Input_Data = Prepare_data(params=experiment_param)"
   ]
  },
  {
   "cell_type": "code",
   "execution_count": 22,
   "metadata": {
    "scrolled": true
   },
   "outputs": [
    {
     "name": "stderr",
     "output_type": "stream",
     "text": [
      "\r",
      "  0%|          | 0/3 [00:00<?, ?it/s]"
     ]
    },
    {
     "name": "stdout",
     "output_type": "stream",
     "text": [
      "D1 High Hc R5076_52126.apt\n",
      "Done, reading *.APT file\n"
     ]
    },
    {
     "name": "stderr",
     "output_type": "stream",
     "text": [
      "100%|██████████| 3/3 [00:02<00:00,  1.03it/s]\n"
     ]
    },
    {
     "name": "stdout",
     "output_type": "stream",
     "text": [
      "/u/gazal/APT_calculations/for_nikita_Sm_Zr_Cu_Fe/APT_exp_Data_D3/D1/R5076_53078__SmCoFeCuZr_goodrangefile_20210309_Polin_WithoutHydrites_colors.RRNG\n",
      "hi\n"
     ]
    },
    {
     "name": "stderr",
     "output_type": "stream",
     "text": [
      "100%|██████████| 10/10 [00:11<00:00,  1.17s/it]\n"
     ]
    }
   ],
   "source": [
    "Input_Data.get_big_slices()"
   ]
  },
  {
   "cell_type": "code",
   "execution_count": 23,
   "metadata": {
    "scrolled": true
   },
   "outputs": [
    {
     "name": "stderr",
     "output_type": "stream",
     "text": [
      "  0%|          | 0/1 [00:00<?, ?it/s]\n",
      "  0%|          | 0/10 [00:00<?, ?it/s]\u001b[A"
     ]
    },
    {
     "name": "stdout",
     "output_type": "stream",
     "text": [
      "chunk_0\n",
      "-266\n",
      "-264\n",
      "-262\n",
      "-260\n",
      "-258\n",
      "-256\n",
      "-254\n",
      "-252\n",
      "-250\n",
      "-248\n",
      "-246\n",
      "-244\n",
      "-242\n"
     ]
    },
    {
     "name": "stderr",
     "output_type": "stream",
     "text": [
      "\n",
      " 10%|█         | 1/10 [00:49<07:27, 49.74s/it]\u001b[A"
     ]
    },
    {
     "name": "stdout",
     "output_type": "stream",
     "text": [
      "chunk_1\n",
      "-240\n",
      "-238\n",
      "-236\n",
      "-234\n",
      "-232\n",
      "-230\n",
      "-228\n",
      "-226\n",
      "-224\n",
      "-222\n",
      "-220\n",
      "-218\n",
      "-216\n",
      "-214\n"
     ]
    },
    {
     "name": "stderr",
     "output_type": "stream",
     "text": [
      "\n",
      " 20%|██        | 2/10 [02:04<08:33, 64.22s/it]\u001b[A"
     ]
    },
    {
     "name": "stdout",
     "output_type": "stream",
     "text": [
      "chunk_2\n",
      "-213\n",
      "-211\n",
      "-209\n",
      "-207\n",
      "-205\n",
      "-203\n",
      "-201\n",
      "-199\n",
      "-197\n",
      "-195\n",
      "-193\n",
      "-191\n",
      "-189\n",
      "-187\n"
     ]
    },
    {
     "name": "stderr",
     "output_type": "stream",
     "text": [
      "\n",
      " 30%|███       | 3/10 [03:16<07:54, 67.81s/it]\u001b[A"
     ]
    },
    {
     "name": "stdout",
     "output_type": "stream",
     "text": [
      "chunk_3\n",
      "-186\n",
      "-184\n",
      "-182\n",
      "-180\n",
      "-178\n",
      "100000\n",
      "-176\n",
      "-174\n",
      "-172\n",
      "-170\n",
      "-168\n",
      "-166\n",
      "-164\n",
      "-162\n"
     ]
    },
    {
     "name": "stderr",
     "output_type": "stream",
     "text": [
      "\n",
      " 40%|████      | 4/10 [04:16<06:29, 64.85s/it]\u001b[A"
     ]
    },
    {
     "name": "stdout",
     "output_type": "stream",
     "text": [
      "chunk_4\n",
      "-160\n",
      "-158\n",
      "-156\n",
      "-154\n",
      "-152\n",
      "-150\n",
      "-148\n",
      "-146\n",
      "-144\n",
      "-142\n",
      "-140\n",
      "-138\n",
      "-136\n",
      "-134\n"
     ]
    },
    {
     "name": "stderr",
     "output_type": "stream",
     "text": [
      "\n",
      " 50%|█████     | 5/10 [05:14<05:11, 62.31s/it]\u001b[A"
     ]
    },
    {
     "name": "stdout",
     "output_type": "stream",
     "text": [
      "chunk_5\n",
      "-133\n",
      "-131\n",
      "-129\n",
      "-127\n",
      "-125\n",
      "-123\n",
      "-121\n",
      "-119\n",
      "-117\n",
      "-115\n",
      "-113\n",
      "-111\n",
      "-109\n"
     ]
    },
    {
     "name": "stderr",
     "output_type": "stream",
     "text": [
      "\n",
      " 60%|██████    | 6/10 [06:01<03:48, 57.11s/it]\u001b[A"
     ]
    },
    {
     "name": "stdout",
     "output_type": "stream",
     "text": [
      "chunk_6\n",
      "-107\n",
      "-105\n",
      "-103\n",
      "-101\n",
      "-99\n",
      "-97\n",
      "-95\n",
      "-93\n",
      "-91\n",
      "-89\n",
      "-87\n",
      "-85\n",
      "-83\n",
      "-81\n"
     ]
    },
    {
     "name": "stderr",
     "output_type": "stream",
     "text": [
      "\n",
      " 70%|███████   | 7/10 [06:49<02:42, 54.29s/it]\u001b[A"
     ]
    },
    {
     "name": "stdout",
     "output_type": "stream",
     "text": [
      "chunk_7\n",
      "-80\n",
      "-78\n",
      "200000\n",
      "-76\n",
      "-74\n",
      "-72\n",
      "-70\n",
      "-68\n",
      "-66\n",
      "-64\n",
      "-62\n",
      "-60\n",
      "-58\n",
      "-56\n",
      "-54\n"
     ]
    },
    {
     "name": "stderr",
     "output_type": "stream",
     "text": [
      "\n",
      " 80%|████████  | 8/10 [07:32<01:41, 50.53s/it]\u001b[A"
     ]
    },
    {
     "name": "stdout",
     "output_type": "stream",
     "text": [
      "chunk_8\n",
      "-53\n",
      "-51\n",
      "-49\n",
      "-47\n",
      "-45\n",
      "-43\n",
      "-41\n",
      "-39\n",
      "-37\n",
      "-35\n",
      "-33\n",
      "-31\n",
      "-29\n"
     ]
    },
    {
     "name": "stderr",
     "output_type": "stream",
     "text": [
      "\n",
      " 90%|█████████ | 9/10 [08:00<00:43, 43.50s/it]\u001b[A"
     ]
    },
    {
     "name": "stdout",
     "output_type": "stream",
     "text": [
      "chunk_9\n",
      "-27\n",
      "-25\n",
      "-23\n",
      "-21\n",
      "-19\n",
      "-17\n",
      "-15\n",
      "-13\n",
      "-11\n",
      "-9\n",
      "-7\n",
      "-5\n",
      "-3\n",
      "-1\n"
     ]
    },
    {
     "name": "stderr",
     "output_type": "stream",
     "text": [
      "\n",
      "100%|██████████| 10/10 [08:14<00:00, 49.43s/it]\u001b[A\n",
      "100%|██████████| 1/1 [08:14<00:00, 494.34s/it]\n"
     ]
    }
   ],
   "source": [
    "Input_Data.get_voxels()"
   ]
  },
  {
   "cell_type": "code",
   "execution_count": 24,
   "metadata": {},
   "outputs": [
    {
     "name": "stderr",
     "output_type": "stream",
     "text": [
      "100%|██████████| 2/2 [00:00<00:00, 32513.98it/s]\n",
      "100%|██████████| 238395/238395 [03:12<00:00, 1240.93it/s]\n"
     ]
    }
   ],
   "source": [
    "Input_Data.get_voxel_composition()"
   ]
  },
  {
   "cell_type": "code",
   "execution_count": 25,
   "metadata": {},
   "outputs": [],
   "source": [
    "Input_Data = Composition_Space(params=experiment_param)"
   ]
  },
  {
   "cell_type": "code",
   "execution_count": 26,
   "metadata": {},
   "outputs": [
    {
     "data": {
      "image/png": "[encoded data removed]",
      "text/plain": [
       "<Figure size 360x360 with 1 Axes>"
      ]
     },
     "metadata": {
      "needs_background": "light"
     },
     "output_type": "display_data"
    },
    {
     "data": {
      "text/plain": [
       "array([0.5116405 , 0.86487543, 0.95748953, 1.        , 1.        ])"
      ]
     },
     "execution_count": 26,
     "metadata": {},
     "output_type": "execute_result"
    }
   ],
   "source": [
    "Input_Data.get_PCA_cumsum()"
   ]
  },
  {
   "cell_type": "code",
   "execution_count": 27,
   "metadata": {},
   "outputs": [
    {
     "name": "stderr",
     "output_type": "stream",
     "text": [
      "100%|██████████| 9/9 [00:55<00:00,  6.14s/it]\n"
     ]
    },
    {
     "data": {
      "image/png": "[encoded data removed]",
      "text/plain": [
       "<Figure size 432x288 with 1 Axes>"
      ]
     },
     "metadata": {
      "needs_background": "light"
     },
     "output_type": "display_data"
    },
    {
     "data": {
      "text/plain": [
       "(10,\n",
       " [-6231311.162407463,\n",
       "  -7389076.993947695,\n",
       "  -7537858.969623319,\n",
       "  -7575354.007403312,\n",
       "  -7612108.98777225,\n",
       "  -7615263.051999046,\n",
       "  -7632953.525546532,\n",
       "  -7633310.139440496,\n",
       "  -7639661.535366596],\n",
       " [-6231103.528722648,\n",
       "  -7388651.344893822,\n",
       "  -7537215.30520039,\n",
       "  -7574492.327611326,\n",
       "  -7611029.292611207,\n",
       "  -7613965.341468946,\n",
       "  -7631437.799647375,\n",
       "  -7631576.398172283,\n",
       "  -7637709.778729325])"
      ]
     },
     "execution_count": 27,
     "metadata": {},
     "output_type": "execute_result"
    }
   ],
   "source": [
    "Input_Data.get_bics_minimization()"
   ]
  },
  {
   "cell_type": "code",
   "execution_count": 28,
   "metadata": {},
   "outputs": [
    {
     "name": "stdout",
     "output_type": "stream",
     "text": [
      "\n",
      "\n",
      "\n",
      "[23152, 42167, 173076]\n"
     ]
    },
    {
     "name": "stderr",
     "output_type": "stream",
     "text": [
      "100%|██████████| 23152/23152 [01:13<00:00, 314.04it/s] \n",
      "100%|██████████| 42167/42167 [01:48<00:00, 390.08it/s] \n",
      "100%|██████████| 173076/173076 [02:04<00:00, 1393.94it/s]\n",
      "100%|██████████| 238395/238395 [02:50<00:00, 1395.51it/s]\n"
     ]
    }
   ],
   "source": [
    "ml_params = experiment_param[\"parameters\"][\"ml_models\"][\"GaussianMixture\"]\n",
    "Input_Data.get_composition_clusters(ml_params=ml_params)"
   ]
  },
  {
   "cell_type": "code",
   "execution_count": 29,
   "metadata": {},
   "outputs": [
    {
     "name": "stdout",
     "output_type": "stream",
     "text": [
      "start1\n",
      "['0', '1', '2', '3']\n",
      "/u/gazal/APT_calculations/CompositionSpace_git/output/Output_voxel_cetroids_phases_0\n",
      "/u/gazal/APT_calculations/CompositionSpace_git/output/Output_voxel_cetroids_phases_1\n"
     ]
    }
   ],
   "source": [
    "Input_Data = Composition_Space(params=experiment_param)\n",
    "Input_Data.plot3d()"
   ]
  },
  {
   "cell_type": "code",
   "execution_count": 9,
   "metadata": {},
   "outputs": [],
   "source": [
    "Input_Data = Postprocess_data(params=experiment_param)"
   ]
  },
  {
   "cell_type": "code",
   "execution_count": 13,
   "metadata": {},
   "outputs": [
    {
     "name": "stderr",
     "output_type": "stream",
     "text": [
      "100%|██████████| 13/13 [00:00<00:00, 1692.67it/s]\n"
     ]
    },
    {
     "data": {
      "image/png": "[encoded data removed]",
      "text/plain": [
       "<Figure size 432x288 with 1 Axes>"
      ]
     },
     "metadata": {
      "needs_background": "light"
     },
     "output_type": "display_data"
    }
   ],
   "source": [
    "Input_Data.DBSCAN_clustering(cluster_id = 0,eps = 5., min_samples= 40,plot=True,plot3d=True,save=True)"
   ]
  },
  {
   "cell_type": "code",
   "execution_count": null,
   "metadata": {},
   "outputs": [],
   "source": []
  }
 ],
 "metadata": {
  "kernelspec": {
   "display_name": "Python 3",
   "language": "python",
   "name": "python3"
  },
  "language_info": {
   "codemirror_mode": {
    "name": "ipython",
    "version": 3
   },
   "file_extension": ".py",
   "mimetype": "text/x-python",
   "name": "python",
   "nbconvert_exporter": "python",
   "pygments_lexer": "ipython3",
   "version": "3.7.6"
  }
 },
 "nbformat": 4,
 "nbformat_minor": 4
}
