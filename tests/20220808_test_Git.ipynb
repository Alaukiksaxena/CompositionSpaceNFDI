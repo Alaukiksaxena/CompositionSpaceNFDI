{
 "cells": [
  {
   "cell_type": "code",
   "execution_count": 16,
   "metadata": {},
   "outputs": [],
   "source": [
    "# Import libraries\n",
    "import sys\n",
    "import os"
   ]
  },
  {
   "cell_type": "code",
   "execution_count": 17,
   "metadata": {},
   "outputs": [
    {
     "name": "stdout",
     "output_type": "stream",
     "text": [
      "/talos/u/gazal/APT_calculations/CompositionSpace_git/CompositionSpaceNFDI/tests\r\n"
     ]
    }
   ],
   "source": [
    "MYPREFIX='/u/gazal/APT_calculations/CompositionSpace_git/CompositionSpaceNFDI'\n",
    "CWD = os.getcwd()\n",
    "sys.path.append(MYPREFIX)\n",
    "! echo $PWD"
   ]
  },
  {
   "cell_type": "code",
   "execution_count": 18,
   "metadata": {},
   "outputs": [],
   "source": [
    "from compositionspace.datautils import Prepare_data\n",
    "import json \n",
    "import pandas as pd\n",
    "import matplotlib.pylab as plt\n",
    "from compositionspace.segmentation import Composition_clustering\n",
    "from compositionspace.postprocessing import Postprocess_data"
   ]
  },
  {
   "cell_type": "code",
   "execution_count": 19,
   "metadata": {},
   "outputs": [
    {
     "name": "stdout",
     "output_type": "stream",
     "text": [
      "/talos/u/gazal/APT_calculations/CompositionSpace_git/CompositionSpaceNFDI/tests\n"
     ]
    }
   ],
   "source": [
    "import os\n",
    "print (os.getcwd())"
   ]
  },
  {
   "cell_type": "code",
   "execution_count": 20,
   "metadata": {},
   "outputs": [],
   "source": [
    "experiment_param = json.load(open(\"experiment_params.json\",\"r\"))"
   ]
  },
  {
   "cell_type": "code",
   "execution_count": 21,
   "metadata": {},
   "outputs": [],
   "source": [
    "try:\n",
    "    experiment_param = json.load(open(\"experiment_params.json\",\"r\"))\n",
    "except:\n",
    "    ValueError(\"Could not read parameter file\")"
   ]
  },
  {
   "cell_type": "code",
   "execution_count": 22,
   "metadata": {},
   "outputs": [
    {
     "data": {
      "text/plain": [
       "{'input_path': '/u/gazal/APT_calculations/for_nikita_Sm_Zr_Cu_Fe/APT_exp_Data_D3/D1',\n",
       " 'output_path': '/u/gazal/APT_calculations/CompositionSpace_git/output',\n",
       " 'n_big_slices': 10,\n",
       " 'voxel_size': 2,\n",
       " 'bics_clusters': 10,\n",
       " 'n_phases': 3,\n",
       " 'submission_path': 'spaceship-titanic/submission.csv',\n",
       " 'target': 'Transported',\n",
       " 'fill_numerical_with': {},\n",
       " 'fill_categorical_with': {},\n",
       " 'parameters': {'drop_features': ['PassengerId', 'Name', 'Cabin'],\n",
       "  'normalization': {'method': 'mean'},\n",
       "  'preprocess_method': 1,\n",
       "  'fill_numerical_columns': 'mean',\n",
       "  'fill_categorical_columns': 'mode',\n",
       "  'ml_models': {'GaussianMixture': {'name': 'GaussianMixture',\n",
       "    'params': {'n_components': 3, 'max_iter': 100000, 'verbose': 0}}}}}"
      ]
     },
     "execution_count": 22,
     "metadata": {},
     "output_type": "execute_result"
    }
   ],
   "source": [
    "experiment_param"
   ]
  },
  {
   "cell_type": "code",
   "execution_count": 23,
   "metadata": {},
   "outputs": [],
   "source": [
    "Input_Data = Prepare_data(params=experiment_param)"
   ]
  },
  {
   "cell_type": "code",
   "execution_count": 24,
   "metadata": {
    "scrolled": true
   },
   "outputs": [
    {
     "name": "stderr",
     "output_type": "stream",
     "text": [
      "\r",
      "  0%|          | 0/3 [00:00<?, ?it/s]"
     ]
    },
    {
     "name": "stdout",
     "output_type": "stream",
     "text": [
      "D1 High Hc R5076_52126.apt\n",
      "Done, reading *.APT file\n"
     ]
    },
    {
     "name": "stderr",
     "output_type": "stream",
     "text": [
      "100%|██████████| 3/3 [00:04<00:00,  1.38s/it]\n"
     ]
    },
    {
     "name": "stdout",
     "output_type": "stream",
     "text": [
      "/u/gazal/APT_calculations/for_nikita_Sm_Zr_Cu_Fe/APT_exp_Data_D3/D1/R5076_53078__SmCoFeCuZr_goodrangefile_20210309_Polin_WithoutHydrites_colors.RRNG\n",
      "hi\n"
     ]
    },
    {
     "name": "stderr",
     "output_type": "stream",
     "text": [
      "100%|██████████| 10/10 [00:09<00:00,  1.00it/s]\n"
     ]
    }
   ],
   "source": [
    "Input_Data.get_big_slices()"
   ]
  },
  {
   "cell_type": "code",
   "execution_count": null,
   "metadata": {
    "scrolled": true
   },
   "outputs": [
    {
     "name": "stderr",
     "output_type": "stream",
     "text": [
      "  0%|          | 0/14 [00:00<?, ?it/s]\n",
      "  0%|          | 0/10 [00:00<?, ?it/s]\u001b[A"
     ]
    },
    {
     "name": "stdout",
     "output_type": "stream",
     "text": [
      "chunk_0\n",
      "-266\n",
      "-264\n",
      "-262\n",
      "-260\n",
      "-258\n",
      "-256\n",
      "-254\n",
      "-252\n",
      "-250\n",
      "-248\n",
      "-246\n",
      "-244\n",
      "-242\n"
     ]
    },
    {
     "name": "stderr",
     "output_type": "stream",
     "text": [
      "\n",
      " 10%|█         | 1/10 [00:57<08:33, 57.03s/it]\u001b[A"
     ]
    },
    {
     "name": "stdout",
     "output_type": "stream",
     "text": [
      "chunk_1\n",
      "-240\n",
      "-238\n",
      "-236\n",
      "-234\n",
      "-232\n",
      "-230\n",
      "-228\n",
      "-226\n",
      "-224\n",
      "-222\n",
      "-220\n",
      "-218\n",
      "-216\n",
      "-214\n"
     ]
    },
    {
     "name": "stderr",
     "output_type": "stream",
     "text": [
      "\n",
      " 20%|██        | 2/10 [02:11<08:57, 67.14s/it]\u001b[A"
     ]
    },
    {
     "name": "stdout",
     "output_type": "stream",
     "text": [
      "chunk_2\n",
      "-213\n",
      "-211\n",
      "-209\n",
      "-207\n",
      "-205\n",
      "-203\n",
      "-201\n",
      "-199\n",
      "-197\n",
      "-195\n",
      "-193\n",
      "-191\n",
      "-189\n",
      "-187\n"
     ]
    },
    {
     "name": "stderr",
     "output_type": "stream",
     "text": [
      "\n",
      " 30%|███       | 3/10 [03:23<08:05, 69.31s/it]\u001b[A"
     ]
    },
    {
     "name": "stdout",
     "output_type": "stream",
     "text": [
      "chunk_3\n",
      "-186\n",
      "-184\n",
      "-182\n",
      "-180\n",
      "-178\n",
      "100000\n",
      "-176\n",
      "-174\n",
      "-172\n",
      "-170\n",
      "-168\n",
      "-166\n",
      "-164\n",
      "-162\n"
     ]
    },
    {
     "name": "stderr",
     "output_type": "stream",
     "text": [
      "\n",
      " 40%|████      | 4/10 [04:23<06:35, 65.88s/it]\u001b[A"
     ]
    },
    {
     "name": "stdout",
     "output_type": "stream",
     "text": [
      "chunk_4\n",
      "-160\n",
      "-158\n",
      "-156\n",
      "-154\n",
      "-152\n",
      "-150\n",
      "-148\n",
      "-146\n",
      "-144\n",
      "-142\n",
      "-140\n",
      "-138\n",
      "-136\n",
      "-134\n"
     ]
    },
    {
     "name": "stderr",
     "output_type": "stream",
     "text": [
      "\n",
      " 50%|█████     | 5/10 [05:22<05:16, 63.30s/it]\u001b[A"
     ]
    },
    {
     "name": "stdout",
     "output_type": "stream",
     "text": [
      "chunk_5\n",
      "-133\n",
      "-131\n",
      "-129\n",
      "-127\n",
      "-125\n",
      "-123\n",
      "-121\n",
      "-119\n",
      "-117\n",
      "-115\n",
      "-113\n",
      "-111\n"
     ]
    }
   ],
   "source": [
    "Input_Data.get_voxels()"
   ]
  },
  {
   "cell_type": "code",
   "execution_count": null,
   "metadata": {},
   "outputs": [],
   "source": [
    "Input_Data.get_voxel_composition()"
   ]
  },
  {
   "cell_type": "code",
   "execution_count": null,
   "metadata": {},
   "outputs": [],
   "source": [
    "Input_Data = Composition_Space(params=experiment_param)"
   ]
  },
  {
   "cell_type": "code",
   "execution_count": null,
   "metadata": {},
   "outputs": [],
   "source": [
    "Input_Data.get_PCA_cumsum()"
   ]
  },
  {
   "cell_type": "code",
   "execution_count": null,
   "metadata": {},
   "outputs": [],
   "source": [
    "Input_Data.get_bics_minimization()"
   ]
  },
  {
   "cell_type": "code",
   "execution_count": null,
   "metadata": {},
   "outputs": [],
   "source": [
    "ml_params = experiment_param[\"parameters\"][\"ml_models\"][\"GaussianMixture\"]\n",
    "Input_Data.get_composition_clusters(ml_params=ml_params)"
   ]
  },
  {
   "cell_type": "code",
   "execution_count": null,
   "metadata": {},
   "outputs": [],
   "source": [
    "Input_Data = Composition_Space(params=experiment_param)\n",
    "Input_Data.plot3d()"
   ]
  },
  {
   "cell_type": "code",
   "execution_count": null,
   "metadata": {},
   "outputs": [],
   "source": [
    "Input_Data = Postprocess_data(params=experiment_param)"
   ]
  },
  {
   "cell_type": "code",
   "execution_count": null,
   "metadata": {},
   "outputs": [],
   "source": [
    "Input_Data.DBSCAN_clustering(cluster_id = 0,eps = 5., min_samples= 40,plot=True,plot3d=True,save=True)"
   ]
  },
  {
   "cell_type": "code",
   "execution_count": null,
   "metadata": {},
   "outputs": [],
   "source": []
  }
 ],
 "metadata": {
  "kernelspec": {
   "display_name": "Python 3",
   "language": "python",
   "name": "python3"
  },
  "language_info": {
   "codemirror_mode": {
    "name": "ipython",
    "version": 3
   },
   "file_extension": ".py",
   "mimetype": "text/x-python",
   "name": "python",
   "nbconvert_exporter": "python",
   "pygments_lexer": "ipython3",
   "version": "3.7.6"
  }
 },
 "nbformat": 4,
 "nbformat_minor": 4
}
