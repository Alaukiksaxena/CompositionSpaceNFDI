{
 "cells": [
  {
   "cell_type": "code",
   "execution_count": 34,
   "metadata": {},
   "outputs": [],
   "source": [
    "# Import libraries\n",
    "import sys\n",
    "import os"
   ]
  },
  {
   "cell_type": "code",
   "execution_count": 35,
   "metadata": {},
   "outputs": [
    {
     "name": "stdout",
     "output_type": "stream",
     "text": [
      "/talos/u/gazal/APT_calculations/CompositionSpace_git/CompositionSpaceNFDI/tests\r\n"
     ]
    }
   ],
   "source": [
    "MYPREFIX='/u/gazal/APT_calculations/CompositionSpace_git/CompositionSpaceNFDI'\n",
    "CWD = os.getcwd()\n",
    "sys.path.append(MYPREFIX)\n",
    "! echo $PWD"
   ]
  },
  {
   "cell_type": "code",
   "execution_count": 36,
   "metadata": {},
   "outputs": [],
   "source": [
    "from compositionspace.datautils import Prepare_data\n",
    "import json \n",
    "import pandas as pd\n",
    "import matplotlib.pylab as plt\n",
    "from compositionspace.segmentation import Composition_clustering\n",
    "from compositionspace.postprocessing import Postprocess_data"
   ]
  },
  {
   "cell_type": "code",
   "execution_count": 37,
   "metadata": {},
   "outputs": [
    {
     "name": "stdout",
     "output_type": "stream",
     "text": [
      "/talos/u/gazal/APT_calculations/CompositionSpace_git/CompositionSpaceNFDI/tests\n"
     ]
    }
   ],
   "source": [
    "import os\n",
    "print (os.getcwd())"
   ]
  },
  {
   "cell_type": "code",
   "execution_count": 38,
   "metadata": {},
   "outputs": [],
   "source": [
    "experiment_param = json.load(open(\"experiment_params.json\",\"r\"))"
   ]
  },
  {
   "cell_type": "code",
   "execution_count": 39,
   "metadata": {},
   "outputs": [],
   "source": [
    "try:\n",
    "    experiment_param = json.load(open(\"experiment_params.json\",\"r\"))\n",
    "except:\n",
    "    ValueError(\"Could not read parameter file\")"
   ]
  },
  {
   "cell_type": "code",
   "execution_count": 40,
   "metadata": {},
   "outputs": [
    {
     "data": {
      "text/plain": [
       "{'input_path': '/u/gazal/APT_calculations/for_nikita_Sm_Zr_Cu_Fe/APT_exp_Data_D3/D1',\n",
       " 'output_path': '/u/gazal/APT_calculations/CompositionSpace_git/output',\n",
       " 'n_big_slices': 10,\n",
       " 'voxel_size': 2,\n",
       " 'bics_clusters': 10,\n",
       " 'n_phases': 3,\n",
       " 'submission_path': 'spaceship-titanic/submission.csv',\n",
       " 'target': 'Transported',\n",
       " 'fill_numerical_with': {},\n",
       " 'fill_categorical_with': {},\n",
       " 'parameters': {'drop_features': ['PassengerId', 'Name', 'Cabin'],\n",
       "  'normalization': {'method': 'mean'},\n",
       "  'preprocess_method': 1,\n",
       "  'fill_numerical_columns': 'mean',\n",
       "  'fill_categorical_columns': 'mode',\n",
       "  'ml_models': {'GaussianMixture': {'name': 'GaussianMixture',\n",
       "    'params': {'n_components': 3, 'max_iter': 100000, 'verbose': 0}}}}}"
      ]
     },
     "execution_count": 40,
     "metadata": {},
     "output_type": "execute_result"
    }
   ],
   "source": [
    "experiment_param"
   ]
  },
  {
   "cell_type": "code",
   "execution_count": 41,
   "metadata": {},
   "outputs": [],
   "source": [
    "Input_Data = Prepare_data(params=experiment_param)"
   ]
  },
  {
   "cell_type": "code",
   "execution_count": 42,
   "metadata": {
    "scrolled": true
   },
   "outputs": [
    {
     "name": "stderr",
     "output_type": "stream",
     "text": [
      "\r",
      "  0%|          | 0/3 [00:00<?, ?it/s]"
     ]
    },
    {
     "name": "stdout",
     "output_type": "stream",
     "text": [
      "D1 High Hc R5076_52126.apt\n",
      "Done, reading *.APT file\n"
     ]
    },
    {
     "name": "stderr",
     "output_type": "stream",
     "text": [
      "100%|██████████| 3/3 [00:02<00:00,  1.07it/s]\n"
     ]
    },
    {
     "name": "stdout",
     "output_type": "stream",
     "text": [
      "/u/gazal/APT_calculations/for_nikita_Sm_Zr_Cu_Fe/APT_exp_Data_D3/D1/R5076_53078__SmCoFeCuZr_goodrangefile_20210309_Polin_WithoutHydrites_colors.RRNG\n",
      "hi\n"
     ]
    },
    {
     "name": "stderr",
     "output_type": "stream",
     "text": [
      "100%|██████████| 10/10 [00:10<00:00,  1.03s/it]\n"
     ]
    }
   ],
   "source": [
    "Input_Data.get_big_slices()"
   ]
  },
  {
   "cell_type": "code",
   "execution_count": 43,
   "metadata": {
    "scrolled": true
   },
   "outputs": [
    {
     "name": "stderr",
     "output_type": "stream",
     "text": [
      "  0%|          | 0/14 [00:00<?, ?it/s]\n",
      "  0%|          | 0/10 [00:00<?, ?it/s]\u001b[A"
     ]
    },
    {
     "name": "stdout",
     "output_type": "stream",
     "text": [
      "chunk_0\n",
      "-266\n",
      "-264\n",
      "-262\n",
      "-260\n",
      "-258\n",
      "-256\n",
      "-254\n",
      "-252\n",
      "-250\n",
      "-248\n",
      "-246\n",
      "-244\n",
      "-242\n"
     ]
    },
    {
     "name": "stderr",
     "output_type": "stream",
     "text": [
      "\n",
      " 10%|█         | 1/10 [00:55<08:21, 55.71s/it]\u001b[A"
     ]
    },
    {
     "name": "stdout",
     "output_type": "stream",
     "text": [
      "chunk_1\n",
      "-240\n",
      "-238\n",
      "-236\n",
      "-234\n",
      "-232\n",
      "-230\n",
      "-228\n",
      "-226\n",
      "-224\n",
      "-222\n",
      "-220\n",
      "-218\n",
      "-216\n",
      "-214\n"
     ]
    },
    {
     "name": "stderr",
     "output_type": "stream",
     "text": [
      "\n",
      " 20%|██        | 2/10 [02:08<08:47, 65.88s/it]\u001b[A"
     ]
    },
    {
     "name": "stdout",
     "output_type": "stream",
     "text": [
      "chunk_2\n",
      "-213\n",
      "-211\n",
      "-209\n",
      "-207\n",
      "-205\n",
      "-203\n",
      "-201\n",
      "-199\n",
      "-197\n",
      "-195\n",
      "-193\n",
      "-191\n",
      "-189\n",
      "-187\n"
     ]
    },
    {
     "name": "stderr",
     "output_type": "stream",
     "text": [
      "\n",
      " 30%|███       | 3/10 [03:21<08:02, 68.91s/it]\u001b[A"
     ]
    },
    {
     "name": "stdout",
     "output_type": "stream",
     "text": [
      "chunk_3\n",
      "-186\n",
      "-184\n",
      "-182\n",
      "-180\n",
      "-178\n",
      "100000\n",
      "-176\n",
      "-174\n",
      "-172\n",
      "-170\n",
      "-168\n",
      "-166\n",
      "-164\n",
      "-162\n"
     ]
    },
    {
     "name": "stderr",
     "output_type": "stream",
     "text": [
      "\n",
      " 40%|████      | 4/10 [04:21<06:34, 65.67s/it]\u001b[A"
     ]
    },
    {
     "name": "stdout",
     "output_type": "stream",
     "text": [
      "chunk_4\n",
      "-160\n",
      "-158\n",
      "-156\n",
      "-154\n",
      "-152\n",
      "-150\n",
      "-148\n",
      "-146\n",
      "-144\n",
      "-142\n",
      "-140\n",
      "-138\n",
      "-136\n",
      "-134\n"
     ]
    },
    {
     "name": "stderr",
     "output_type": "stream",
     "text": [
      "\n",
      " 50%|█████     | 5/10 [05:20<05:16, 63.24s/it]\u001b[A"
     ]
    },
    {
     "name": "stdout",
     "output_type": "stream",
     "text": [
      "chunk_5\n",
      "-133\n",
      "-131\n",
      "-129\n",
      "-127\n",
      "-125\n",
      "-123\n",
      "-121\n",
      "-119\n",
      "-117\n",
      "-115\n",
      "-113\n",
      "-111\n",
      "-109\n"
     ]
    },
    {
     "name": "stderr",
     "output_type": "stream",
     "text": [
      "\n",
      " 60%|██████    | 6/10 [06:08<03:52, 58.10s/it]\u001b[A"
     ]
    },
    {
     "name": "stdout",
     "output_type": "stream",
     "text": [
      "chunk_6\n",
      "-107\n",
      "-105\n",
      "-103\n",
      "-101\n",
      "-99\n",
      "-97\n",
      "-95\n",
      "-93\n",
      "-91\n",
      "-89\n",
      "-87\n",
      "-85\n",
      "-83\n",
      "-81\n"
     ]
    },
    {
     "name": "stderr",
     "output_type": "stream",
     "text": [
      "\n",
      " 70%|███████   | 7/10 [06:58<02:46, 55.34s/it]\u001b[A"
     ]
    },
    {
     "name": "stdout",
     "output_type": "stream",
     "text": [
      "chunk_7\n",
      "-80\n",
      "-78\n",
      "200000\n",
      "-76\n",
      "-74\n",
      "-72\n",
      "-70\n",
      "-68\n",
      "-66\n",
      "-64\n",
      "-62\n",
      "-60\n",
      "-58\n",
      "-56\n",
      "-54\n"
     ]
    },
    {
     "name": "stderr",
     "output_type": "stream",
     "text": [
      "\n",
      " 80%|████████  | 8/10 [07:41<01:42, 51.45s/it]\u001b[A"
     ]
    },
    {
     "name": "stdout",
     "output_type": "stream",
     "text": [
      "chunk_8\n",
      "-53\n",
      "-51\n",
      "-49\n",
      "-47\n",
      "-45\n",
      "-43\n",
      "-41\n",
      "-39\n",
      "-37\n",
      "-35\n",
      "-33\n",
      "-31\n",
      "-29\n"
     ]
    },
    {
     "name": "stderr",
     "output_type": "stream",
     "text": [
      "\n",
      " 90%|█████████ | 9/10 [08:10<00:44, 44.27s/it]\u001b[A"
     ]
    },
    {
     "name": "stdout",
     "output_type": "stream",
     "text": [
      "chunk_9\n",
      "-27\n",
      "-25\n",
      "-23\n",
      "-21\n",
      "-19\n",
      "-17\n",
      "-15\n",
      "-13\n",
      "-11\n",
      "-9\n",
      "-7\n",
      "-5\n",
      "-3\n",
      "-1\n"
     ]
    },
    {
     "name": "stderr",
     "output_type": "stream",
     "text": [
      "\n",
      "100%|██████████| 10/10 [08:24<00:00, 50.45s/it]\u001b[A\n",
      "100%|██████████| 14/14 [08:24<00:00, 36.07s/it]\n"
     ]
    }
   ],
   "source": [
    "Input_Data.get_voxels()"
   ]
  },
  {
   "cell_type": "code",
   "execution_count": 44,
   "metadata": {},
   "outputs": [
    {
     "name": "stderr",
     "output_type": "stream",
     "text": [
      "100%|██████████| 14/14 [00:00<00:00, 295076.66it/s]\n",
      "100%|██████████| 238395/238395 [02:45<00:00, 1437.81it/s]\n"
     ]
    }
   ],
   "source": [
    "Input_Data.get_voxel_composition()"
   ]
  },
  {
   "cell_type": "code",
   "execution_count": 45,
   "metadata": {},
   "outputs": [],
   "source": [
    "Input_Data = Composition_Space(params=experiment_param)"
   ]
  },
  {
   "cell_type": "code",
   "execution_count": 46,
   "metadata": {},
   "outputs": [
    {
     "data": {
      "image/png": "[encoded data removed]",
      "text/plain": [
       "<Figure size 360x360 with 1 Axes>"
      ]
     },
     "metadata": {
      "needs_background": "light"
     },
     "output_type": "display_data"
    },
    {
     "data": {
      "text/plain": [
       "array([0.5116405 , 0.86487543, 0.95748953, 1.        , 1.        ])"
      ]
     },
     "execution_count": 46,
     "metadata": {},
     "output_type": "execute_result"
    }
   ],
   "source": [
    "Input_Data.get_PCA_cumsum()"
   ]
  },
  {
   "cell_type": "code",
   "execution_count": 47,
   "metadata": {},
   "outputs": [
    {
     "name": "stderr",
     "output_type": "stream",
     "text": [
      "100%|██████████| 9/9 [00:56<00:00,  6.23s/it]\n"
     ]
    },
    {
     "data": {
      "image/png": "[encoded data removed]",
      "text/plain": [
       "<Figure size 432x288 with 1 Axes>"
      ]
     },
     "metadata": {
      "needs_background": "light"
     },
     "output_type": "display_data"
    },
    {
     "data": {
      "text/plain": [
       "(10,\n",
       " [-6231311.162407463,\n",
       "  -7389077.166082203,\n",
       "  -7537853.830017556,\n",
       "  -7575362.680720815,\n",
       "  -7608665.641566438,\n",
       "  -7615491.681629455,\n",
       "  -7629850.15341818,\n",
       "  -7642624.381575269,\n",
       "  -7644231.862640226],\n",
       " [-6231103.528722648,\n",
       "  -7388651.517028331,\n",
       "  -7537210.165594627,\n",
       "  -7574501.000928829,\n",
       "  -7607585.946405395,\n",
       "  -7614193.971099355,\n",
       "  -7628334.4275190225,\n",
       "  -7640890.640307055,\n",
       "  -7642280.106002956])"
      ]
     },
     "execution_count": 47,
     "metadata": {},
     "output_type": "execute_result"
    }
   ],
   "source": [
    "Input_Data.get_bics_minimization()"
   ]
  },
  {
   "cell_type": "code",
   "execution_count": 48,
   "metadata": {},
   "outputs": [
    {
     "name": "stdout",
     "output_type": "stream",
     "text": [
      "\n",
      "\n",
      "\n",
      "[23160, 42157, 173078]\n"
     ]
    },
    {
     "name": "stderr",
     "output_type": "stream",
     "text": [
      "100%|██████████| 23160/23160 [00:49<00:00, 471.99it/s] \n",
      "100%|██████████| 42157/42157 [00:56<00:00, 740.86it/s] \n",
      "100%|██████████| 173078/173078 [01:14<00:00, 2326.03it/s]\n",
      "100%|██████████| 238395/238395 [02:15<00:00, 1764.18it/s]\n"
     ]
    }
   ],
   "source": [
    "ml_params = experiment_param[\"parameters\"][\"ml_models\"][\"GaussianMixture\"]\n",
    "Input_Data.get_composition_clusters(ml_params=ml_params)"
   ]
  },
  {
   "cell_type": "code",
   "execution_count": 49,
   "metadata": {},
   "outputs": [
    {
     "name": "stdout",
     "output_type": "stream",
     "text": [
      "/u/gazal/APT_calculations/CompositionSpace_git/output/Output_voxel_cetroids_phases_0\n",
      "/u/gazal/APT_calculations/CompositionSpace_git/output/Output_voxel_cetroids_phases_1\n"
     ]
    }
   ],
   "source": [
    "Input_Data = Composition_Space(params=experiment_param)\n",
    "Input_Data.plot3d()"
   ]
  },
  {
   "cell_type": "code",
   "execution_count": 50,
   "metadata": {},
   "outputs": [],
   "source": [
    "Input_Data = Postprocess_data(params=experiment_param)"
   ]
  },
  {
   "cell_type": "code",
   "execution_count": 51,
   "metadata": {},
   "outputs": [
    {
     "name": "stderr",
     "output_type": "stream",
     "text": [
      "100%|██████████| 13/13 [00:00<00:00, 712.75it/s]\n"
     ]
    },
    {
     "data": {
      "image/png": "[encoded data removed]",
      "text/plain": [
       "<Figure size 432x288 with 1 Axes>"
      ]
     },
     "metadata": {
      "needs_background": "light"
     },
     "output_type": "display_data"
    }
   ],
   "source": [
    "Input_Data.DBSCAN_clustering(cluster_id = 0,eps = 5., min_samples= 40,plot=True,plot3d=True,save=True)"
   ]
  },
  {
   "cell_type": "code",
   "execution_count": null,
   "metadata": {},
   "outputs": [],
   "source": []
  }
 ],
 "metadata": {
  "kernelspec": {
   "display_name": "Python 3",
   "language": "python",
   "name": "python3"
  },
  "language_info": {
   "codemirror_mode": {
    "name": "ipython",
    "version": 3
   },
   "file_extension": ".py",
   "mimetype": "text/x-python",
   "name": "python",
   "nbconvert_exporter": "python",
   "pygments_lexer": "ipython3",
   "version": "3.7.6"
  }
 },
 "nbformat": 4,
 "nbformat_minor": 4
}
