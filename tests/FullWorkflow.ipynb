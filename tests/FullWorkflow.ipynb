{
 "cells": [
  {
   "cell_type": "code",
   "execution_count": 1,
   "id": "c3d54e7c",
   "metadata": {},
   "outputs": [],
   "source": [
    "# import libraries\n",
    "import sys\n",
    "import os\n",
    "import yaml\n",
    "import h5py\n",
    "import pandas as pd\n",
    "import flatdict as fd\n",
    "import matplotlib.pylab as plt\n",
    "from jupyterlab_h5web import H5Web\n",
    "from IPython.display import Image\n",
    "# import modules with the functionalities offered by CompositionSpace\n",
    "sys.path.append(\"../\")\n",
    "from compositionspace.utils import get_file_size\n",
    "from compositionspace.visualization import generate_xdmf_for_visualizing_content\n",
    "from compositionspace.preparation import ProcessPreparation\n",
    "from compositionspace.autophase import ProcessAutomatedPhaseAssignment\n",
    "from compositionspace.segmentation import ProcessSegmentation\n",
    "from compositionspace.clustering import ProcessClustering"
   ]
  },
  {
   "cell_type": "code",
   "execution_count": 2,
   "id": "4cc5a514-9e53-492c-8aab-0af54ba23bb7",
   "metadata": {},
   "outputs": [
    {
     "name": "stdout",
     "output_type": "stream",
     "text": [
      "Executing compositionspace in the following working directory: /home/kaiobach/Research/hu_hu_hu/sprint22/compspace-mpie-remaining-fixes/CompositionSpace/tests\n"
     ]
    }
   ],
   "source": [
    "# ! pip list\n",
    "MY_PROCESSED_DATA_PATH = f\"{os.getcwd()}\"\n",
    "print(f\"Executing compositionspace in the following working directory: {os.getcwd()}\")"
   ]
  },
  {
   "cell_type": "markdown",
   "id": "ed397ebd-5954-40bf-b4fc-3042eca1acf0",
   "metadata": {},
   "source": [
    "## Load reconstruction and ranging and voxelize with rectangular transfer function without creating slices"
   ]
  },
  {
   "cell_type": "markdown",
   "id": "802bf198-692c-4a87-abed-95492c775745",
   "metadata": {},
   "source": [
    "Prerequisite: Properly formatted reconstructed dataset and ranging definitions:<br>\n",
    "* Generated **either** with paraprobe-toolbox NeXus/HDF5 file\n",
    "* **or** as a pair of APT or POS reconstruction and RRNG ranging definition file."
   ]
  },
  {
   "cell_type": "code",
   "execution_count": 3,
   "id": "ecd3a7e2-6c3a-470c-8c64-e7fdad7e44fd",
   "metadata": {},
   "outputs": [
    {
     "name": "stdout",
     "output_type": "stream",
     "text": [
      "/home/kaiobach/Research/hu_hu_hu/sprint22/compspace-mpie-remaining-fixes/CompositionSpace/tests/experiment_params.yaml\n",
      "/home/kaiobach/Research/hu_hu_hu/sprint22/compspace-mpie-remaining-fixes/CompositionSpace/tests/CompositionSpace.Results.1.nxs\n"
     ]
    }
   ],
   "source": [
    "simid = 1\n",
    "use_nexus = False\n",
    "if use_nexus:  # NeXus/HDF and example for typical file locations with paraprobe-toolbox\n",
    "    paraprobe_toolbox_root = \"\"\n",
    "    workdir = [f\"{paraprobe_toolbox_root}/teaching/example_analyses/usa_denton_smith\",\n",
    "               f\"{paraprobe_toolbox_root}/teaching/example_analyses/iuc09_saksena\"]\n",
    "    RECONSTRUCTION_AND_RANGING = (f\"{workdir[simid - 1]}/PARAPROBE.Transcoder.Results.SimID.1.nxs\",\n",
    "                                  f\"{workdir[simid - 1]}/PARAPROBE.Ranger.Results.SimID.1.nxs\")\n",
    "else:  # APT or POS + RRNG\n",
    "    RECONSTRUCTION_AND_RANGING = (f\"{MY_PROCESSED_DATA_PATH}/data/Si.pos\",\n",
    "                                  f\"{MY_PROCESSED_DATA_PATH}/data/Si.RRNG\")\n",
    "\n",
    "config_file_path = f\"{MY_PROCESSED_DATA_PATH}/experiment_params.yaml\"\n",
    "results_file_path = f\"{MY_PROCESSED_DATA_PATH}/CompositionSpace.Results.{simid}.nxs\"\n",
    "print(config_file_path)\n",
    "print(results_file_path)"
   ]
  },
  {
   "cell_type": "code",
   "execution_count": 4,
   "id": "d615c926-17f4-4ba2-93d9-acfe0230cdfe",
   "metadata": {},
   "outputs": [
    {
     "name": "stdout",
     "output_type": "stream",
     "text": [
      "14.423 MiB\n",
      "0.001 MiB\n"
     ]
    }
   ],
   "source": [
    "get_file_size(RECONSTRUCTION_AND_RANGING[0])\n",
    "get_file_size(RECONSTRUCTION_AND_RANGING[1])\n",
    "# H5Web(RECONSTRUCTION_AND_RANGING[0])\n",
    "# H5Web(RECONSTRUCTION_AND_RANGING[1])"
   ]
  },
  {
   "cell_type": "code",
   "execution_count": 5,
   "id": "33255c0b-04a8-4b84-9d70-c2ce3a62cfb2",
   "metadata": {
    "scrolled": true
   },
   "outputs": [],
   "source": [
    "voxelize = ProcessPreparation(config_file_path, results_file_path, entry_id=1, verbose=True)"
   ]
  },
  {
   "cell_type": "code",
   "execution_count": 6,
   "id": "13c26d9a-b867-4093-8033-28e788a96a68",
   "metadata": {},
   "outputs": [
    {
     "name": "stdout",
     "output_type": "stream",
     "text": [
      "Load reconstructed positions shape (945211, 3), type <class 'numpy.ndarray'>, dtype float32\n",
      "Found 25 ranging definitions, performed reduction to 25 unique ones\n",
      "/home/kaiobach/Research/hu_hu_hu/sprint22/compspace-mpie-remaining-fixes/CompositionSpace/tests/data/Si.RRNG parsed successfully\n",
      "('unknown', np.uint8(0), array([0.    , 0.0005]))\n",
      "('Si ++', np.uint8(1), array([13.8745, 14.241 ]))\n",
      "('Si +', np.uint8(2), array([27.856, 28.595]))\n",
      "('Si +', np.uint8(3), array([28.826, 29.255]))\n",
      "('Si +', np.uint8(4), array([29.783, 30.252]))\n",
      "('Si ++', np.uint8(5), array([14.407, 14.643]))\n",
      "('Si ++', np.uint8(6), array([14.912, 15.171]))\n",
      "('Cr +', np.uint8(7), array([51.699, 54.243]))\n",
      "('Cr +', np.uint8(8), array([49.612, 50.526]))\n",
      "('Cr ++', np.uint8(9), array([25.771, 27.211]))\n",
      "('Cr ++', np.uint8(10), array([24.895, 25.445]))\n",
      "('Cu +', np.uint8(11), array([62.567, 63.496]))\n",
      "('Cu +', np.uint8(12), array([64.619, 65.548]))\n",
      "('C +', np.uint8(13), array([11.866, 12.198]))\n",
      "('C ++', np.uint8(14), array([5.896, 6.193]))\n",
      "('O +', np.uint8(15), array([15.858, 16.48 ]))\n",
      "('O +', np.uint8(16), array([17.838, 18.304]))\n",
      "('Cr O +', np.uint8(17), array([67.622, 69.574]))\n",
      "('Cr O +', np.uint8(18), array([69.781, 70.156]))\n",
      "('Cr O +', np.uint8(19), array([65.76 , 66.264]))\n",
      "('Cr O ++', np.uint8(20), array([32.892, 33.275]))\n",
      "('Cr O ++', np.uint8(21), array([33.898, 34.802]))\n",
      "('Cr O ++', np.uint8(22), array([34.917, 35.231]))\n",
      "('Cr O O +', np.uint8(23), array([83.595, 86.555]))\n",
      "('Cr O O ++', np.uint8(24), array([41.869, 43.181]))\n",
      "('Cr Cr O ++', np.uint8(25), array([57.819, 61.159]))\n",
      "26 iontypes distinguished:\n",
      "\tion0, ('unknown', np.uint8(0), array([0.    , 0.0005]))\n",
      "\tion1, ('Si ++', np.uint8(1), array([13.8745, 14.241 ]))\n",
      "\tion2, ('Si +', np.uint8(2), array([27.856, 28.595]))\n",
      "\tion3, ('Si +', np.uint8(3), array([28.826, 29.255]))\n",
      "\tion4, ('Si +', np.uint8(4), array([29.783, 30.252]))\n",
      "\tion5, ('Si ++', np.uint8(5), array([14.407, 14.643]))\n",
      "\tion6, ('Si ++', np.uint8(6), array([14.912, 15.171]))\n",
      "\tion7, ('Cr +', np.uint8(7), array([51.699, 54.243]))\n",
      "\tion8, ('Cr +', np.uint8(8), array([49.612, 50.526]))\n",
      "\tion9, ('Cr ++', np.uint8(9), array([25.771, 27.211]))\n",
      "\tion10, ('Cr ++', np.uint8(10), array([24.895, 25.445]))\n",
      "\tion11, ('Cu +', np.uint8(11), array([62.567, 63.496]))\n",
      "\tion12, ('Cu +', np.uint8(12), array([64.619, 65.548]))\n",
      "\tion13, ('C +', np.uint8(13), array([11.866, 12.198]))\n",
      "\tion14, ('C ++', np.uint8(14), array([5.896, 6.193]))\n",
      "\tion15, ('O +', np.uint8(15), array([15.858, 16.48 ]))\n",
      "\tion16, ('O +', np.uint8(16), array([17.838, 18.304]))\n",
      "\tion17, ('Cr O +', np.uint8(17), array([67.622, 69.574]))\n",
      "\tion18, ('Cr O +', np.uint8(18), array([69.781, 70.156]))\n",
      "\tion19, ('Cr O +', np.uint8(19), array([65.76 , 66.264]))\n",
      "\tion20, ('Cr O ++', np.uint8(20), array([32.892, 33.275]))\n",
      "\tion21, ('Cr O ++', np.uint8(21), array([33.898, 34.802]))\n",
      "\tion22, ('Cr O ++', np.uint8(22), array([34.917, 35.231]))\n",
      "\tion23, ('Cr O O +', np.uint8(23), array([83.595, 86.555]))\n",
      "\tion24, ('Cr O O ++', np.uint8(24), array([41.869, 43.181]))\n",
      "\tion25, ('Cr Cr O ++', np.uint8(25), array([57.819, 61.159]))\n",
      "9 charge-agnostic iontypes distinguished:\n",
      "\tunknown, [np.uint8(0)]\n",
      "\tSi, [np.uint8(1), np.uint8(2), np.uint8(3), np.uint8(4), np.uint8(5), np.uint8(6)]\n",
      "\tCr, [np.uint8(7), np.uint8(8), np.uint8(9), np.uint8(10)]\n",
      "\tCu, [np.uint8(11), np.uint8(12)]\n",
      "\tC, [np.uint8(13), np.uint8(14)]\n",
      "\tO, [np.uint8(15), np.uint8(16)]\n",
      "\tCr O, [np.uint8(17), np.uint8(18), np.uint8(19), np.uint8(20), np.uint8(21), np.uint8(22)]\n",
      "\tCr O O, [np.uint8(23), np.uint8(24)]\n",
      "\tCr Cr O, [np.uint8(25)]\n",
      "5 elements distinguished:\n",
      "C\n",
      "Cr\n",
      "Cu\n",
      "O\n",
      "Si\n",
      "Skipping ion0...\n",
      "Ranging 1 with [13.8745, 14.241] ...\n",
      "(684972, 2), [[ 8254     0]\n",
      " [ 9119     0]\n",
      " [11154     0]\n",
      " [24234     0]\n",
      " [32488     0]], [[945205      0]\n",
      " [945206      0]\n",
      " [945207      0]\n",
      " [945209      0]\n",
      " [945210      0]]\n",
      "Ranging 2 with [27.856, 28.595] ...\n",
      "(5799, 2), [[ 2210     0]\n",
      " [ 4319     0]\n",
      " [13673     0]\n",
      " [14874     0]\n",
      " [25631     0]], [[944831      0]\n",
      " [944859      0]\n",
      " [944941      0]\n",
      " [945074      0]\n",
      " [945125      0]]\n",
      "Ranging 3 with [28.826, 29.255] ...\n",
      "(22528, 2), [[33  0]\n",
      " [34  0]\n",
      " [47  0]\n",
      " [62  0]\n",
      " [86  0]], [[942309      0]\n",
      " [944379      0]\n",
      " [944727      0]\n",
      " [945168      0]\n",
      " [945197      0]]\n",
      "Ranging 4 with [29.783, 30.252] ...\n",
      "(8784, 2), [[ 32   0]\n",
      " [ 89   0]\n",
      " [108   0]\n",
      " [127   0]\n",
      " [185   0]], [[941990      0]\n",
      " [942310      0]\n",
      " [943283      0]\n",
      " [943754      0]\n",
      " [944467      0]]\n",
      "Ranging 5 with [14.407, 14.643] ...\n",
      "(37918, 2), [[   949      0]\n",
      " [ 11624      0]\n",
      " [ 77301      0]\n",
      " [ 98960      0]\n",
      " [101023      0]], [[945156      0]\n",
      " [945158      0]\n",
      " [945176      0]\n",
      " [945203      0]\n",
      " [945208      0]]\n",
      "Ranging 6 with [14.912, 15.171] ...\n",
      "(25075, 2), [[ 29   0]\n",
      " [ 50   0]\n",
      " [ 64   0]\n",
      " [ 92   0]\n",
      " [360   0]], [[944915      0]\n",
      " [944932      0]\n",
      " [945033      0]\n",
      " [945148      0]\n",
      " [945163      0]]\n",
      "Ranging 7 with [51.699, 54.243] ...\n",
      "(430, 2), [[   7    0]\n",
      " [ 686    0]\n",
      " [ 687    0]\n",
      " [2112    0]\n",
      " [2537    0]], [[935271      0]\n",
      " [937851      0]\n",
      " [938350      0]\n",
      " [940129      0]\n",
      " [940137      0]]\n",
      "Ranging 8 with [49.612, 50.526] ...\n",
      "(148, 2), [[ 3694     0]\n",
      " [12634     0]\n",
      " [26315     0]\n",
      " [40878     0]\n",
      " [48813     0]], [[929691      0]\n",
      " [931153      0]\n",
      " [938072      0]\n",
      " [944130      0]\n",
      " [944282      0]]\n",
      "Ranging 9 with [25.771, 27.211] ...\n",
      "(459, 2), [[ 1348     0]\n",
      " [ 7389     0]\n",
      " [ 7420     0]\n",
      " [12891     0]\n",
      " [13013     0]], [[927452      0]\n",
      " [934558      0]\n",
      " [934998      0]\n",
      " [936044      0]\n",
      " [938501      0]]\n",
      "Ranging 10 with [24.895, 25.445] ...\n",
      "(170, 2), [[2043    0]\n",
      " [2841    0]\n",
      " [2879    0]\n",
      " [3248    0]\n",
      " [5488    0]], [[919725      0]\n",
      " [925921      0]\n",
      " [933055      0]\n",
      " [939285      0]\n",
      " [939358      0]]\n",
      "Ranging 11 with [62.567, 63.496] ...\n",
      "(231, 2), [[ 3132     0]\n",
      " [ 4864     0]\n",
      " [ 5135     0]\n",
      " [ 7449     0]\n",
      " [11943     0]], [[924739      0]\n",
      " [925572      0]\n",
      " [932303      0]\n",
      " [935827      0]\n",
      " [942213      0]]\n",
      "Ranging 12 with [64.619, 65.548] ...\n",
      "(452, 2), [[ 109    0]\n",
      " [ 585    0]\n",
      " [2508    0]\n",
      " [3531    0]\n",
      " [4148    0]], [[930627      0]\n",
      " [933212      0]\n",
      " [937759      0]\n",
      " [943341      0]\n",
      " [944873      0]]\n",
      "Ranging 13 with [11.866, 12.198] ...\n",
      "(427, 2), [[ 612    0]\n",
      " [1319    0]\n",
      " [2429    0]\n",
      " [2934    0]\n",
      " [3046    0]], [[928267      0]\n",
      " [931772      0]\n",
      " [932277      0]\n",
      " [936167      0]\n",
      " [938554      0]]\n",
      "Ranging 14 with [5.896, 6.193] ...\n",
      "(279, 2), [[ 27   0]\n",
      " [ 48   0]\n",
      " [206   0]\n",
      " [455   0]\n",
      " [798   0]], [[918537      0]\n",
      " [924304      0]\n",
      " [926004      0]\n",
      " [929029      0]\n",
      " [931423      0]]\n",
      "Ranging 15 with [15.858, 16.48] ...\n",
      "(854, 2), [[ 133    0]\n",
      " [4753    0]\n",
      " [4835    0]\n",
      " [6678    0]\n",
      " [7611    0]], [[931005      0]\n",
      " [934900      0]\n",
      " [936137      0]\n",
      " [939758      0]\n",
      " [940875      0]]\n",
      "Ranging 16 with [17.838, 18.304] ...\n",
      "(501, 2), [[ 580    0]\n",
      " [ 593    0]\n",
      " [2336    0]\n",
      " [2555    0]\n",
      " [5086    0]], [[939239      0]\n",
      " [940801      0]\n",
      " [941188      0]\n",
      " [942237      0]\n",
      " [942296      0]]\n",
      "Ranging 17 with [67.622, 69.574] ...\n",
      "(872, 2), [[ 11   0]\n",
      " [ 67   0]\n",
      " [ 85   0]\n",
      " [107   0]\n",
      " [118   0]], [[932129      0]\n",
      " [933855      0]\n",
      " [934949      0]\n",
      " [940753      0]\n",
      " [943776      0]]\n",
      "Ranging 18 with [69.781, 70.156] ...\n",
      "(231, 2), [[ 583    0]\n",
      " [1273    0]\n",
      " [2460    0]\n",
      " [3368    0]\n",
      " [3383    0]], [[918421      0]\n",
      " [919676      0]\n",
      " [931634      0]\n",
      " [937310      0]\n",
      " [938697      0]]\n",
      "Ranging 19 with [65.76, 66.264] ...\n",
      "(185, 2), [[ 453    0]\n",
      " [ 508    0]\n",
      " [2391    0]\n",
      " [2438    0]\n",
      " [2551    0]], [[896308      0]\n",
      " [914127      0]\n",
      " [921146      0]\n",
      " [931752      0]\n",
      " [933119      0]]\n",
      "Ranging 20 with [32.892, 33.275] ...\n",
      "(77, 2), [[ 12548      0]\n",
      " [ 65440      0]\n",
      " [ 80845      0]\n",
      " [ 98347      0]\n",
      " [119377      0]], [[910091      0]\n",
      " [918883      0]\n",
      " [920063      0]\n",
      " [928377      0]\n",
      " [940305      0]]\n",
      "Ranging 21 with [33.898, 34.802] ...\n",
      "(176, 2), [[  1776      0]\n",
      " [ 46025      0]\n",
      " [ 68309      0]\n",
      " [ 95145      0]\n",
      " [101255      0]], [[931058      0]\n",
      " [931585      0]\n",
      " [936084      0]\n",
      " [939219      0]\n",
      " [941198      0]]\n",
      "Ranging 22 with [34.917, 35.231] ...\n",
      "(140, 2), [[2036    0]\n",
      " [4497    0]\n",
      " [4538    0]\n",
      " [8731    0]\n",
      " [9998    0]], [[896664      0]\n",
      " [909503      0]\n",
      " [923457      0]\n",
      " [937295      0]\n",
      " [944149      0]]\n",
      "Ranging 23 with [83.595, 86.555] ...\n",
      "(383, 2), [[2499    0]\n",
      " [2629    0]\n",
      " [3645    0]\n",
      " [5727    0]\n",
      " [5780    0]], [[936581      0]\n",
      " [937195      0]\n",
      " [938009      0]\n",
      " [939386      0]\n",
      " [939749      0]]\n",
      "Ranging 24 with [41.869, 43.181] ...\n",
      "(259, 2), [[2677    0]\n",
      " [4518    0]\n",
      " [5217    0]\n",
      " [5734    0]\n",
      " [6136    0]], [[934830      0]\n",
      " [935064      0]\n",
      " [936874      0]\n",
      " [939435      0]\n",
      " [940782      0]]\n",
      "Ranging 25 with [57.819, 61.159] ...\n",
      "(85660, 2), [[22  0]\n",
      " [23  0]\n",
      " [24  0]\n",
      " [28  0]\n",
      " [30  0]], [[936360      0]\n",
      " [937092      0]\n",
      " [937150      0]\n",
      " [942477      0]\n",
      " [942960      0]]\n",
      "[[ 3.4028235e+38 -3.4028235e+38]\n",
      " [ 3.4028235e+38 -3.4028235e+38]\n",
      " [ 3.4028235e+38 -3.4028235e+38]]\n",
      "shape (945211,)\n",
      "dim 0\n",
      "\tnp.min(xyz[:, axis_id]) -20.433578491210938 >>>> -23.0\n",
      "\tnp.max(xyz[:, axis_id]) 19.706375122070312 >>>> 22.0\n",
      "\tself.aabb3d axis_id 0, [-23.  22.], extent 45\n",
      "dim 1\n",
      "\tnp.min(xyz[:, axis_id]) -17.857210159301758 >>>> -20.0\n",
      "\tnp.max(xyz[:, axis_id]) 21.282995223999023 >>>> 24.0\n",
      "\tself.aabb3d axis_id 1, [-20.  24.], extent 44\n",
      "dim 2\n",
      "\tnp.min(xyz[:, axis_id]) -75.08065032958984 >>>> -78.0\n",
      "\tnp.max(xyz[:, axis_id]) -0.020034153014421463 >>>> 2.0\n",
      "\tself.aabb3d axis_id 2, [-78.   2.], extent 80\n",
      "np.max(self.voxel_identifier) 153609\n",
      "np.prod(self.extent) 158400\n",
      "{np.str_('C'): array([0, 0, 0, ..., 0, 0, 0], dtype=uint64), np.str_('Cr'): array([0, 0, 0, ..., 0, 0, 0], dtype=uint64), np.str_('Cu'): array([0, 0, 0, ..., 0, 0, 0], dtype=uint64), np.str_('O'): array([0, 0, 0, ..., 0, 0, 0], dtype=uint64), np.str_('Si'): array([0, 0, 0, ..., 0, 0, 0], dtype=uint64)}\n",
      "{np.str_('C'): 0, np.str_('Cr'): 1, np.str_('Cu'): 2, np.str_('O'): 3, np.str_('Si'): 4}\n",
      "ion1, ('Si ++', np.uint8(1), array([13.8745, 14.241 ])):\n",
      "\tSi\n",
      "\t1\n",
      "\t{'Si': 1}\n",
      "ion2, ('Si +', np.uint8(2), array([27.856, 28.595])):\n",
      "\tSi\n",
      "\t1\n",
      "\t{'Si': 1}\n",
      "ion3, ('Si +', np.uint8(3), array([28.826, 29.255])):\n",
      "\tSi\n",
      "\t1\n",
      "\t{'Si': 1}\n",
      "ion4, ('Si +', np.uint8(4), array([29.783, 30.252])):\n",
      "\tSi\n",
      "\t1\n",
      "\t{'Si': 1}\n",
      "ion5, ('Si ++', np.uint8(5), array([14.407, 14.643])):\n",
      "\tSi\n",
      "\t1\n",
      "\t{'Si': 1}\n",
      "ion6, ('Si ++', np.uint8(6), array([14.912, 15.171])):\n",
      "\tSi\n",
      "\t1\n",
      "\t{'Si': 1}\n",
      "ion7, ('Cr +', np.uint8(7), array([51.699, 54.243])):\n",
      "\tCr\n",
      "\t1\n",
      "\t{'Cr': 1}\n",
      "ion8, ('Cr +', np.uint8(8), array([49.612, 50.526])):\n",
      "\tCr\n",
      "\t1\n",
      "\t{'Cr': 1}\n",
      "ion9, ('Cr ++', np.uint8(9), array([25.771, 27.211])):\n",
      "\tCr\n",
      "\t1\n",
      "\t{'Cr': 1}\n",
      "ion10, ('Cr ++', np.uint8(10), array([24.895, 25.445])):\n",
      "\tCr\n",
      "\t1\n",
      "\t{'Cr': 1}\n",
      "ion11, ('Cu +', np.uint8(11), array([62.567, 63.496])):\n",
      "\tCu\n",
      "\t1\n",
      "\t{'Cu': 1}\n",
      "ion12, ('Cu +', np.uint8(12), array([64.619, 65.548])):\n",
      "\tCu\n",
      "\t1\n",
      "\t{'Cu': 1}\n",
      "ion13, ('C +', np.uint8(13), array([11.866, 12.198])):\n",
      "\tC\n",
      "\t1\n",
      "\t{'C': 1}\n",
      "ion14, ('C ++', np.uint8(14), array([5.896, 6.193])):\n",
      "\tC\n",
      "\t1\n",
      "\t{'C': 1}\n",
      "ion15, ('O +', np.uint8(15), array([15.858, 16.48 ])):\n",
      "\tO\n",
      "\t1\n",
      "\t{'O': 1}\n",
      "ion16, ('O +', np.uint8(16), array([17.838, 18.304])):\n",
      "\tO\n",
      "\t1\n",
      "\t{'O': 1}\n",
      "ion17, ('Cr O +', np.uint8(17), array([67.622, 69.574])):\n",
      "\tCr O\n",
      "\t2\n",
      "\t{'Cr': 1, 'O': 1}\n",
      "ion18, ('Cr O +', np.uint8(18), array([69.781, 70.156])):\n",
      "\tCr O\n",
      "\t2\n",
      "\t{'Cr': 1, 'O': 1}\n",
      "ion19, ('Cr O +', np.uint8(19), array([65.76 , 66.264])):\n",
      "\tCr O\n",
      "\t2\n",
      "\t{'Cr': 1, 'O': 1}\n",
      "ion20, ('Cr O ++', np.uint8(20), array([32.892, 33.275])):\n",
      "\tCr O\n",
      "\t2\n",
      "\t{'Cr': 1, 'O': 1}\n",
      "ion21, ('Cr O ++', np.uint8(21), array([33.898, 34.802])):\n",
      "\tCr O\n",
      "\t2\n",
      "\t{'Cr': 1, 'O': 1}\n",
      "ion22, ('Cr O ++', np.uint8(22), array([34.917, 35.231])):\n",
      "\tCr O\n",
      "\t2\n",
      "\t{'Cr': 1, 'O': 1}\n",
      "ion23, ('Cr O O +', np.uint8(23), array([83.595, 86.555])):\n",
      "\tCr O O\n",
      "\t2\n",
      "\t{'Cr': 1, 'O': 2}\n",
      "ion24, ('Cr O O ++', np.uint8(24), array([41.869, 43.181])):\n",
      "\tCr O O\n",
      "\t2\n",
      "\t{'Cr': 1, 'O': 2}\n",
      "ion25, ('Cr Cr O ++', np.uint8(25), array([57.819, 61.159])):\n",
      "\tCr Cr O\n",
      "\t2\n",
      "\t{'Cr': 2, 'O': 1}\n",
      "/entry1/voxelization/element1, C\n",
      "symbol C, idx 0, np.sum(elem_cnts[symbol]) 706, np.sum(total_cnts) 706\n",
      "/entry1/voxelization/element2, Cr\n",
      "symbol Cr, idx 1, np.sum(elem_cnts[symbol]) 174852, np.sum(total_cnts) 175558\n",
      "/entry1/voxelization/element3, Cu\n",
      "symbol Cu, idx 2, np.sum(elem_cnts[symbol]) 683, np.sum(total_cnts) 176241\n",
      "/entry1/voxelization/element4, O\n",
      "symbol O, idx 3, np.sum(elem_cnts[symbol]) 89981, np.sum(total_cnts) 266222\n",
      "/entry1/voxelization/element5, Si\n",
      "symbol Si, idx 4, np.sum(elem_cnts[symbol]) 785076, np.sum(total_cnts) 1051298\n",
      "n_ions 945211\n"
     ]
    }
   ],
   "source": [
    "voxelize.run(recon_file_path=RECONSTRUCTION_AND_RANGING[0],\n",
    "             range_file_path=RECONSTRUCTION_AND_RANGING[1])"
   ]
  },
  {
   "cell_type": "code",
   "execution_count": 7,
   "id": "625f4da7-e0d4-4d37-9792-ad5fed59bb84",
   "metadata": {},
   "outputs": [
    {
     "name": "stdout",
     "output_type": "stream",
     "text": [
      "2.312 MiB\n"
     ]
    }
   ],
   "source": [
    "get_file_size(results_file_path)\n",
    "# H5Web(results_file_path)"
   ]
  },
  {
   "cell_type": "markdown",
   "id": "cfaa354a-9e4a-4529-b1c9-da6fd4165020",
   "metadata": {},
   "source": [
    "Voxelization is performed on elements not on iontypes, i.e. using a atomic decomposition!"
   ]
  },
  {
   "cell_type": "markdown",
   "id": "8617402e-fe2d-44b5-8a03-4d2ddb41296e",
   "metadata": {},
   "source": [
    "## Automated phase assignment"
   ]
  },
  {
   "cell_type": "code",
   "execution_count": 8,
   "id": "0a667aa3-e69e-4138-a4bd-5a53f14c9a7d",
   "metadata": {
    "scrolled": true
   },
   "outputs": [
    {
     "name": "stdout",
     "output_type": "stream",
     "text": [
      "Composition matrix has 5 elements\n",
      "Populating composition table for element1\n",
      "Populating composition table for element2\n",
      "Populating composition table for element3\n",
      "Populating composition table for element4\n",
      "Populating composition table for element5\n",
      "sorted_indices [5 2 4 1 3 0] in decreasing feature importance\n",
      "sorted_index, feature_importance[sorted_index]\n",
      "5, 0.8425501856917044\n",
      "2, 0.08796359545615835\n",
      "4, 0.06032072282260312\n",
      "1, 0.005201161349588438\n",
      "3, 0.003964334679945743\n",
      "0, 0.0\n"
     ]
    }
   ],
   "source": [
    "autophase = ProcessAutomatedPhaseAssignment(config_file_path, results_file_path, entry_id=1, verbose=True)\n",
    "autophase.run()"
   ]
  },
  {
   "cell_type": "code",
   "execution_count": 9,
   "id": "e0a4aa0f-2175-4006-a9e0-1f30333284ad",
   "metadata": {},
   "outputs": [
    {
     "name": "stdout",
     "output_type": "stream",
     "text": [
      "2.325 MiB\n"
     ]
    }
   ],
   "source": [
    "get_file_size(results_file_path)\n",
    "# H5Web(results_file_path)"
   ]
  },
  {
   "cell_type": "markdown",
   "id": "10373f39-6a61-4604-9631-06e4eded4e6d",
   "metadata": {},
   "source": [
    "## Segmentation PCA and IC minimization"
   ]
  },
  {
   "cell_type": "code",
   "execution_count": 10,
   "id": "f126ed5c-b107-4890-8fd2-c46c46e3bc5b",
   "metadata": {},
   "outputs": [
    {
     "name": "stdout",
     "output_type": "stream",
     "text": [
      "Composition matrix has 5 elements\n",
      "Populating composition table for element1\n",
      "Populating composition table for element2\n",
      "Populating composition table for element3\n",
      "Populating composition table for element4\n",
      "Populating composition table for element5\n",
      "Composition matrix has 5 elements\n",
      "Populating composition table for element1\n",
      "Populating composition table for element2\n",
      "Populating composition table for element3\n",
      "Populating composition table for element4\n",
      "Populating composition table for element5\n",
      "Using results with automated phase assignment\n",
      "np.shape(X_train) (158400, 2)\n",
      "GaussianMixture ML analysis with n_cluster 1\n",
      "Using results with automated phase assignment\n",
      "np.shape(X_train) (158400, 2)\n",
      "GaussianMixture ML analysis with n_cluster 2\n",
      "Using results with automated phase assignment\n",
      "np.shape(X_train) (158400, 2)\n",
      "GaussianMixture ML analysis with n_cluster 3\n",
      "Using results with automated phase assignment\n",
      "np.shape(X_train) (158400, 2)\n",
      "GaussianMixture ML analysis with n_cluster 4\n",
      "Using results with automated phase assignment\n",
      "np.shape(X_train) (158400, 2)\n",
      "GaussianMixture ML analysis with n_cluster 5\n"
     ]
    }
   ],
   "source": [
    "segmentation = ProcessSegmentation(config_file_path, results_file_path, entry_id=1, verbose=True)\n",
    "segmentation.run()"
   ]
  },
  {
   "cell_type": "code",
   "execution_count": 11,
   "id": "9b31ff53-d565-4128-a5a7-e8ffe011d07e",
   "metadata": {
    "scrolled": true
   },
   "outputs": [
    {
     "name": "stdout",
     "output_type": "stream",
     "text": [
      "2.516 MiB\n"
     ]
    }
   ],
   "source": [
    "get_file_size(results_file_path)\n",
    "# H5Web(results_file_path)"
   ]
  },
  {
   "cell_type": "markdown",
   "id": "638edaae-174c-46d7-8765-86100e76273b",
   "metadata": {},
   "source": [
    "## DBScan clustering"
   ]
  },
  {
   "cell_type": "code",
   "execution_count": 12,
   "id": "6895f918-49d0-4f9c-9c84-130fadc72867",
   "metadata": {},
   "outputs": [
    {
     "name": "stdout",
     "output_type": "stream",
     "text": [
      "DBScan configuration: eps 3 nm, min_samples 5\n",
      "['cluster_analysis0', 'cluster_analysis1', 'cluster_analysis2', 'cluster_analysis3', 'cluster_analysis4', 'result', 'sequence_index']\n",
      "cluster_analysis0\n",
      "ic_run_id 0 >>>>\n",
      "np.shape(all_vxl_pos) (158400, 3) list(set(phase_identifier) [np.uint64(0)]\n",
      "\tLoop 0\n",
      "\tnp.shape(trg_vxl_pos) (158400, 3)\n",
      "\tnp.shape(trg_vxl_idx) (158400,)\n",
      "\t1\n",
      "\ttype(db.labels_) <class 'numpy.ndarray'> dtype int64\n",
      "[0]\n",
      "cluster_analysis1\n",
      "ic_run_id 1 >>>>\n",
      "np.shape(all_vxl_pos) (158400, 3) list(set(phase_identifier) [np.uint64(0), np.uint64(1)]\n",
      "\tLoop 0\n",
      "\tnp.shape(trg_vxl_pos) (110080, 3)\n",
      "\tnp.shape(trg_vxl_idx) (110080,)\n",
      "\t1\n",
      "\ttype(db.labels_) <class 'numpy.ndarray'> dtype int64\n",
      "[0]\n",
      "\tLoop 1\n",
      "\tnp.shape(trg_vxl_pos) (48320, 3)\n",
      "\tnp.shape(trg_vxl_idx) (48320,)\n",
      "\t1\n",
      "\ttype(db.labels_) <class 'numpy.ndarray'> dtype int64\n",
      "[0]\n",
      "cluster_analysis2\n",
      "ic_run_id 2 >>>>\n",
      "np.shape(all_vxl_pos) (158400, 3) list(set(phase_identifier) [np.uint64(0), np.uint64(1), np.uint64(2)]\n",
      "\tLoop 0\n",
      "\tnp.shape(trg_vxl_pos) (110080, 3)\n",
      "\tnp.shape(trg_vxl_idx) (110080,)\n",
      "\t1\n",
      "\ttype(db.labels_) <class 'numpy.ndarray'> dtype int64\n",
      "[0]\n",
      "\tLoop 1\n",
      "\tnp.shape(trg_vxl_pos) (39046, 3)\n",
      "\tnp.shape(trg_vxl_idx) (39046,)\n",
      "\t2\n",
      "\ttype(db.labels_) <class 'numpy.ndarray'> dtype int64\n",
      "[-1  0]\n",
      "\tLoop 2\n",
      "\tnp.shape(trg_vxl_pos) (9274, 3)\n",
      "\tnp.shape(trg_vxl_idx) (9274,)\n",
      "\t2\n",
      "\ttype(db.labels_) <class 'numpy.ndarray'> dtype int64\n",
      "[-1  0]\n",
      "cluster_analysis3\n",
      "ic_run_id 3 >>>>\n",
      "np.shape(all_vxl_pos) (158400, 3) list(set(phase_identifier) [np.uint64(0), np.uint64(1), np.uint64(2), np.uint64(3)]\n",
      "\tLoop 0\n",
      "\tnp.shape(trg_vxl_pos) (110080, 3)\n",
      "\tnp.shape(trg_vxl_idx) (110080,)\n",
      "\t1\n",
      "\ttype(db.labels_) <class 'numpy.ndarray'> dtype int64\n",
      "[0]\n",
      "\tLoop 1\n",
      "\tnp.shape(trg_vxl_pos) (39046, 3)\n",
      "\tnp.shape(trg_vxl_idx) (39046,)\n",
      "\t2\n",
      "\ttype(db.labels_) <class 'numpy.ndarray'> dtype int64\n",
      "[-1  0]\n",
      "\tLoop 2\n",
      "\tnp.shape(trg_vxl_pos) (4339, 3)\n",
      "\tnp.shape(trg_vxl_idx) (4339,)\n",
      "\t2\n",
      "\ttype(db.labels_) <class 'numpy.ndarray'> dtype int64\n",
      "[-1  0]\n",
      "\tLoop 3\n",
      "\tnp.shape(trg_vxl_pos) (4935, 3)\n",
      "\tnp.shape(trg_vxl_idx) (4935,)\n",
      "\t2\n",
      "\ttype(db.labels_) <class 'numpy.ndarray'> dtype int64\n",
      "[-1  0]\n",
      "cluster_analysis4\n",
      "ic_run_id 4 >>>>\n",
      "np.shape(all_vxl_pos) (158400, 3) list(set(phase_identifier) [np.uint64(0), np.uint64(1), np.uint64(2), np.uint64(3), np.uint64(4)]\n",
      "\tLoop 0\n",
      "\tnp.shape(trg_vxl_pos) (110080, 3)\n",
      "\tnp.shape(trg_vxl_idx) (110080,)\n",
      "\t1\n",
      "\ttype(db.labels_) <class 'numpy.ndarray'> dtype int64\n",
      "[0]\n",
      "\tLoop 1\n",
      "\tnp.shape(trg_vxl_pos) (39046, 3)\n",
      "\tnp.shape(trg_vxl_idx) (39046,)\n",
      "\t2\n",
      "\ttype(db.labels_) <class 'numpy.ndarray'> dtype int64\n",
      "[-1  0]\n",
      "\tLoop 2\n",
      "\tnp.shape(trg_vxl_pos) (1183, 3)\n",
      "\tnp.shape(trg_vxl_idx) (1183,)\n",
      "\t5\n",
      "\ttype(db.labels_) <class 'numpy.ndarray'> dtype int64\n",
      "[-1  0  1  2  3]\n",
      "\tLoop 3\n",
      "\tnp.shape(trg_vxl_pos) (4194, 3)\n",
      "\tnp.shape(trg_vxl_idx) (4194,)\n",
      "\t2\n",
      "\ttype(db.labels_) <class 'numpy.ndarray'> dtype int64\n",
      "[-1  0]\n",
      "\tLoop 4\n",
      "\tnp.shape(trg_vxl_pos) (3897, 3)\n",
      "\tnp.shape(trg_vxl_idx) (3897,)\n",
      "\t2\n",
      "\ttype(db.labels_) <class 'numpy.ndarray'> dtype int64\n",
      "[-1  0]\n",
      "result\n",
      "sequence_index\n"
     ]
    }
   ],
   "source": [
    "clustering = ProcessClustering(config_file_path, results_file_path, entry_id=1, verbose=True)\n",
    "clustering.run()"
   ]
  },
  {
   "cell_type": "markdown",
   "id": "ce8920e3-cc0e-444b-8117-dc3cfc5d1bee",
   "metadata": {},
   "source": [
    "## Default plotting to explore the results using HDF5/XDMF via Paraview"
   ]
  },
  {
   "cell_type": "code",
   "execution_count": 14,
   "id": "cd535b6c-6bbd-45d5-95df-42e2f25976eb",
   "metadata": {},
   "outputs": [
    {
     "name": "stdout",
     "output_type": "stream",
     "text": [
      "Inspecting /home/kaiobach/Research/hu_hu_hu/sprint22/compspace-mpie-remaining-fixes/CompositionSpace/tests/CompositionSpace.Results.1.nxs...\n",
      "Found dimensionality, uint64, (), 3\n",
      "Found extent, uint64, (3,), [45 44 80]\n",
      "Found origin, float64, (3,), [-23. -20. -78.]\n",
      "Found cell_dimensions, float64, (3,), [1. 1. 1.]\n"
     ]
    }
   ],
   "source": [
    "generate_xdmf_for_visualizing_content(results_file_path)"
   ]
  },
  {
   "cell_type": "code",
   "execution_count": null,
   "id": "8733526f-dd39-4970-a994-a38371b79301",
   "metadata": {},
   "outputs": [],
   "source": [
    "Image(f\"CompositionSpace.Results.{simid}.nxs.xdmf.png\")"
   ]
  },
  {
   "cell_type": "markdown",
   "id": "cb7cbc9c-6be1-46ab-911f-c03b93d728c7",
   "metadata": {},
   "source": [
    "This example of a screenshot of interactive visualization was created with https://www.paraview.org/.<br>\n",
    "For achieving this drag-and-drop the XDMF file into Paraview. Note that the original location of the<br>\n",
    "HDF5 file where the results are stored (the heavy data) is coded with absolute paths in XDMF.<br>\n",
    "Make sure to choose the legacy \"XDMFReader\", i.e. not the \"XdmfReader3 S\" or \"XdmfReader3 T\" readers!<br>"
   ]
  },
  {
   "cell_type": "markdown",
   "id": "82b20137-ed63-4eee-a336-c2fb45f5fd6b",
   "metadata": {},
   "source": [
    "## Inspect the results interactively with H5Web"
   ]
  },
  {
   "cell_type": "code",
   "execution_count": 18,
   "id": "44223976-9a66-4330-a414-79bf0847355b",
   "metadata": {},
   "outputs": [
    {
     "name": "stdout",
     "output_type": "stream",
     "text": [
      "3.923 MiB\n"
     ]
    },
    {
     "data": {
      "application/x-hdf5": "/home/kaiobach/Research/hu_hu_hu/sprint22/compspace-mpie-remaining-fixes/CompositionSpace/tests/CompositionSpace.Results.1.nxs",
      "text/plain": [
       "<jupyterlab_h5web.widget.H5Web object>"
      ]
     },
     "execution_count": 18,
     "metadata": {},
     "output_type": "execute_result"
    }
   ],
   "source": [
    "get_file_size(results_file_path)\n",
    "H5Web(results_file_path)"
   ]
  },
  {
   "cell_type": "markdown",
   "id": "a26ddf84-6976-4360-a1c6-b74cfb4e4b1d",
   "metadata": {},
   "source": [
    "## Correlation plots"
   ]
  },
  {
   "cell_type": "markdown",
   "id": "f16a2fcd-99aa-4e10-85e6-427d8b07a8fc",
   "metadata": {},
   "source": [
    "As were exemplified by A. Saxena here https://github.com/Alaukiksaxena/CompositionSpaceNFDI/commit/44a81ffe9e9bd994f41e1c501b9d1630f7dcf019"
   ]
  },
  {
   "cell_type": "markdown",
   "id": "b2c4acc3-a2b1-4faa-bccd-b3eee80729bc",
   "metadata": {},
   "source": [
    "## Meshing"
   ]
  },
  {
   "cell_type": "markdown",
   "id": "9ce2de83-7b43-4afc-a7eb-d6201e06e323",
   "metadata": {},
   "source": [
    "Use MeshAnalysis.ipynb"
   ]
  },
  {
   "cell_type": "code",
   "execution_count": null,
   "id": "04f6e157-5bfd-4df2-ac30-a9ab033aa475",
   "metadata": {},
   "outputs": [],
   "source": []
  }
 ],
 "metadata": {
  "kernelspec": {
   "display_name": "Python 3 (ipykernel)",
   "language": "python",
   "name": "python3"
  },
  "language_info": {
   "codemirror_mode": {
    "name": "ipython",
    "version": 3
   },
   "file_extension": ".py",
   "mimetype": "text/x-python",
   "name": "python",
   "nbconvert_exporter": "python",
   "pygments_lexer": "ipython3",
   "version": "3.12.4"
  }
 },
 "nbformat": 4,
 "nbformat_minor": 5
}
