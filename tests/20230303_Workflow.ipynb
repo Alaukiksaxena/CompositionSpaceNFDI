{
 "cells": [
  {
   "cell_type": "markdown",
   "metadata": {},
   "source": [
    "# Import general libraries\n"
   ]
  },
  {
   "cell_type": "code",
   "execution_count": 1,
   "metadata": {},
   "outputs": [],
   "source": [
    "# Import libraries\n",
    "import sys\n",
    "import os\n",
    "import json \n",
    "import pandas as pd\n",
    "import matplotlib.pylab as plt"
   ]
  },
  {
   "cell_type": "markdown",
   "metadata": {},
   "source": [
    "# Import tools"
   ]
  },
  {
   "cell_type": "code",
   "execution_count": 2,
   "metadata": {},
   "outputs": [],
   "source": [
    "from compositionspace.datautils import DataPreparation\n",
    "from compositionspace.segmentation import CompositionClustering\n",
    "from compositionspace.postprocessing import DataPostprocess"
   ]
  },
  {
   "cell_type": "markdown",
   "metadata": {},
   "source": [
    "### Read the inputs (experiment parameters)"
   ]
  },
  {
   "cell_type": "markdown",
   "metadata": {},
   "source": [
    "# 1. Pre-processing\n",
    "\n",
    "* Reading the reconstruction data (spatial coordintes of ions)(.APT, .POS, .csv)\n",
    "* Reading range file (.rrng)\n",
    "* concacting chemical species to each ion using the mass to charge ratio ranges from the range file(.rrng).\n",
    "* Spatially discretize the reconstructed data into slices. (Especially useful if the original data is very large)\n",
    "* Voxelize each slice\n",
    "* Calculate the composition of each voxel( in atomic fraction)\n",
    "\n",
    "A. Input defined in \"experiment_params.yaml\" \n",
    "*  **input_path: tests/datapath** \n",
    "*  **n_big_slices: 10**: Number of slices perpendicular to axis of reconstructed data\n",
    "*  **voxel_size: 2**: Voxel size(cube) in nm\n",
    "*  input path must contain .APT(or.POS, .csv) and .rrng\n",
    "\n",
    "B. Output defined in \"experiment_params.yaml\"\n",
    "*  **output_path: output**\n",
    "*  get_big_slices>>(.h5) : \n",
    "    1. Atomic coordinates in each slice (x,y,z)\n",
    "    2. Chemical identities per atom (Da, spec)\n",
    "    3. Atributes : coloumns, mass to charge states ,type of chemical species\n",
    "* get_voxels>>(.h5):\n",
    "    1. Atomic coordinates in each voxel(x,y,z)\n",
    "    2. Chemical identities per atom (spec)\n",
    "    3. Atributes : coloumns, type of chemical species, Total number of voxels\n",
    "* calculate_voxel_composition>>(.h5):\n",
    "    1. Coordinates of each voxel centroid (x,y,z)\n",
    "    2. atomic fraction of each chemical species \n",
    "\n"
   ]
  },
  {
   "cell_type": "code",
   "execution_count": 5,
   "metadata": {
    "tags": []
   },
   "outputs": [
    {
     "data": {
      "application/vnd.jupyter.widget-view+json": {
       "model_id": "b64b0c5f24f144b490ce165900b6fa87",
       "version_major": 2,
       "version_minor": 0
      },
      "text/plain": [
       "Reading files:   0%|          | 0/2 [00:00<?, ?it/s]"
      ]
     },
     "metadata": {},
     "output_type": "display_data"
    },
    {
     "data": {
      "application/vnd.jupyter.widget-view+json": {
       "model_id": "1a599850aef2440fb137a82ed2f879df",
       "version_major": 2,
       "version_minor": 0
      },
      "text/plain": [
       "Creating chunks:   0%|          | 0/10 [00:00<?, ?it/s]"
      ]
     },
     "metadata": {},
     "output_type": "display_data"
    },
    {
     "data": {
      "application/vnd.jupyter.widget-view+json": {
       "model_id": "3fe62b3a72fa4cc4b901ad198b4ef008",
       "version_major": 2,
       "version_minor": 0
      },
      "text/plain": [
       "Getting Voxels:   0%|          | 0/10 [00:00<?, ?it/s]"
      ]
     },
     "metadata": {},
     "output_type": "display_data"
    },
    {
     "data": {
      "application/vnd.jupyter.widget-view+json": {
       "model_id": "07528462143642dba30c75f7fed5aa12",
       "version_major": 2,
       "version_minor": 0
      },
      "text/plain": [
       "Calculating voxel composition:   0%|          | 0/8846 [00:00<?, ?it/s]"
      ]
     },
     "metadata": {},
     "output_type": "display_data"
    }
   ],
   "source": [
    "data = DataPreparation(\"experiment_params.yaml\")\n",
    "data.get_big_slices()\n",
    "data.get_voxels()\n",
    "data.calculate_voxel_composition()"
   ]
  },
  {
   "cell_type": "code",
   "execution_count": 6,
   "metadata": {},
   "outputs": [
    {
     "data": {
      "text/plain": [
       "['output/file_R31_06365-v02_pos_large_chunks_arr.h5']"
      ]
     },
     "execution_count": 6,
     "metadata": {},
     "output_type": "execute_result"
    }
   ],
   "source": [
    "data.chunk_files"
   ]
  },
  {
   "cell_type": "code",
   "execution_count": 6,
   "metadata": {},
   "outputs": [
    {
     "data": {
      "text/plain": [
       "['output/file_R31_06365-v02_pos_small_chunks_arr.h5']"
      ]
     },
     "execution_count": 6,
     "metadata": {},
     "output_type": "execute_result"
    }
   ],
   "source": [
    "data.voxel_files"
   ]
  },
  {
   "cell_type": "code",
   "execution_count": 8,
   "metadata": {},
   "outputs": [
    {
     "data": {
      "text/plain": [
       "'output/output_vox_ratio_composition.h5'"
      ]
     },
     "execution_count": 8,
     "metadata": {},
     "output_type": "execute_result"
    }
   ],
   "source": [
    "data.voxel_ratio_file"
   ]
  },
  {
   "cell_type": "markdown",
   "metadata": {},
   "source": [
    "# 2. Clustering in composition space\n",
    "\n",
    "* Calculate contribution of each species towards variance in composition (using PCA)(Also helps to guage importance of a certain chemical species in the data)\n",
    "\n",
    "* For a certain clustering algorithm perform minimisation of BIC and AIC (to guage model complexity vs information) (to get the optimum number of clusters)\n",
    "* Use Gaussian mixture models (GMM) to perform clustering in composition space with the number of clusters from the previous step. \n",
    "\n",
    "A. Input defined in \"experiment_params.yaml\" \n",
    "*  **bics_clusters: 10**: Number of clusters for which bics/aics is calculated\n",
    "*  **n_phases: 2**: number of phases based on bics elbow critieria\n",
    "*  **GaussianMixture: n_components:2 max_iter: 100000 ** : GMM is used for clustering with 2 components(n_components), The number of EM iterations to perform (max_iter) \n",
    "\n",
    "B. Output defined in \"experiment_params.yaml\"\n",
    "*  **output_path: output**\n",
    "\n",
    "*  get_PCA_cumsum>>(.jpg) : \n",
    "    * Explained variance vs Dimensions\n",
    "\n",
    "* get_bics_minimization>>(.jpg):\n",
    "    * Bic/Aic vs number of clusters\n",
    "* get_composition_clusters>>(.h5):\n",
    "    * Voxel positions and compostion (per phase)\n",
    "* generate_plots>>(.vtu):\n",
    "    * 3D Plots of voxel position per phase in real space \n",
    "\n",
    "\n"
   ]
  },
  {
   "cell_type": "code",
   "execution_count": 9,
   "metadata": {
    "tags": []
   },
   "outputs": [
    {
     "name": "stdout",
     "output_type": "stream",
     "text": [
      "8846\n",
      "['0', '1', '2', '3', '4', '5', '6', '7', '8', '9', '10', '11', '12', '13', '14', '15', '16', '17', '18', '19', '20', '21', '22', '23', '24', '25', '26', 'Total_no', 'vox']\n"
     ]
    },
    {
     "data": {
      "image/png": "[encoded data removed]",
      "text/plain": [
       "<Figure size 500x500 with 1 Axes>"
      ]
     },
     "metadata": {},
     "output_type": "display_data"
    }
   ],
   "source": [
    "comps = CompositionClustering(\"experiment_params.yaml\")\n",
    "res = comps.get_PCA_cumsum(data.voxel_ratio_file, data.voxel_files[0])"
   ]
  },
  {
   "cell_type": "code",
   "execution_count": 10,
   "metadata": {
    "tags": []
   },
   "outputs": [
    {
     "data": {
      "application/vnd.jupyter.widget-view+json": {
       "model_id": "99464512a9084399b597c28ed9c758cc",
       "version_major": 2,
       "version_minor": 0
      },
      "text/plain": [
       "Clustering:   0%|          | 0/9 [00:00<?, ?it/s]"
      ]
     },
     "metadata": {},
     "output_type": "display_data"
    },
    {
     "data": {
      "image/png": "[encoded data removed]",
      "text/plain": [
       "<Figure size 640x480 with 1 Axes>"
      ]
     },
     "metadata": {},
     "output_type": "display_data"
    }
   ],
   "source": [
    "res = comps.get_bics_minimization(data.voxel_ratio_file, data.voxel_files[0])"
   ]
  },
  {
   "cell_type": "code",
   "execution_count": 11,
   "metadata": {
    "tags": []
   },
   "outputs": [],
   "source": [
    "comps.get_composition_clusters(data.voxel_ratio_file, data.voxel_files[0])"
   ]
  },
  {
   "cell_type": "code",
   "execution_count": 12,
   "metadata": {},
   "outputs": [],
   "source": [
    "comps.generate_plots()"
   ]
  },
  {
   "cell_type": "markdown",
   "metadata": {},
   "source": [
    "# 3. Postprocessing\n",
    "* Clean the precipitates/chemical domains of diffrent phases from the noisy voxels\n",
    "* Segment out each precipitate in 3D \n",
    "\n",
    "A. Input defined in \"experiment_params.yaml\" \n",
    "\n",
    "*  **DBScan: eps: 3 min_samples: 5** : DBScan is used for clustering with core radius(eps) and minmum data points in the radius as  min_samples\n",
    "\n",
    "B. Output defined in \"experiment_params.yaml\"\n",
    "*  **output_path: output**\n",
    "\n",
    "*  DBSCAN_clustering>>(.jpg, .vtu, .h5) : \n",
    "    1. Clustering histogram for a given value of eps and min_samples (.jpg)\n",
    "    2. Different precipitates voxels centroids (x,y,z) are stored (.h5)\n",
    "    3. Precipitates are visualised using parview (.vtu)\n",
    "\n"
   ]
  },
  {
   "cell_type": "code",
   "execution_count": 13,
   "metadata": {},
   "outputs": [],
   "source": [
    "pdata = DataPostprocess(\"experiment_params.yaml\")"
   ]
  },
  {
   "cell_type": "code",
   "execution_count": 14,
   "metadata": {
    "jupyter": {
     "outputs_hidden": true
    },
    "tags": []
   },
   "outputs": [
    {
     "data": {
      "application/vnd.jupyter.widget-view+json": {
       "model_id": "32c013dd7cc9409083738a77761edc79",
       "version_major": 2,
       "version_minor": 0
      },
      "text/plain": [
       "  0%|          | 0/31 [00:00<?, ?it/s]"
      ]
     },
     "metadata": {},
     "output_type": "display_data"
    },
    {
     "data": {
      "image/png": "[encoded data removed]",
      "text/plain": [
       "<Figure size 640x480 with 1 Axes>"
      ]
     },
     "metadata": {},
     "output_type": "display_data"
    }
   ],
   "source": [
    "pdata.DBSCAN_clustering(comps.voxel_centroid_output_file, cluster_id = 0,\n",
    "                        plot=True, plot3d=True, save=True)"
   ]
  },
  {
   "cell_type": "code",
   "execution_count": null,
   "id": "fb6414fa",
   "metadata": {},
   "outputs": [],
   "source": []
  }
 ],
 "metadata": {
  "kernelspec": {
   "display_name": "Python 3",
   "language": "python",
   "name": "python3"
  },
  "language_info": {
   "codemirror_mode": {
    "name": "ipython",
    "version": 3
   },
   "file_extension": ".py",
   "mimetype": "text/x-python",
   "name": "python",
   "nbconvert_exporter": "python",
   "pygments_lexer": "ipython3",
   "version": "3.12.2"
  }
 },
 "nbformat": 4,
 "nbformat_minor": 5
}
