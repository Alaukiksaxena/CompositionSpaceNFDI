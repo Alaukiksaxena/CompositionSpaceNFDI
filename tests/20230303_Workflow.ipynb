{
 "cells": [
  {
   "cell_type": "markdown",
   "metadata": {},
   "source": [
    "# Import general libraries\n"
   ]
  },
  {
   "cell_type": "code",
   "execution_count": 1,
   "id": "1f1cde7e",
   "metadata": {},
   "outputs": [],
   "source": [
    "# Import libraries\n",
    "import sys\n",
    "import os\n",
    "import json \n",
    "import pandas as pd\n",
    "import matplotlib.pylab as plt\n"
   ]
  },
  {
   "cell_type": "code",
   "execution_count": 2,
   "id": "e40bd0fb",
   "metadata": {},
   "outputs": [
    {
     "name": "stdout",
     "output_type": "stream",
     "text": [
      "Current directory : /Users/alaukiksaxena/Calculations/20240625_Nfdi/CompositionSpaceNFDI/tests\n",
      "Changed to directory : /Users/alaukiksaxena/Calculations/20240625_Nfdi/CompositionSpaceNFDI\n"
     ]
    }
   ],
   "source": [
    "print(\"Current directory :\", os.getcwd())\n",
    "test_directory = os.getcwd()\n",
    "os.chdir(\"./..\")\n",
    "print(\"Changed to directory :\", os.getcwd())"
   ]
  },
  {
   "cell_type": "markdown",
   "id": "5700e06d",
   "metadata": {},
   "source": [
    "# Import tools"
   ]
  },
  {
   "cell_type": "code",
   "execution_count": 3,
   "id": "495168f1",
   "metadata": {},
   "outputs": [],
   "source": [
    "from compositionspace.datautils import DataPreparation\n",
    "from compositionspace.segmentation import CompositionClustering\n",
    "from compositionspace.postprocessing import DataPostprocess"
   ]
  },
  {
   "cell_type": "markdown",
   "id": "3b2d4446",
   "metadata": {},
   "source": [
    "### Read the inputs (experiment parameters)"
   ]
  },
  {
   "cell_type": "markdown",
   "id": "14e682b7",
   "metadata": {},
   "source": [
    "# 1. Pre-processing\n",
    "\n",
    "* Reading the reconstruction data (spatial coordintes of ions)(.APT, .POS, .csv)\n",
    "* Reading range file (.rrng)\n",
    "* concacting chemical species to each ion using the mass to charge ratio ranges from the range file(.rrng).\n",
    "* Spatially discretize the reconstructed data into slices. (Especially useful if the original data is very large)\n",
    "* Voxelize each slice\n",
    "* Calculate the composition of each voxel( in atomic fraction)\n",
    "\n",
    "A. Input defined in \"experiment_params.yaml\" \n",
    "*  **input_path: tests/datapath** \n",
    "*  **n_big_slices: 10**: Number of slices perpendicular to axis of reconstructed data\n",
    "*  **voxel_size: 2**: Voxel size(cube) in nm\n",
    "*  input path must contain .APT(or.POS, .csv) and .rrng\n",
    "\n",
    "B. Output defined in \"experiment_params.yaml\"\n",
    "*  **output_path: output**\n",
    "*  get_big_slices>>(.h5) : \n",
    "    1. Atomic coordinates in each slice (x,y,z)\n",
    "    2. Chemical identities per atom (Da, spec)\n",
    "    3. Atributes : coloumns, mass to charge states ,type of chemical species\n",
    "* get_voxels>>(.h5):\n",
    "    1. Atomic coordinates in each voxel(x,y,z)\n",
    "    2. Chemical identities per atom (spec)\n",
    "    3. Atributes : coloumns, type of chemical species, Total number of voxels\n",
    "* calculate_voxel_composition>>(.h5):\n",
    "    1. Coordinates of each voxel centroid (x,y,z)\n",
    "    2. atomic fraction of each chemical species \n",
    "\n"
   ]
  },
  {
   "cell_type": "code",
   "execution_count": 4,
   "id": "9928551e",
   "metadata": {
    "tags": []
   },
   "outputs": [
    {
     "data": {
      "application/vnd.jupyter.widget-view+json": {
       "model_id": "6fa49f05653c46b89a30e4252f02c585",
       "version_major": 2,
       "version_minor": 0
      },
      "text/plain": [
       "Reading files:   0%|          | 0/2 [00:00<?, ?it/s]"
      ]
     },
     "metadata": {},
     "output_type": "display_data"
    },
    {
     "data": {
      "application/vnd.jupyter.widget-view+json": {
       "model_id": "87f832292b9e4e85ad99047902656fad",
       "version_major": 2,
       "version_minor": 0
      },
      "text/plain": [
       "Creating chunks:   0%|          | 0/10 [00:00<?, ?it/s]"
      ]
     },
     "metadata": {},
     "output_type": "display_data"
    },
    {
     "data": {
      "application/vnd.jupyter.widget-view+json": {
       "model_id": "ae577838e0944354b7ec0d2006332762",
       "version_major": 2,
       "version_minor": 0
      },
      "text/plain": [
       "Getting Voxels:   0%|          | 0/10 [00:00<?, ?it/s]"
      ]
     },
     "metadata": {},
     "output_type": "display_data"
    },
    {
     "data": {
      "application/vnd.jupyter.widget-view+json": {
       "model_id": "8e8fc4a452ed42f0a87783c00ef14f30",
       "version_major": 2,
       "version_minor": 0
      },
      "text/plain": [
       "Calculating voxel composition:   0%|          | 0/8846 [00:00<?, ?it/s]"
      ]
     },
     "metadata": {},
     "output_type": "display_data"
    }
   ],
   "source": [
    "data = DataPreparation(test_directory + \"/experiment_params.yaml\")\n",
    "data.get_big_slices()\n",
    "data.get_voxels()\n",
    "data.calculate_voxel_composition()"
   ]
  },
  {
   "cell_type": "markdown",
   "id": "36a16f76",
   "metadata": {},
   "source": []
  },
  {
   "cell_type": "code",
   "execution_count": 5,
   "id": "b77379ab",
   "metadata": {},
   "outputs": [
    {
     "data": {
      "text/plain": [
       "['output/file_R31_06365-v02_pos_large_chunks_arr.h5']"
      ]
     },
     "execution_count": 5,
     "metadata": {},
     "output_type": "execute_result"
    }
   ],
   "source": [
    "data.chunk_files"
   ]
  },
  {
   "cell_type": "code",
   "execution_count": 6,
   "id": "914b7036",
   "metadata": {},
   "outputs": [
    {
     "data": {
      "text/plain": [
       "['output/file_R31_06365-v02_pos_small_chunks_arr.h5']"
      ]
     },
     "execution_count": 6,
     "metadata": {},
     "output_type": "execute_result"
    }
   ],
   "source": [
    "data.voxel_files"
   ]
  },
  {
   "cell_type": "code",
   "execution_count": 7,
   "id": "7d46f427",
   "metadata": {},
   "outputs": [
    {
     "data": {
      "text/plain": [
       "'output/output_vox_ratio_composition.h5'"
      ]
     },
     "execution_count": 7,
     "metadata": {},
     "output_type": "execute_result"
    }
   ],
   "source": [
    "data.voxel_ratio_file"
   ]
  },
  {
   "cell_type": "markdown",
   "id": "1bff4c92",
   "metadata": {},
   "source": [
    "# 2. Clustering in composition space\n",
    "\n",
    "* Calculate contribution of each species towards variance in composition (using PCA)(Also helps to guage importance of a certain chemical species in the data)\n",
    "\n",
    "* For a certain clustering algorithm perform minimisation of BIC and AIC (to guage model complexity vs information) (to get the optimum number of clusters)\n",
    "* Use Gaussian mixture models (GMM) to perform clustering in composition space with the number of clusters from the previous step. \n",
    "\n",
    "A. Input defined in \"experiment_params.yaml\" \n",
    "*  **bics_clusters: 10**: Number of clusters for which bics/aics is calculated\n",
    "*  **n_phases: 2**: number of phases based on bics elbow critieria\n",
    "*  **GaussianMixture: n_components:2 max_iter: 100000 ** : GMM is used for clustering with 2 components(n_components), The number of EM iterations to perform (max_iter) \n",
    "\n",
    "B. Output defined in \"experiment_params.yaml\"\n",
    "*  **output_path: output**\n",
    "\n",
    "*  get_PCA_cumsum>>(.jpg) : \n",
    "    * Explained variance vs Dimensions\n",
    "\n",
    "* get_bics_minimization>>(.jpg):\n",
    "    * Bic/Aic vs number of clusters\n",
    "* get_composition_clusters>>(.h5):\n",
    "    * Voxel positions and compostion (per phase)\n",
    "* generate_plots>>(.vtu):\n",
    "    * 3D Plots of voxel position per phase in real space \n",
    "\n",
    "\n"
   ]
  },
  {
   "cell_type": "code",
   "execution_count": 8,
   "id": "9a232bf5",
   "metadata": {
    "tags": []
   },
   "outputs": [
    {
     "name": "stdout",
     "output_type": "stream",
     "text": [
      "8846\n",
      "['0', '1', '2', '3', '4', '5', '6', '7', '8', '9', '10', '11', '12', '13', '14', '15', '16', '17', '18', '19', '20', '21', '22', '23', '24', '25', '26', 'Total_no', 'vox']\n"
     ]
    },
    {
     "data": {
      "image/png": "[encoded data removed]",
      "text/plain": [
       "<Figure size 500x500 with 1 Axes>"
      ]
     },
     "metadata": {},
     "output_type": "display_data"
    }
   ],
   "source": [
    "comps = CompositionClustering(test_directory + \"/experiment_params.yaml\")\n",
    "res = comps.get_PCA_cumsum(data.voxel_ratio_file, data.voxel_files[0])"
   ]
  },
  {
   "cell_type": "code",
   "execution_count": 9,
   "id": "4234e10a",
   "metadata": {
    "tags": []
   },
   "outputs": [
    {
     "data": {
      "application/vnd.jupyter.widget-view+json": {
       "model_id": "2f815c601d194d17a81d50c77b648030",
       "version_major": 2,
       "version_minor": 0
      },
      "text/plain": [
       "Clustering:   0%|          | 0/9 [00:00<?, ?it/s]"
      ]
     },
     "metadata": {},
     "output_type": "display_data"
    },
    {
     "data": {
      "image/png": "[encoded data removed]",
      "text/plain": [
       "<Figure size 640x480 with 1 Axes>"
      ]
     },
     "metadata": {},
     "output_type": "display_data"
    }
   ],
   "source": [
    "res = comps.get_bics_minimization(data.voxel_ratio_file, data.voxel_files[0])"
   ]
  },
  {
   "cell_type": "code",
   "execution_count": 10,
   "id": "2a1081ef",
   "metadata": {
    "tags": []
   },
   "outputs": [],
   "source": [
    "comps.get_composition_clusters(data.voxel_ratio_file, data.voxel_files[0])"
   ]
  },
  {
   "cell_type": "code",
   "execution_count": 11,
   "id": "c0cc67c1",
   "metadata": {},
   "outputs": [],
   "source": [
    "comps.generate_plots()"
   ]
  },
  {
   "cell_type": "markdown",
   "id": "9308031c",
   "metadata": {},
   "source": [
    "# 3. Postprocessing\n",
    "* Clean the precipitates/chemical domains of diffrent phases from the noisy voxels\n",
    "* Segment out each precipitate in 3D \n",
    "\n",
    "A. Input defined in \"experiment_params.yaml\" \n",
    "\n",
    "*  **DBScan: eps: 3 min_samples: 5** : DBScan is used for clustering with core radius(eps) and minmum data points in the radius as  min_samples\n",
    "\n",
    "B. Output defined in \"experiment_params.yaml\"\n",
    "*  **output_path: output**\n",
    "\n",
    "*  DBSCAN_clustering>>(.jpg, .vtu, .h5) : \n",
    "    1. Clustering histogram for a given value of eps and min_samples (.jpg)\n",
    "    2. Different precipitates voxels centroids (x,y,z) are stored (.h5)\n",
    "    3. Precipitates are visualised using parview (.vtu)\n",
    "\n"
   ]
  },
  {
   "cell_type": "code",
   "execution_count": 12,
   "id": "626c4093",
   "metadata": {},
   "outputs": [],
   "source": [
    "pdata = DataPostprocess(test_directory + \"/experiment_params.yaml\")"
   ]
  },
  {
   "cell_type": "code",
   "execution_count": 13,
   "id": "2d47c300",
   "metadata": {
    "jupyter": {
     "outputs_hidden": true
    },
    "tags": []
   },
   "outputs": [
    {
     "data": {
      "application/vnd.jupyter.widget-view+json": {
       "model_id": "54ff77dca6f648599ca37f4405e77731",
       "version_major": 2,
       "version_minor": 0
      },
      "text/plain": [
       "  0%|          | 0/31 [00:00<?, ?it/s]"
      ]
     },
     "metadata": {},
     "output_type": "display_data"
    },
    {
     "data": {
      "image/png": "[encoded data removed]",
      "text/plain": [
       "<Figure size 640x480 with 1 Axes>"
      ]
     },
     "metadata": {},
     "output_type": "display_data"
    }
   ],
   "source": [
    "pdata.DBSCAN_clustering(comps.voxel_centroid_output_file, cluster_id = 0,\n",
    "                        plot=True, plot3d=True, save=True)"
   ]
  },
  {
   "cell_type": "code",
   "execution_count": null,
   "id": "9e274e4d",
   "metadata": {},
   "outputs": [],
   "source": []
  }
 ],
 "metadata": {
  "kernelspec": {
   "display_name": "Python 3",
   "language": "python",
   "name": "python3"
  },
  "language_info": {
   "codemirror_mode": {
    "name": "ipython",
    "version": 3
   },
   "file_extension": ".py",
   "mimetype": "text/x-python",
   "name": "python",
   "nbconvert_exporter": "python",
   "pygments_lexer": "ipython3",
   "version": "3.7.3"
  }
 },
 "nbformat": 4,
 "nbformat_minor": 5
}
