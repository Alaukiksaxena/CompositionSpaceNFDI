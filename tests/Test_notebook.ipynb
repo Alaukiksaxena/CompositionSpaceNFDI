{
 "cells": [
  {
   "cell_type": "code",
   "execution_count": 1,
   "metadata": {},
   "outputs": [],
   "source": [
    "# Import libraries\n",
    "import sys\n",
    "import os\n",
    "import pandas as pd\n",
    "import h5py\n",
    "import numpy as np\n",
    "import json \n",
    "import pandas as pd\n",
    "import matplotlib.pylab as plt"
   ]
  },
  {
   "cell_type": "code",
   "execution_count": 2,
   "metadata": {},
   "outputs": [
    {
     "name": "stdout",
     "output_type": "stream",
     "text": [
      "/talos/u/gazal/Composition_Nfdi_git/CompositionSpaceNFDI/tests\r\n"
     ]
    }
   ],
   "source": [
    "! pwd"
   ]
  },
  {
   "cell_type": "code",
   "execution_count": 3,
   "metadata": {
    "tags": []
   },
   "outputs": [
    {
     "name": "stdout",
     "output_type": "stream",
     "text": [
      "/talos/u/gazal/Composition_Nfdi_git/CompositionSpaceNFDI/tests\r\n"
     ]
    }
   ],
   "source": [
    "MYPREFIX='/u/gazal/Composition_Nfdi_git/CompositionSpaceNFDI'\n",
    "CWD = os.getcwd()\n",
    "sys.path.append(MYPREFIX)\n",
    "! echo $PWD"
   ]
  },
  {
   "cell_type": "code",
   "execution_count": 4,
   "metadata": {},
   "outputs": [],
   "source": [
    "from compositionspace.datautils import Prepare_data\n"
   ]
  },
  {
   "cell_type": "code",
   "execution_count": 5,
   "metadata": {},
   "outputs": [],
   "source": [
    "experiment_param = json.load(open(\"experiment_params.json\",\"r\"))\n"
   ]
  },
  {
   "cell_type": "code",
   "execution_count": 6,
   "metadata": {},
   "outputs": [
    {
     "data": {
      "text/plain": [
       "{'input_path': '/u/gazal/APT_Aparna_sample/CompositionSpaceNFDI/tests/data',\n",
       " 'output_path': '/u/gazal/Composition_Nfdi_git/output/output_voxels',\n",
       " 'n_big_slices': 10,\n",
       " 'voxel_size': 3,\n",
       " 'bics_clusters': 10,\n",
       " 'n_phases': 3,\n",
       " 'submission_path': 'spaceship-titanic/submission.csv',\n",
       " 'target': 'Transported',\n",
       " 'fill_numerical_with': {},\n",
       " 'fill_categorical_with': {},\n",
       " 'parameters': {'drop_features': ['PassengerId', 'Name', 'Cabin'],\n",
       "  'normalization': {'method': 'mean'},\n",
       "  'preprocess_method': 1,\n",
       "  'fill_numerical_columns': 'mean',\n",
       "  'fill_categorical_columns': 'mode',\n",
       "  'ml_models': {'GaussianMixture': {'name': 'GaussianMixture',\n",
       "    'params': {'n_components': 3, 'max_iter': 100000, 'verbose': 0}}}}}"
      ]
     },
     "execution_count": 6,
     "metadata": {},
     "output_type": "execute_result"
    }
   ],
   "source": [
    "experiment_param"
   ]
  },
  {
   "cell_type": "code",
   "execution_count": 7,
   "metadata": {},
   "outputs": [],
   "source": [
    "Prepare_data = Prepare_data(params=experiment_param)\n"
   ]
  },
  {
   "cell_type": "code",
   "execution_count": 8,
   "metadata": {},
   "outputs": [
    {
     "data": {
      "application/vnd.jupyter.widget-view+json": {
       "model_id": "b65222d971c04ca5a33355d576723541",
       "version_major": 2,
       "version_minor": 0
      },
      "text/plain": [
       "  0%|          | 0/3 [00:00<?, ?it/s]"
      ]
     },
     "metadata": {},
     "output_type": "display_data"
    },
    {
     "data": {
      "application/vnd.jupyter.widget-view+json": {
       "model_id": "804d8eb8d1f64a8fb93be77a55c2eb2c",
       "version_major": 2,
       "version_minor": 0
      },
      "text/plain": [
       "  0%|          | 0/10 [00:00<?, ?it/s]"
      ]
     },
     "metadata": {},
     "output_type": "display_data"
    },
    {
     "name": "stderr",
     "output_type": "stream",
     "text": [
      "/u/gazal/Composition_Nfdi_git/CompositionSpaceNFDI/compositionspace/datautils.py:219: FutureWarning: Boolean inputs to the `inclusive` argument are deprecated infavour of `both` or `neither`.\n",
      "  temp = sort_x[sort_x['z'].between(start, end, inclusive=True)]\n"
     ]
    }
   ],
   "source": [
    "Prepare_data.get_big_slices()\n"
   ]
  },
  {
   "cell_type": "code",
   "execution_count": 9,
   "metadata": {},
   "outputs": [
    {
     "data": {
      "application/vnd.jupyter.widget-view+json": {
       "model_id": "d4596eb98f3b431e8296002f899acc94",
       "version_major": 2,
       "version_minor": 0
      },
      "text/plain": [
       "  0%|          | 0/1 [00:00<?, ?it/s]"
      ]
     },
     "metadata": {},
     "output_type": "display_data"
    },
    {
     "data": {
      "application/vnd.jupyter.widget-view+json": {
       "model_id": "bf393b07172e4b64abeb8baedf7e2144",
       "version_major": 2,
       "version_minor": 0
      },
      "text/plain": [
       "  0%|          | 0/10 [00:00<?, ?it/s]"
      ]
     },
     "metadata": {},
     "output_type": "display_data"
    },
    {
     "name": "stderr",
     "output_type": "stream",
     "text": [
      "/u/gazal/Composition_Nfdi_git/CompositionSpaceNFDI/compositionspace/datautils.py:387: FutureWarning: Boolean inputs to the `inclusive` argument are deprecated infavour of `both` or `neither`.\n",
      "  cubic = s[s['z'].between(i, i+cube_size, inclusive=True)]\n",
      "/u/gazal/Composition_Nfdi_git/CompositionSpaceNFDI/compositionspace/datautils.py:389: FutureWarning: Boolean inputs to the `inclusive` argument are deprecated infavour of `both` or `neither`.\n",
      "  p = cubic[cubic['y'].between(j, j+cube_size, inclusive=True)]\n",
      "/u/gazal/Composition_Nfdi_git/CompositionSpaceNFDI/compositionspace/datautils.py:395: FutureWarning: Boolean inputs to the `inclusive` argument are deprecated infavour of `both` or `neither`.\n",
      "  x = p[p['x'].between(k,k+cube_size, inclusive=True)]\n"
     ]
    }
   ],
   "source": [
    "Prepare_data.get_voxels()\n"
   ]
  },
  {
   "cell_type": "code",
   "execution_count": 10,
   "metadata": {},
   "outputs": [
    {
     "data": {
      "application/vnd.jupyter.widget-view+json": {
       "model_id": "4a72284c210c4eae829702d02b02c362",
       "version_major": 2,
       "version_minor": 0
      },
      "text/plain": [
       "  0%|          | 0/2 [00:00<?, ?it/s]"
      ]
     },
     "metadata": {},
     "output_type": "display_data"
    },
    {
     "data": {
      "application/vnd.jupyter.widget-view+json": {
       "model_id": "7c90548d08864f1da434c4ad7dc2175c",
       "version_major": 2,
       "version_minor": 0
      },
      "text/plain": [
       "  0%|          | 0/55741 [00:00<?, ?it/s]"
      ]
     },
     "metadata": {},
     "output_type": "display_data"
    },
    {
     "name": "stdout",
     "output_type": "stream",
     "text": [
      "['0', '1', '2', '3', '4', '5', '6', '7', '8', '9', '10', '11', '12', '13', '14', '15', '16', '17', '18', '19', '20', '21', '22', '23', '24', '25', '26', '27', '28', '29', '30', 'Total_no', 'vox']\n"
     ]
    }
   ],
   "source": [
    "Prepare_data.get_voxel_composition()"
   ]
  },
  {
   "cell_type": "code",
   "execution_count": null,
   "metadata": {},
   "outputs": [],
   "source": []
  }
 ],
 "metadata": {
  "kernelspec": {
   "display_name": "Python 3",
   "language": "python",
   "name": "python3"
  },
  "language_info": {
   "codemirror_mode": {
    "name": "ipython",
    "version": 3
   },
   "file_extension": ".py",
   "mimetype": "text/x-python",
   "name": "python",
   "nbconvert_exporter": "python",
   "pygments_lexer": "ipython3",
   "version": "3.7.6"
  }
 },
 "nbformat": 4,
 "nbformat_minor": 5
}
