{
 "cells": [
  {
   "cell_type": "code",
   "execution_count": 13,
   "metadata": {},
   "outputs": [],
   "source": [
    "from Segmentation.datautils.data_utils import Prepare_data\n",
    "import json \n",
    "import pandas as pd\n",
    "import matplotlib.pylab as plt"
   ]
  },
  {
   "cell_type": "code",
   "execution_count": 14,
   "metadata": {},
   "outputs": [
    {
     "name": "stdout",
     "output_type": "stream",
     "text": [
      "/talos/u/gazal/APT_calculations/for_nikita_Sm_Zr_Cu_Fe/20220613_APT_NFDI/Nfdi_workflow/APT_analysis/Composition_space_approach\n"
     ]
    }
   ],
   "source": [
    "import os\n",
    "print (os.getcwd())"
   ]
  },
  {
   "cell_type": "code",
   "execution_count": 15,
   "metadata": {},
   "outputs": [],
   "source": [
    "try:\n",
    "    experiment_param = json.load(open(\"experiment_params.json\",\"r\"))\n",
    "except:\n",
    "    ValueError(\"Could not read parameter file\")"
   ]
  },
  {
   "cell_type": "code",
   "execution_count": 16,
   "metadata": {},
   "outputs": [
    {
     "data": {
      "text/plain": [
       "{'input_path': '/u/gazal/APT_calculations/for_nikita_Sm_Zr_Cu_Fe/APT_exp_Data_D3/D1',\n",
       " 'output_path': '/u/gazal/APT_calculations/for_nikita_Sm_Zr_Cu_Fe/20220613_APT_NFDI/Nfdi_workflow/APT_analysis/Composition_space_approach/output',\n",
       " 'n_big_slices': 10,\n",
       " 'voxel_size': 2,\n",
       " 'bics_clusters': 10,\n",
       " 'n_phases': 3,\n",
       " 'submission_path': 'spaceship-titanic/submission.csv',\n",
       " 'target': 'Transported',\n",
       " 'fill_numerical_with': {},\n",
       " 'fill_categorical_with': {},\n",
       " 'parameters': {'drop_features': ['PassengerId', 'Name', 'Cabin'],\n",
       "  'normalization': {'method': 'mean'},\n",
       "  'preprocess_method': 1,\n",
       "  'fill_numerical_columns': 'mean',\n",
       "  'fill_categorical_columns': 'mode',\n",
       "  'ml_models': {'GaussianMixture': {'name': 'GaussianMixture',\n",
       "    'params': {'n_components': 3, 'max_iter': 100000, 'verbose': 0}}}}}"
      ]
     },
     "execution_count": 16,
     "metadata": {},
     "output_type": "execute_result"
    }
   ],
   "source": [
    "experiment_param"
   ]
  },
  {
   "cell_type": "code",
   "execution_count": 17,
   "metadata": {},
   "outputs": [],
   "source": [
    "Input_Data = Prepare_data(params=experiment_param)"
   ]
  },
  {
   "cell_type": "code",
   "execution_count": 18,
   "metadata": {},
   "outputs": [
    {
     "name": "stderr",
     "output_type": "stream",
     "text": [
      "\r",
      "  0%|          | 0/3 [00:00<?, ?it/s]"
     ]
    },
    {
     "name": "stdout",
     "output_type": "stream",
     "text": [
      "D1 High Hc R5076_52126.apt\n",
      "Done, reading *.APT file\n"
     ]
    },
    {
     "name": "stderr",
     "output_type": "stream",
     "text": [
      "100%|██████████| 3/3 [00:01<00:00,  1.72it/s]\n"
     ]
    },
    {
     "name": "stdout",
     "output_type": "stream",
     "text": [
      "/u/gazal/APT_calculations/for_nikita_Sm_Zr_Cu_Fe/APT_exp_Data_D3/D1/R5076_53078__SmCoFeCuZr_goodrangefile_20210309_Polin_WithoutHydrites_colors.RRNG\n",
      "hi\n"
     ]
    },
    {
     "name": "stderr",
     "output_type": "stream",
     "text": [
      "100%|██████████| 10/10 [00:10<00:00,  1.08s/it]\n"
     ]
    }
   ],
   "source": [
    "Input_Data.get_big_slices()"
   ]
  },
  {
   "cell_type": "code",
   "execution_count": 19,
   "metadata": {
    "scrolled": true
   },
   "outputs": [
    {
     "name": "stderr",
     "output_type": "stream",
     "text": [
      "  0%|          | 0/1 [00:00<?, ?it/s]\n",
      "  0%|          | 0/10 [00:00<?, ?it/s]\u001b[A"
     ]
    },
    {
     "name": "stdout",
     "output_type": "stream",
     "text": [
      "chunk_0\n",
      "-266\n"
     ]
    },
    {
     "name": "stderr",
     "output_type": "stream",
     "text": [
      "/talos/u/gazal/APT_calculations/for_nikita_Sm_Zr_Cu_Fe/20220613_APT_NFDI/Nfdi_workflow/APT_analysis/Composition_space_approach/Segmentation/datautils/data_utils.py:322: SettingWithCopyWarning: \n",
      "A value is trying to be set on a copy of a slice from a DataFrame.\n",
      "Try using .loc[row_indexer,col_indexer] = value instead\n",
      "\n",
      "See the caveats in the documentation: https://pandas.pydata.org/pandas-docs/stable/user_guide/indexing.html#returning-a-view-versus-a-copy\n",
      "  x[\"vox_file\"] = [name_sub_file for n_file in range(len(x))]\n"
     ]
    },
    {
     "name": "stdout",
     "output_type": "stream",
     "text": [
      "-264\n",
      "-262\n",
      "-260\n",
      "-258\n",
      "-256\n",
      "-254\n",
      "-252\n",
      "-250\n",
      "-248\n",
      "-246\n",
      "-244\n",
      "-242\n"
     ]
    },
    {
     "name": "stderr",
     "output_type": "stream",
     "text": [
      "\n",
      " 10%|█         | 1/10 [00:51<07:39, 51.04s/it]\u001b[A"
     ]
    },
    {
     "name": "stdout",
     "output_type": "stream",
     "text": [
      "chunk_1\n",
      "-240\n",
      "-238\n",
      "-236\n",
      "-234\n",
      "-232\n",
      "-230\n",
      "-228\n",
      "-226\n",
      "-224\n",
      "-222\n",
      "-220\n",
      "-218\n",
      "-216\n",
      "-214\n"
     ]
    },
    {
     "name": "stderr",
     "output_type": "stream",
     "text": [
      "\n",
      " 20%|██        | 2/10 [02:05<08:40, 65.08s/it]\u001b[A"
     ]
    },
    {
     "name": "stdout",
     "output_type": "stream",
     "text": [
      "chunk_2\n",
      "-213\n",
      "-211\n",
      "-209\n",
      "-207\n",
      "-205\n",
      "-203\n",
      "-201\n",
      "-199\n",
      "-197\n",
      "-195\n",
      "-193\n",
      "-191\n",
      "-189\n",
      "-187\n"
     ]
    },
    {
     "name": "stderr",
     "output_type": "stream",
     "text": [
      "\n",
      " 30%|███       | 3/10 [03:19<08:02, 68.98s/it]\u001b[A"
     ]
    },
    {
     "name": "stdout",
     "output_type": "stream",
     "text": [
      "chunk_3\n",
      "-186\n",
      "-184\n",
      "-182\n",
      "-180\n",
      "-178\n",
      "100000\n",
      "-176\n",
      "-174\n",
      "-172\n",
      "-170\n",
      "-168\n",
      "-166\n",
      "-164\n",
      "-162\n"
     ]
    },
    {
     "name": "stderr",
     "output_type": "stream",
     "text": [
      "\n",
      " 40%|████      | 4/10 [04:20<06:33, 65.61s/it]\u001b[A"
     ]
    },
    {
     "name": "stdout",
     "output_type": "stream",
     "text": [
      "chunk_4\n",
      "-160\n",
      "-158\n",
      "-156\n",
      "-154\n",
      "-152\n",
      "-150\n",
      "-148\n",
      "-146\n",
      "-144\n",
      "-142\n",
      "-140\n",
      "-138\n",
      "-136\n",
      "-134\n"
     ]
    },
    {
     "name": "stderr",
     "output_type": "stream",
     "text": [
      "\n",
      " 50%|█████     | 5/10 [05:18<05:14, 62.94s/it]\u001b[A"
     ]
    },
    {
     "name": "stdout",
     "output_type": "stream",
     "text": [
      "chunk_5\n",
      "-133\n",
      "-131\n",
      "-129\n",
      "-127\n",
      "-125\n",
      "-123\n",
      "-121\n",
      "-119\n",
      "-117\n",
      "-115\n",
      "-113\n",
      "-111\n",
      "-109\n"
     ]
    },
    {
     "name": "stderr",
     "output_type": "stream",
     "text": [
      "\n",
      " 60%|██████    | 6/10 [06:05<03:50, 57.65s/it]\u001b[A"
     ]
    },
    {
     "name": "stdout",
     "output_type": "stream",
     "text": [
      "chunk_6\n",
      "-107\n",
      "-105\n",
      "-103\n",
      "-101\n",
      "-99\n",
      "-97\n",
      "-95\n",
      "-93\n",
      "-91\n",
      "-89\n",
      "-87\n",
      "-85\n",
      "-83\n",
      "-81\n"
     ]
    },
    {
     "name": "stderr",
     "output_type": "stream",
     "text": [
      "\n",
      " 70%|███████   | 7/10 [06:54<02:44, 54.90s/it]\u001b[A"
     ]
    },
    {
     "name": "stdout",
     "output_type": "stream",
     "text": [
      "chunk_7\n",
      "-80\n",
      "-78\n",
      "200000\n",
      "-76\n",
      "-74\n",
      "-72\n",
      "-70\n",
      "-68\n",
      "-66\n",
      "-64\n",
      "-62\n",
      "-60\n",
      "-58\n",
      "-56\n",
      "-54\n"
     ]
    },
    {
     "name": "stderr",
     "output_type": "stream",
     "text": [
      "\n",
      " 80%|████████  | 8/10 [07:37<01:42, 51.02s/it]\u001b[A"
     ]
    },
    {
     "name": "stdout",
     "output_type": "stream",
     "text": [
      "chunk_8\n",
      "-53\n",
      "-51\n",
      "-49\n",
      "-47\n",
      "-45\n",
      "-43\n",
      "-41\n",
      "-39\n",
      "-37\n",
      "-35\n",
      "-33\n",
      "-31\n",
      "-29\n"
     ]
    },
    {
     "name": "stderr",
     "output_type": "stream",
     "text": [
      "\n",
      " 90%|█████████ | 9/10 [08:05<00:43, 43.92s/it]\u001b[A"
     ]
    },
    {
     "name": "stdout",
     "output_type": "stream",
     "text": [
      "chunk_9\n",
      "-27\n",
      "-25\n",
      "-23\n",
      "-21\n",
      "-19\n",
      "-17\n",
      "-15\n",
      "-13\n",
      "-11\n",
      "-9\n",
      "-7\n",
      "-5\n",
      "-3\n",
      "-1\n"
     ]
    },
    {
     "name": "stderr",
     "output_type": "stream",
     "text": [
      "\n",
      "100%|██████████| 10/10 [08:19<00:00, 49.99s/it]\u001b[A\n",
      "100%|██████████| 1/1 [08:19<00:00, 499.94s/it]\n"
     ]
    }
   ],
   "source": [
    "Input_Data.get_voxels()"
   ]
  },
  {
   "cell_type": "code",
   "execution_count": 20,
   "metadata": {},
   "outputs": [
    {
     "name": "stderr",
     "output_type": "stream",
     "text": [
      "100%|██████████| 2/2 [00:00<00:00, 24456.58it/s]\n",
      "100%|██████████| 238395/238395 [02:46<00:00, 1434.95it/s]\n"
     ]
    }
   ],
   "source": [
    "Input_Data.get_voxel_composition()"
   ]
  },
  {
   "cell_type": "code",
   "execution_count": 4,
   "metadata": {},
   "outputs": [],
   "source": [
    "from Composition_Space import Composition_Space"
   ]
  },
  {
   "cell_type": "code",
   "execution_count": 5,
   "metadata": {},
   "outputs": [],
   "source": [
    "Input_Data = Composition_Space(params=experiment_param)"
   ]
  },
  {
   "cell_type": "code",
   "execution_count": 6,
   "metadata": {},
   "outputs": [
    {
     "data": {
      "image/png": "[encoded data removed]",
      "text/plain": [
       "<Figure size 360x360 with 1 Axes>"
      ]
     },
     "metadata": {
      "needs_background": "light"
     },
     "output_type": "display_data"
    },
    {
     "data": {
      "text/plain": [
       "array([0.5116405 , 0.86487543, 0.95748953, 1.        , 1.        ])"
      ]
     },
     "execution_count": 6,
     "metadata": {},
     "output_type": "execute_result"
    }
   ],
   "source": [
    "Input_Data.get_PCA_cumsum()"
   ]
  },
  {
   "cell_type": "code",
   "execution_count": 7,
   "metadata": {},
   "outputs": [
    {
     "name": "stderr",
     "output_type": "stream",
     "text": [
      "100%|██████████| 9/9 [01:01<00:00,  6.80s/it]\n"
     ]
    },
    {
     "data": {
      "image/png": "[encoded data removed]",
      "text/plain": [
       "<Figure size 432x288 with 1 Axes>"
      ]
     },
     "metadata": {
      "needs_background": "light"
     },
     "output_type": "display_data"
    },
    {
     "data": {
      "text/plain": [
       "(10,\n",
       " [-6231311.162407463,\n",
       "  -7389077.032705569,\n",
       "  -7537859.16975741,\n",
       "  -7582143.979839054,\n",
       "  -7608655.902611319,\n",
       "  -7616697.88339584,\n",
       "  -7629980.894526933,\n",
       "  -7635947.689094201,\n",
       "  -7644507.221970604],\n",
       " [-6231103.528722648,\n",
       "  -7388651.383651696,\n",
       "  -7537215.505334481,\n",
       "  -7581282.300047068,\n",
       "  -7607576.207450276,\n",
       "  -7615400.172865741,\n",
       "  -7628465.168627776,\n",
       "  -7634213.947825987,\n",
       "  -7642555.465333333])"
      ]
     },
     "execution_count": 7,
     "metadata": {},
     "output_type": "execute_result"
    }
   ],
   "source": [
    "Input_Data.get_bics_minimization()"
   ]
  },
  {
   "cell_type": "code",
   "execution_count": 7,
   "metadata": {},
   "outputs": [
    {
     "name": "stderr",
     "output_type": "stream",
     "text": [
      "100%|██████████| 238395/238395 [03:07<00:00, 1274.58it/s]\n",
      "100%|██████████| 173078/173078 [02:26<00:00, 1178.22it/s]\n",
      "100%|██████████| 23160/23160 [01:03<00:00, 364.58it/s] \n"
     ]
    }
   ],
   "source": [
    "ml_params = experiment_param[\"parameters\"][\"ml_models\"][\"GaussianMixture\"]\n",
    "Input_Data.SaveCompositionClusters(ml_params=ml_params)"
   ]
  },
  {
   "cell_type": "code",
   "execution_count": null,
   "metadata": {},
   "outputs": [],
   "source": []
  }
 ],
 "metadata": {
  "kernelspec": {
   "display_name": "Python 3",
   "language": "python",
   "name": "python3"
  },
  "language_info": {
   "codemirror_mode": {
    "name": "ipython",
    "version": 3
   },
   "file_extension": ".py",
   "mimetype": "text/x-python",
   "name": "python",
   "nbconvert_exporter": "python",
   "pygments_lexer": "ipython3",
   "version": "3.7.6"
  }
 },
 "nbformat": 4,
 "nbformat_minor": 4
}
