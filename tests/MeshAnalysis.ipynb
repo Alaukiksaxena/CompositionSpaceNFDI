{
 "cells": [
  {
   "cell_type": "code",
   "execution_count": null,
   "id": "3d6cd8fd",
   "metadata": {},
   "outputs": [],
   "source": [
    "# import libraries\n",
    "import os\n",
    "import sys\n",
    "import h5py\n",
    "import json \n",
    "import pandas as pd\n",
    "import numpy as np\n",
    "import matplotlib.pylab as plt\n",
    "from tqdm import tqdm\n",
    "from sklearn.decomposition import PCA\n",
    "from sklearn.mixture import GaussianMixture\n",
    "from compositionspace.meshing import meshes_normals"
   ]
  },
  {
   "cell_type": "code",
   "execution_count": null,
   "id": "2480ce90",
   "metadata": {},
   "outputs": [],
   "source": [
    "# legacy\n",
    "# Vox_centroid_file = 'output/output_voxels/Output_voxel_cetroids_phases.h5'\n",
    "# Vox_ratios = \"/u/gazal/APT_SiGe/output/output_voxels/Output_voxel_composition.h5\"\n",
    "# Slices_file = '/u/gazal/APT_SiGe/output/output_voxels/Output_big_slices.h5'\n",
    "# Dbscan_results = \"/u/gazal/APT_SiGe/output/output_voxels/Output_DBSCAN_segmentation_phase_1.h5\""
   ]
  },
  {
   "cell_type": "markdown",
   "id": "47afd9dc-e9d7-4d87-8e0f-ddbee2f69063",
   "metadata": {},
   "source": [
    "## Skeleton of how one would need to work with the refactored version:"
   ]
  },
  {
   "cell_type": "markdown",
   "id": "bb377e45-906a-4e8e-ad32-5259ea90a3d3",
   "metadata": {},
   "source": [
    "1. Decide for which cluster and thus which voxels of that cluster you would like to mesh.\n",
    "2. How to get the voxel barycentre coordinates from the NeXus/HDF5?\n",
    "    * Go to the respective clustering result e.g. \"/entry1/clustering/ic_opt/cluster_analysis2\"\n",
    "    * Therein, each dbscan<ID> group represents the clustering result for all those voxels of the ID-th chemically defined phase of the segmentation.\n",
    "    * In each such group there is dbscan<ID>/label and dbscan<ID>/voxel. The order of the two arrays is the same.\n",
    "    * The voxel array resolves the identifier of the voxels whose barycentre positions are sought.\n",
    "    * The positions can be queried via \"/entry1/voxelization/cg_grid/position\n",
    "    * Hence a table of position and cluster ID can be constructed with position[voxel, :] as the first three columns and label as the fourth column.\n",
    "    * Specifically, the following assertion holds np.shape(position[voxel, :])[0] == np.shape(label)[0]"
   ]
  },
  {
   "cell_type": "code",
   "execution_count": null,
   "id": "fef303b2",
   "metadata": {},
   "outputs": [],
   "source": [
    "config_file = \"tests/experiment_params.yaml\"\n",
    "input_file = \"CompositionSpace.Results.1.nxs\"\n",
    "output_file = \"CompositionSpace.Results.1.nxs.Meshes.nxs\"\n",
    "meshes_normals(config_file, input_file, output_file)"
   ]
  },
  {
   "cell_type": "code",
   "execution_count": null,
   "id": "8ad899ac-f849-4551-86e7-d4fd98376384",
   "metadata": {},
   "outputs": [],
   "source": []
  },
  {
   "cell_type": "code",
   "execution_count": null,
   "id": "4aa1c2b8-26c3-4797-aae6-08f152c3da3b",
   "metadata": {},
   "outputs": [],
   "source": []
  }
 ],
 "metadata": {
  "kernelspec": {
   "display_name": "Python 3 (ipykernel)",
   "language": "python",
   "name": "python3"
  },
  "language_info": {
   "codemirror_mode": {
    "name": "ipython",
    "version": 3
   },
   "file_extension": ".py",
   "mimetype": "text/x-python",
   "name": "python",
   "nbconvert_exporter": "python",
   "pygments_lexer": "ipython3",
   "version": "3.12.4"
  }
 },
 "nbformat": 4,
 "nbformat_minor": 5
}
