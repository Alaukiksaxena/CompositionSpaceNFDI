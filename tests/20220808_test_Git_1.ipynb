{
 "cells": [
  {
   "cell_type": "code",
   "execution_count": 3,
   "metadata": {},
   "outputs": [],
   "source": [
    "# Import libraries\n",
    "import sys\n",
    "import os"
   ]
  },
  {
   "cell_type": "code",
   "execution_count": 4,
   "metadata": {},
   "outputs": [
    {
     "name": "stdout",
     "output_type": "stream",
     "text": [
      "/talos/u/gazal/APT_calculations/CompositionSpace_git/CompositionSpaceNFDI/tests\r\n"
     ]
    }
   ],
   "source": [
    "MYPREFIX='/u/gazal/APT_calculations/CompositionSpace_git/CompositionSpaceNFDI'\n",
    "CWD = os.getcwd()\n",
    "sys.path.append(MYPREFIX)\n",
    "! echo $PWD"
   ]
  },
  {
   "cell_type": "code",
   "execution_count": 5,
   "metadata": {},
   "outputs": [],
   "source": [
    "from compositionspace.datautils import Prepare_data\n",
    "import json \n",
    "import pandas as pd\n",
    "import matplotlib.pylab as plt\n",
    "from compositionspace.segmentation import Composition_clustering\n",
    "from compositionspace.postprocessing import Postprocess_data"
   ]
  },
  {
   "cell_type": "code",
   "execution_count": 6,
   "metadata": {},
   "outputs": [],
   "source": [
    "experiment_param = json.load(open(\"experiment_params.json\",\"r\"))\n"
   ]
  },
  {
   "cell_type": "code",
   "execution_count": 7,
   "metadata": {},
   "outputs": [],
   "source": [
    "try:\n",
    "    experiment_param = json.load(open(\"experiment_params.json\",\"r\"))\n",
    "except:\n",
    "    ValueError(\"Could not read parameter file\")"
   ]
  },
  {
   "cell_type": "code",
   "execution_count": 8,
   "metadata": {},
   "outputs": [],
   "source": [
    "Prepare_data = Prepare_data(params=experiment_param)\n"
   ]
  },
  {
   "cell_type": "code",
   "execution_count": 7,
   "metadata": {},
   "outputs": [
    {
     "name": "stderr",
     "output_type": "stream",
     "text": [
      "\r",
      "  0%|          | 0/3 [00:00<?, ?it/s]"
     ]
    },
    {
     "name": "stdout",
     "output_type": "stream",
     "text": [
      "Done, reading *.APT file\n"
     ]
    },
    {
     "name": "stderr",
     "output_type": "stream",
     "text": [
      "100%|██████████| 3/3 [00:01<00:00,  1.70it/s]\n",
      "100%|██████████| 10/10 [00:12<00:00,  1.20s/it]\n"
     ]
    }
   ],
   "source": [
    "Prepare_data.get_big_slices()\n"
   ]
  },
  {
   "cell_type": "code",
   "execution_count": 9,
   "metadata": {},
   "outputs": [
    {
     "name": "stderr",
     "output_type": "stream",
     "text": [
      "  0%|          | 0/2 [00:00<?, ?it/s]\n",
      "  0%|          | 0/10 [00:00<?, ?it/s]\u001b[A/u/gazal/APT_calculations/CompositionSpace_git/CompositionSpaceNFDI/compositionspace/datautils.py:318: SettingWithCopyWarning: \n",
      "A value is trying to be set on a copy of a slice from a DataFrame.\n",
      "Try using .loc[row_indexer,col_indexer] = value instead\n",
      "\n",
      "See the caveats in the documentation: https://pandas.pydata.org/pandas-docs/stable/user_guide/indexing.html#returning-a-view-versus-a-copy\n",
      "  x[\"vox_file\"] = [name_sub_file for n_file in range(len(x))]\n",
      "\n",
      " 10%|█         | 1/10 [00:49<07:27, 49.69s/it]\u001b[A\n",
      " 20%|██        | 2/10 [02:03<08:30, 63.85s/it]\u001b[A\n",
      " 30%|███       | 3/10 [03:13<07:45, 66.56s/it]\u001b[A\n",
      " 40%|████      | 4/10 [04:13<06:24, 64.04s/it]\u001b[A\n",
      " 50%|█████     | 5/10 [05:11<05:10, 62.01s/it]\u001b[A\n",
      " 60%|██████    | 6/10 [05:59<03:47, 56.98s/it]\u001b[A\n",
      " 70%|███████   | 7/10 [06:47<02:43, 54.33s/it]\u001b[A\n",
      " 80%|████████  | 8/10 [07:30<01:41, 50.60s/it]\u001b[A\n",
      " 90%|█████████ | 9/10 [07:58<00:43, 43.59s/it]\u001b[A\n",
      "100%|██████████| 10/10 [08:12<00:00, 49.28s/it]\u001b[A\n",
      "100%|██████████| 2/2 [08:12<00:00, 246.45s/it]\n"
     ]
    }
   ],
   "source": [
    "Prepare_data.get_voxels()\n"
   ]
  },
  {
   "cell_type": "code",
   "execution_count": 10,
   "metadata": {},
   "outputs": [
    {
     "name": "stderr",
     "output_type": "stream",
     "text": [
      "  0%|          | 0/2 [00:00<?, ?it/s]\n",
      "  0%|          | 0/10 [00:00<?, ?it/s]\u001b[A\n",
      " 10%|█         | 1/10 [00:49<07:26, 49.57s/it]\u001b[A\n",
      " 20%|██        | 2/10 [02:02<08:26, 63.27s/it]\u001b[A\n",
      " 30%|███       | 3/10 [03:12<07:45, 66.56s/it]\u001b[A\n",
      " 40%|████      | 4/10 [04:12<06:23, 63.99s/it]\u001b[A\n",
      " 50%|█████     | 5/10 [05:11<05:09, 61.90s/it]\u001b[A\n",
      " 60%|██████    | 6/10 [05:58<03:47, 56.93s/it]\u001b[A\n",
      " 70%|███████   | 7/10 [06:47<02:43, 54.34s/it]\u001b[A\n",
      " 80%|████████  | 8/10 [07:30<01:41, 50.65s/it]\u001b[A\n",
      " 90%|█████████ | 9/10 [07:58<00:43, 43.61s/it]\u001b[A\n",
      "100%|██████████| 10/10 [08:12<00:00, 49.22s/it]\u001b[A\n",
      "100%|██████████| 2/2 [08:12<00:00, 246.30s/it]\n",
      "100%|██████████| 2/2 [00:00<00:00, 46603.38it/s]\n",
      "100%|██████████| 238395/238395 [03:17<00:00, 1207.27it/s]\n"
     ]
    }
   ],
   "source": [
    "Prepare_data.get_voxels()\n",
    "Prepare_data.get_voxel_composition()\n"
   ]
  },
  {
   "cell_type": "code",
   "execution_count": 12,
   "metadata": {},
   "outputs": [],
   "source": [
    "Composition_Space = Composition_clustering(params=experiment_param)\n"
   ]
  },
  {
   "cell_type": "code",
   "execution_count": 13,
   "metadata": {},
   "outputs": [
    {
     "data": {
      "image/png": "[encoded data removed]",
      "text/plain": [
       "<Figure size 360x360 with 1 Axes>"
      ]
     },
     "metadata": {
      "needs_background": "light"
     },
     "output_type": "display_data"
    },
    {
     "data": {
      "text/plain": [
       "array([0.5116405 , 0.86487543, 0.95748953, 1.        , 1.        ])"
      ]
     },
     "execution_count": 13,
     "metadata": {},
     "output_type": "execute_result"
    }
   ],
   "source": [
    "Composition_Space.get_PCA_cumsum()\n"
   ]
  },
  {
   "cell_type": "code",
   "execution_count": 14,
   "metadata": {},
   "outputs": [
    {
     "name": "stderr",
     "output_type": "stream",
     "text": [
      "100%|██████████| 9/9 [00:55<00:00,  6.19s/it]\n"
     ]
    },
    {
     "data": {
      "image/png": "[encoded data removed]",
      "text/plain": [
       "<Figure size 432x288 with 1 Axes>"
      ]
     },
     "metadata": {
      "needs_background": "light"
     },
     "output_type": "display_data"
    },
    {
     "data": {
      "text/plain": [
       "(10,\n",
       " [-6231311.162407463,\n",
       "  -7389077.069220333,\n",
       "  -7451711.128824832,\n",
       "  -7575362.7428852515,\n",
       "  -7608658.3374897735,\n",
       "  -7615096.547525345,\n",
       "  -7630129.594375061,\n",
       "  -7641024.217222089,\n",
       "  -7644347.163478269],\n",
       " [-6231103.528722648,\n",
       "  -7388651.420166461,\n",
       "  -7451067.464401903,\n",
       "  -7574501.0630932655,\n",
       "  -7607578.642328731,\n",
       "  -7613798.836995246,\n",
       "  -7628613.868475904,\n",
       "  -7639290.475953875,\n",
       "  -7642395.406840999])"
      ]
     },
     "execution_count": 14,
     "metadata": {},
     "output_type": "execute_result"
    }
   ],
   "source": [
    "Composition_Space.get_bics_minimization()\n"
   ]
  },
  {
   "cell_type": "code",
   "execution_count": 15,
   "metadata": {},
   "outputs": [
    {
     "name": "stdout",
     "output_type": "stream",
     "text": [
      "\n",
      "\n",
      "\n",
      "[23144, 42173, 173078]\n"
     ]
    },
    {
     "name": "stderr",
     "output_type": "stream",
     "text": [
      "100%|██████████| 23144/23144 [01:22<00:00, 281.71it/s] \n",
      "100%|██████████| 42173/42173 [01:58<00:00, 356.57it/s] \n",
      "100%|██████████| 173078/173078 [02:30<00:00, 1146.87it/s]\n",
      "100%|██████████| 238395/238395 [02:53<00:00, 1377.58it/s]\n"
     ]
    }
   ],
   "source": [
    "ml_params = experiment_param[\"parameters\"][\"ml_models\"][\"GaussianMixture\"]\n",
    "Composition_Space.get_composition_clusters(ml_params=ml_params)"
   ]
  },
  {
   "cell_type": "code",
   "execution_count": 16,
   "metadata": {},
   "outputs": [
    {
     "name": "stdout",
     "output_type": "stream",
     "text": [
      "/u/gazal/APT_calculations/CompositionSpace_git/output/Output_voxel_cetroids_phases_0\n",
      "/u/gazal/APT_calculations/CompositionSpace_git/output/Output_voxel_cetroids_phases_1\n"
     ]
    }
   ],
   "source": [
    "Composition_Space.plot3d()"
   ]
  },
  {
   "cell_type": "code",
   "execution_count": 17,
   "metadata": {},
   "outputs": [],
   "source": [
    "Postprocess_data = Postprocess_data(params=experiment_param)\n"
   ]
  },
  {
   "cell_type": "code",
   "execution_count": 18,
   "metadata": {},
   "outputs": [
    {
     "name": "stderr",
     "output_type": "stream",
     "text": [
      "/u/gazal/APT_calculations/CompositionSpace_git/CompositionSpaceNFDI/compositionspace/postprocessing.py:106: SettingWithCopyWarning: \n",
      "A value is trying to be set on a copy of a slice from a DataFrame.\n",
      "Try using .loc[row_indexer,col_indexer] = value instead\n",
      "\n",
      "See the caveats in the documentation: https://pandas.pydata.org/pandas-docs/stable/user_guide/indexing.html#returning-a-view-versus-a-copy\n",
      "  cl_cent[\"ID\"] = [i]*len(cl_cent)\n",
      "100%|██████████| 13/13 [00:00<00:00, 1644.23it/s]\n"
     ]
    },
    {
     "data": {
      "image/png": "[encoded data removed]",
      "text/plain": [
       "<Figure size 432x288 with 1 Axes>"
      ]
     },
     "metadata": {
      "needs_background": "light"
     },
     "output_type": "display_data"
    }
   ],
   "source": [
    "Postprocess_data.DBSCAN_clustering(cluster_id = 0,eps = 5., min_samples= 40,plot=True,plot3d=True,save=True)\n"
   ]
  },
  {
   "cell_type": "code",
   "execution_count": null,
   "metadata": {},
   "outputs": [],
   "source": []
  },
  {
   "cell_type": "code",
   "execution_count": null,
   "metadata": {},
   "outputs": [],
   "source": []
  }
 ],
 "metadata": {
  "kernelspec": {
   "display_name": "Python 3",
   "language": "python",
   "name": "python3"
  },
  "language_info": {
   "codemirror_mode": {
    "name": "ipython",
    "version": 3
   },
   "file_extension": ".py",
   "mimetype": "text/x-python",
   "name": "python",
   "nbconvert_exporter": "python",
   "pygments_lexer": "ipython3",
   "version": "3.7.6"
  }
 },
 "nbformat": 4,
 "nbformat_minor": 5
}
