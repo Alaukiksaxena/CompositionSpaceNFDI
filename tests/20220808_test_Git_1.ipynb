{
 "cells": [
  {
   "cell_type": "code",
   "execution_count": 1,
   "id": "d95d1616",
   "metadata": {},
   "outputs": [],
   "source": [
    "# Import libraries\n",
    "import sys\n",
    "import os\n",
    "from compositionspace.datautils import DataPreparation\n",
    "import json \n",
    "import pandas as pd\n",
    "import matplotlib.pylab as plt\n",
    "from compositionspace.segmentation import CompositionClustering\n",
    "from compositionspace.postprocessing import PostprocessData"
   ]
  },
  {
   "cell_type": "code",
   "execution_count": 2,
   "id": "ad8ea0f7",
   "metadata": {},
   "outputs": [
    {
     "data": {
      "application/vnd.jupyter.widget-view+json": {
       "model_id": "d3535b311f4d452eba518dd6b6787c07",
       "version_major": 2,
       "version_minor": 0
      },
      "text/plain": [
       "  0%|          | 0/2 [00:00<?, ?it/s]"
      ]
     },
     "metadata": {},
     "output_type": "display_data"
    },
    {
     "data": {
      "application/vnd.jupyter.widget-view+json": {
       "model_id": "634db3cde7db4c21a17a8e59f4f5ef5f",
       "version_major": 2,
       "version_minor": 0
      },
      "text/plain": [
       "  0%|          | 0/10 [00:00<?, ?it/s]"
      ]
     },
     "metadata": {},
     "output_type": "display_data"
    },
    {
     "data": {
      "application/vnd.jupyter.widget-view+json": {
       "model_id": "99a7a09f58fd467b96c79e38f0666eea",
       "version_major": 2,
       "version_minor": 0
      },
      "text/plain": [
       "  0%|          | 0/10 [00:00<?, ?it/s]"
      ]
     },
     "metadata": {},
     "output_type": "display_data"
    },
    {
     "data": {
      "application/vnd.jupyter.widget-view+json": {
       "model_id": "c8c4a2dcbbe143d08f5b43e3c98cd6b4",
       "version_major": 2,
       "version_minor": 0
      },
      "text/plain": [
       "  0%|          | 0/23259 [00:00<?, ?it/s]"
      ]
     },
     "metadata": {},
     "output_type": "display_data"
    }
   ],
   "source": [
    "experiment_param = json.load(open(\"experiment_params.json\",\"r\"))\n",
    "data = DataPreparation(params=experiment_param)\n",
    "data.chunkify_apt_df(\"data\")\n",
    "data.get_voxels()\n",
    "data.calculate_voxel_composition(data.voxel_files[0])"
   ]
  },
  {
   "cell_type": "code",
   "execution_count": 2,
   "id": "e8d54a0c",
   "metadata": {},
   "outputs": [
    {
     "data": {
      "image/png": "[encoded data removed]",
      "text/plain": [
       "<Figure size 360x360 with 1 Axes>"
      ]
     },
     "metadata": {
      "needs_background": "light"
     },
     "output_type": "display_data"
    }
   ],
   "source": [
    "experiment_param = json.load(open(\"experiment_params.json\",\"r\"))\n",
    "comps = CompositionClustering(params=experiment_param)\n",
    "res = comps.get_PCA_cumsum(\"3Vox_ratios_filenames_num_MR_Grp.h5\", \"output/file_R31_06365-v02_pos_small_chunks_arr.h5\")"
   ]
  },
  {
   "cell_type": "code",
   "execution_count": 3,
   "id": "5723d922",
   "metadata": {},
   "outputs": [
    {
     "name": "stderr",
     "output_type": "stream",
     "text": [
      "100%|███████████████████████████████████████████████████████████████████████████████████████████████████████████████████████████████████████████████████████████████████████████| 9/9 [00:01<00:00,  5.19it/s]\n"
     ]
    },
    {
     "data": {
      "image/png": "[encoded data removed]",
      "text/plain": [
       "<Figure size 432x288 with 1 Axes>"
      ]
     },
     "metadata": {
      "needs_background": "light"
     },
     "output_type": "display_data"
    }
   ],
   "source": [
    "res = comps.get_bics_minimization(\"3Vox_ratios_filenames_num_MR_Grp.h5\", \"output/file_R31_06365-v02_pos_small_chunks_arr.h5\")"
   ]
  },
  {
   "cell_type": "code",
   "execution_count": 4,
   "id": "7cd12260",
   "metadata": {},
   "outputs": [
    {
     "name": "stdout",
     "output_type": "stream",
     "text": [
      "[34, 51, 23174]\n"
     ]
    },
    {
     "name": "stderr",
     "output_type": "stream",
     "text": [
      "100%|███████████████████████████████████████████████████████████████████████████████████████████████████████████████████████████████████████████████████████████████████████| 34/34 [00:00<00:00, 3004.07it/s]\n",
      "100%|███████████████████████████████████████████████████████████████████████████████████████████████████████████████████████████████████████████████████████████████████████| 51/51 [00:00<00:00, 3693.95it/s]\n",
      "100%|█████████████████████████████████████████████████████████████████████████████████████████████████████████████████████████████████████████████████████████████████| 23174/23174 [00:04<00:00, 5305.40it/s]\n",
      "100%|█████████████████████████████████████████████████████████████████████████████████████████████████████████████████████████████████████████████████████████████████| 23259/23259 [00:04<00:00, 5315.52it/s]\n"
     ]
    }
   ],
   "source": [
    "ml_params = experiment_param[\"parameters\"][\"ml_models\"][\"GaussianMixture\"]\n",
    "comps.get_composition_clusters(\"3Vox_ratios_filenames_num_MR_Grp.h5\", \"output/file_R31_06365-v02_pos_small_chunks_arr.h5\", ml_params, \"out.h5\")"
   ]
  },
  {
   "cell_type": "code",
   "execution_count": 16,
   "id": "bf2857ce",
   "metadata": {},
   "outputs": [
    {
     "name": "stdout",
     "output_type": "stream",
     "text": [
      "/u/gazal/APT_calculations/CompositionSpace_git/output/Output_voxel_cetroids_phases_0\n",
      "/u/gazal/APT_calculations/CompositionSpace_git/output/Output_voxel_cetroids_phases_1\n"
     ]
    }
   ],
   "source": [
    "Composition_Space.plot3d()"
   ]
  },
  {
   "cell_type": "code",
   "execution_count": 17,
   "id": "be7320d2",
   "metadata": {},
   "outputs": [],
   "source": [
    "Postprocess_data = Postprocess_data(params=experiment_param)\n"
   ]
  },
  {
   "cell_type": "code",
   "execution_count": 18,
   "id": "fe12933a",
   "metadata": {},
   "outputs": [
    {
     "name": "stderr",
     "output_type": "stream",
     "text": [
      "/u/gazal/APT_calculations/CompositionSpace_git/CompositionSpaceNFDI/compositionspace/postprocessing.py:106: SettingWithCopyWarning: \n",
      "A value is trying to be set on a copy of a slice from a DataFrame.\n",
      "Try using .loc[row_indexer,col_indexer] = value instead\n",
      "\n",
      "See the caveats in the documentation: https://pandas.pydata.org/pandas-docs/stable/user_guide/indexing.html#returning-a-view-versus-a-copy\n",
      "  cl_cent[\"ID\"] = [i]*len(cl_cent)\n",
      "100%|██████████| 13/13 [00:00<00:00, 1644.23it/s]\n"
     ]
    },
    {
     "data": {
      "image/png": "[encoded data removed]",
      "text/plain": [
       "<Figure size 432x288 with 1 Axes>"
      ]
     },
     "metadata": {
      "needs_background": "light"
     },
     "output_type": "display_data"
    }
   ],
   "source": [
    "Postprocess_data.DBSCAN_clustering(cluster_id = 0,eps = 5., min_samples= 40,plot=True,plot3d=True,save=True)\n"
   ]
  },
  {
   "cell_type": "code",
   "execution_count": null,
   "id": "16d3a3e4",
   "metadata": {},
   "outputs": [],
   "source": []
  },
  {
   "cell_type": "code",
   "execution_count": null,
   "id": "bce5bb27",
   "metadata": {},
   "outputs": [],
   "source": []
  }
 ],
 "metadata": {
  "kernelspec": {
   "display_name": "Python 3 (ipykernel)",
   "language": "python",
   "name": "python3"
  },
  "language_info": {
   "codemirror_mode": {
    "name": "ipython",
    "version": 3
   },
   "file_extension": ".py",
   "mimetype": "text/x-python",
   "name": "python",
   "nbconvert_exporter": "python",
   "pygments_lexer": "ipython3",
   "version": "3.10.5"
  }
 },
 "nbformat": 4,
 "nbformat_minor": 5
}
