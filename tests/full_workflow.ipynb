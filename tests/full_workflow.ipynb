{
 "cells": [
  {
   "cell_type": "code",
   "execution_count": 1,
   "id": "4c8dc54c-04d4-48f1-b69c-f756c3beadff",
   "metadata": {},
   "outputs": [],
   "source": [
    "from compositionspace import *"
   ]
  },
  {
   "cell_type": "code",
   "execution_count": 2,
   "id": "7ef0d3d7-edb2-4645-aff1-77d90d5b35e2",
   "metadata": {},
   "outputs": [
    {
     "data": {
      "application/vnd.jupyter.widget-view+json": {
       "model_id": "8d5d5b6586bd42af90985ebf2a948005",
       "version_major": 2,
       "version_minor": 0
      },
      "text/plain": [
       "  0%|          | 0/2 [00:00<?, ?it/s]"
      ]
     },
     "metadata": {},
     "output_type": "display_data"
    },
    {
     "data": {
      "application/vnd.jupyter.widget-view+json": {
       "model_id": "31c457e50a83423899708c23d0456946",
       "version_major": 2,
       "version_minor": 0
      },
      "text/plain": [
       "  0%|          | 0/10 [00:00<?, ?it/s]"
      ]
     },
     "metadata": {},
     "output_type": "display_data"
    }
   ],
   "source": [
    "files = chunkify_apt_df(\"data\")"
   ]
  },
  {
   "cell_type": "code",
   "execution_count": 3,
   "id": "069f47bd-f1cf-48e9-8e9c-dcee3140c033",
   "metadata": {},
   "outputs": [
    {
     "data": {
      "text/plain": [
       "['/mnt/c/Users/menon/Documents/winrepos/CompositionSpaceNFDI/tests/file_R31_06365-v02_pos_large_chunks_arr.h5']"
      ]
     },
     "execution_count": 3,
     "metadata": {},
     "output_type": "execute_result"
    }
   ],
   "source": [
    "files"
   ]
  },
  {
   "cell_type": "code",
   "execution_count": 4,
   "id": "249c08bc-3fe3-461e-85ce-b52c4b46e0c0",
   "metadata": {},
   "outputs": [
    {
     "data": {
      "application/vnd.jupyter.widget-view+json": {
       "model_id": "fcb22891fc1b41a68d86a5548c36cd02",
       "version_major": 2,
       "version_minor": 0
      },
      "text/plain": [
       "  0%|          | 0/10 [00:00<?, ?it/s]"
      ]
     },
     "metadata": {},
     "output_type": "display_data"
    }
   ],
   "source": [
    "files_vox = voxelise(files)"
   ]
  },
  {
   "cell_type": "code",
   "execution_count": null,
   "id": "65fdf5ce-ee80-487a-b61b-834acf3fd2e9",
   "metadata": {},
   "outputs": [
    {
     "data": {
      "application/vnd.jupyter.widget-view+json": {
       "model_id": "a5e14ddb32ba4ce99850551297482cf1",
       "version_major": 2,
       "version_minor": 0
      },
      "text/plain": [
       "  0%|          | 0/23259 [00:00<?, ?it/s]"
      ]
     },
     "metadata": {},
     "output_type": "display_data"
    }
   ],
   "source": [
    "calculate_voxel_composition(files_vox[0], outfilename=\"voxel_comp.h5\")"
   ]
  },
  {
   "cell_type": "code",
   "execution_count": null,
   "id": "aacdd5ec-83c2-4857-9d86-3657059100db",
   "metadata": {},
   "outputs": [],
   "source": [
    "PCA_cumsum, ratios = calculate_PCA_cumsum(vox_ratio_file=\"voxel_comp.h5\", \n",
    "                                          vox_file = files_vox[0])"
   ]
  },
  {
   "cell_type": "code",
   "execution_count": null,
   "id": "3d40105e-60bc-4f7d-8395-faf074452f82",
   "metadata": {},
   "outputs": [],
   "source": [
    "num_clusters = 10\n",
    "AIC, BIC =  find_num_clusters(vox_ratio_file=\"voxel_comp.h5\", \n",
    "                                               vox_file =files_vox[0], \n",
    "                                               num_clusters=num_clusters)"
   ]
  },
  {
   "cell_type": "code",
   "execution_count": null,
   "id": "7f23617f-e9d1-4753-9a2a-d3dc6885c5fb",
   "metadata": {},
   "outputs": [],
   "source": [
    "num_cLusters_lst = list(range(1, num_clusters))\n",
    "plt.plot(num_cLusters_lst, AIC, label=\"AIC\")\n",
    "plt.plot(num_cLusters_lst, BIC, label=\"BIC\")\n",
    "plt.legend()"
   ]
  },
  {
   "cell_type": "code",
   "execution_count": null,
   "id": "3daf9ad6-51d1-43d7-b00d-5d671e7aa0fd",
   "metadata": {},
   "outputs": [],
   "source": [
    "results = find_cluster_composition(\"voxel_comp.h5\", \n",
    "                                   files_vox[0],\n",
    "                                   num_clusters,\n",
    "                                   save=True,\n",
    "                                   outfile=\"vox_centroids.h5\")"
   ]
  },
  {
   "cell_type": "code",
   "execution_count": null,
   "id": "61cc510a-b554-4ec9-88e0-e01f8f39bf0b",
   "metadata": {},
   "outputs": [],
   "source": []
  }
 ],
 "metadata": {
  "kernelspec": {
   "display_name": "Python 3 (ipykernel)",
   "language": "python",
   "name": "python3"
  },
  "language_info": {
   "codemirror_mode": {
    "name": "ipython",
    "version": 3
   },
   "file_extension": ".py",
   "mimetype": "text/x-python",
   "name": "python",
   "nbconvert_exporter": "python",
   "pygments_lexer": "ipython3",
   "version": "3.10.5"
  }
 },
 "nbformat": 4,
 "nbformat_minor": 5
}
