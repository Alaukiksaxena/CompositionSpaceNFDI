{
 "cells": [
  {
   "cell_type": "code",
   "execution_count": null,
   "id": "c3d54e7c",
   "metadata": {},
   "outputs": [],
   "source": [
    "# import libraries\n",
    "import sys\n",
    "import os\n",
    "import yaml\n",
    "import h5py\n",
    "import pandas as pd\n",
    "import flatdict as fd\n",
    "import matplotlib.pylab as plt\n",
    "from jupyterlab_h5web import H5Web\n",
    "# import modules with the functionalities offered by CompositionSpace\n",
    "from compositionspace.utils import get_file_size\n",
    "# from compositionspace.io import get_reconstructed_positions, get_iontypes, get_ranging_info\n",
    "from compositionspace.preparation import ProcessPreparation\n",
    "from compositionspace.autophase import ProcessAutomatedPhaseAssignment\n",
    "from compositionspace.segmentation import ProcessSegmentation\n",
    "from compositionspace.clustering import ProcessClustering"
   ]
  },
  {
   "cell_type": "code",
   "execution_count": null,
   "id": "4cc5a514-9e53-492c-8aab-0af54ba23bb7",
   "metadata": {},
   "outputs": [],
   "source": [
    "# ! pip list\n",
    "MY_PROCESSED_DATA_PATH = f\"{os.getcwd()}\"\n",
    "print(f\"Executing compositionspace in the following working directory: {os.getcwd()}\")"
   ]
  },
  {
   "cell_type": "markdown",
   "id": "ed397ebd-5954-40bf-b4fc-3042eca1acf0",
   "metadata": {},
   "source": [
    "## Load reconstruction and ranging and voxelize with rectangular transfer function without creating slices"
   ]
  },
  {
   "cell_type": "code",
   "execution_count": null,
   "id": "ecd3a7e2-6c3a-470c-8c64-e7fdad7e44fd",
   "metadata": {},
   "outputs": [],
   "source": [
    "workdir = \"/home/kaiobach/Research/paraprobe-toolbox/teaching/example_analyses/iuc09_saksena\"\n",
    "workdir = \"/home/kaiobach/Research/paraprobe-toolbox/teaching/example_analyses/usa_denton_smith\"\n",
    "simid = 1\n",
    "RECONSTRUCTION_AND_RANGING = (f\"{workdir}/..\")\n",
    "RECONSTRUCTION_AND_RANGING = (f\"{workdir}/PARAPROBE.Transcoder.Results.SimID.1.nxs\",\n",
    "                              f\"{workdir}/PARAPROBE.Ranger.Results.SimID.1.nxs\")\n",
    "config_file_path = f\"{MY_PROCESSED_DATA_PATH}/tests/experiment_params.yaml\"\n",
    "results_file_path = f\"{MY_PROCESSED_DATA_PATH}/CompositionSpace.Results.{simid}.nxs\""
   ]
  },
  {
   "cell_type": "code",
   "execution_count": null,
   "id": "d615c926-17f4-4ba2-93d9-acfe0230cdfe",
   "metadata": {},
   "outputs": [],
   "source": [
    "get_file_size(RECONSTRUCTION_AND_RANGING[0])\n",
    "get_file_size(RECONSTRUCTION_AND_RANGING[1])\n",
    "# H5Web(RECONSTRUCTION_AND_RANGING[0])\n",
    "# H5Web(RECONSTRUCTION_AND_RANGING[1])"
   ]
  },
  {
   "cell_type": "code",
   "execution_count": null,
   "id": "33255c0b-04a8-4b84-9d70-c2ce3a62cfb2",
   "metadata": {
    "scrolled": true
   },
   "outputs": [],
   "source": [
    "voxelize = ProcessPreparation(config_file_path, results_file_path, entry_id=1, verbose=True)\n",
    "voxelize.run(recon_file_path=RECONSTRUCTION_AND_RANGING[0],\n",
    "             range_file_path=RECONSTRUCTION_AND_RANGING[1])"
   ]
  },
  {
   "cell_type": "code",
   "execution_count": null,
   "id": "625f4da7-e0d4-4d37-9792-ad5fed59bb84",
   "metadata": {},
   "outputs": [],
   "source": [
    "get_file_size(results_file_path)\n",
    "# H5Web(results_file_path)"
   ]
  },
  {
   "cell_type": "markdown",
   "id": "cfaa354a-9e4a-4529-b1c9-da6fd4165020",
   "metadata": {},
   "source": [
    "Voxelization is performed on elements not on iontypes, i.e. using a atomic decomposition!"
   ]
  },
  {
   "cell_type": "markdown",
   "id": "8617402e-fe2d-44b5-8a03-4d2ddb41296e",
   "metadata": {},
   "source": [
    "## Automated phase assignment"
   ]
  },
  {
   "cell_type": "code",
   "execution_count": null,
   "id": "0a667aa3-e69e-4138-a4bd-5a53f14c9a7d",
   "metadata": {
    "scrolled": true
   },
   "outputs": [],
   "source": [
    "autophase = ProcessAutomatedPhaseAssignment(config_file_path, results_file_path, entry_id=1, verbose=True)\n",
    "autophase.run()"
   ]
  },
  {
   "cell_type": "code",
   "execution_count": null,
   "id": "e0a4aa0f-2175-4006-a9e0-1f30333284ad",
   "metadata": {},
   "outputs": [],
   "source": [
    "get_file_size(results_file_path)\n",
    "# H5Web(results_file_path)"
   ]
  },
  {
   "cell_type": "markdown",
   "id": "10373f39-6a61-4604-9631-06e4eded4e6d",
   "metadata": {},
   "source": [
    "## Segmentation PCA and IC minimization"
   ]
  },
  {
   "cell_type": "code",
   "execution_count": null,
   "id": "f126ed5c-b107-4890-8fd2-c46c46e3bc5b",
   "metadata": {},
   "outputs": [],
   "source": [
    "segmentation = ProcessSegmentation(config_file_path, results_file_path, entry_id=1, verbose=True)\n",
    "segmentation.run()"
   ]
  },
  {
   "cell_type": "code",
   "execution_count": null,
   "id": "9b31ff53-d565-4128-a5a7-e8ffe011d07e",
   "metadata": {
    "scrolled": true
   },
   "outputs": [],
   "source": [
    "get_file_size(results_file_path)\n",
    "# H5Web(results_file_path)"
   ]
  },
  {
   "cell_type": "markdown",
   "id": "638edaae-174c-46d7-8765-86100e76273b",
   "metadata": {},
   "source": [
    "## DBScan clustering"
   ]
  },
  {
   "cell_type": "code",
   "execution_count": null,
   "id": "6895f918-49d0-4f9c-9c84-130fadc72867",
   "metadata": {},
   "outputs": [],
   "source": [
    "clustering = ProcessClustering(config_file_path, results_file_path, entry_id=1, verbose=True)\n",
    "clustering.run_and_write_results()"
   ]
  },
  {
   "cell_type": "code",
   "execution_count": null,
   "id": "44223976-9a66-4330-a414-79bf0847355b",
   "metadata": {},
   "outputs": [],
   "source": [
    "get_file_size(results_file_path)\n",
    "H5Web(results_file_path)"
   ]
  },
  {
   "cell_type": "markdown",
   "id": "b2c4acc3-a2b1-4faa-bccd-b3eee80729bc",
   "metadata": {},
   "source": [
    "## Meshing"
   ]
  },
  {
   "cell_type": "markdown",
   "id": "9ce2de83-7b43-4afc-a7eb-d6201e06e323",
   "metadata": {},
   "source": [
    "Test for now with the SiGe dataset."
   ]
  },
  {
   "cell_type": "code",
   "execution_count": null,
   "id": "633ead77-993e-4058-b95b-45a4dd998a78",
   "metadata": {},
   "outputs": [],
   "source": [
    "sige_file_path = \"Output_DBSCAN_segmentation_phase_1.h5\"\n",
    "H5Web(sige_file_path)"
   ]
  },
  {
   "cell_type": "code",
   "execution_count": null,
   "id": "17ee7615-98d9-4440-a6af-e55683248cda",
   "metadata": {},
   "outputs": [],
   "source": [
    "import h5py\n",
    "import numpy as np\n",
    "with h5py.File(sige_file_path, \"r\") as h5r:\n",
    "    n_vxls = 0\n",
    "    aabb3d = np.zeros((3, 2), np.float64)\n",
    "    for dim in [0, 1, 2]:\n",
    "        aabb3d[dim, :] = [np.finfo(np.float64).max, np.finfo(np.float64).min]\n",
    "    # print(aabb3d)\n",
    "    for key in h5r[\"1\"].keys():\n",
    "        for dim in [0, 1, 2]:\n",
    "            mimx = (np.min(h5r[\"1\"][key][:, dim]), np.max(h5r[\"1\"][key][:, dim]))\n",
    "            if mimx[0] <= aabb3d[dim, 0]:\n",
    "                aabb3d[dim, 0] = mimx[0]\n",
    "            if mimx[1] >= aabb3d[dim, 1]:\n",
    "                aabb3d[dim, 1] = mimx[1]\n",
    "            n_vxls += int(np.shape(h5r[\"1\"][key])[0])\n",
    "    print(aabb3d)\n",
    "    print(n_vxls)\n",
    "    # assume cubic vxl 2nm edge length"
   ]
  },
  {
   "cell_type": "markdown",
   "id": "89f1378d-f267-4914-a9af-2d51fb7e44ab",
   "metadata": {},
   "source": [
    "Assume that the data were discretized on the following rectangular grid with 2nm cubic voxel"
   ]
  },
  {
   "cell_type": "code",
   "execution_count": null,
   "id": "5119192e-fea3-47ad-b958-cd9184d3c189",
   "metadata": {},
   "outputs": [],
   "source": [
    "nx = int((88--96)/2)\n",
    "ny = int((94--96)/2)\n",
    "nz = int((0--222)/2)\n",
    "grid = np.zeros((nx, ny, nz), np.uint32)\n",
    "# that grid should intentionally be a cuboid to enable checking correct dimensions\n",
    "\n",
    "def i_to_xyz(i):\n",
    "    z = int(i / (nx * ny))\n",
    "    rem = i - (nx * ny * z)\n",
    "    y = int(rem / nx)\n",
    "    x = rem - (y * nx)\n",
    "    return (x, y, z)\n",
    "\n",
    "with h5py.File(sige_file_path, \"r\") as h5r:\n",
    "    for key in h5r[\"1\"].keys():\n",
    "        jds = np.asarray(h5r[\"1\"][key][:, 3], np.uint32)\n",
    "        for j in jds:\n",
    "            x, y, z = i_to_xyz(j)\n",
    "            grid[x, y, z] = int(key) + 1\n",
    "        print(key)\n",
    "print(np.shape(grid))\n",
    "print(np.unique(grid))"
   ]
  },
  {
   "cell_type": "code",
   "execution_count": null,
   "id": "7f697813-a48e-4c52-b6a7-804829603d6d",
   "metadata": {},
   "outputs": [],
   "source": [
    "import h5py\n",
    "with h5py.File(\"input.grid.nxs\", \"w\") as h5w:\n",
    "    h5w.create_dataset(\"/grid\", compression=\"gzip\", compression_opts=1, data=grid)"
   ]
  },
  {
   "cell_type": "code",
   "execution_count": null,
   "id": "32d12e24-946c-4b19-a0bb-ea428aeb1374",
   "metadata": {},
   "outputs": [],
   "source": [
    "H5Web(\"input.grid.nxs\")"
   ]
  },
  {
   "cell_type": "code",
   "execution_count": null,
   "id": "3efc0fb2-11b4-4cb9-929a-cba9a0a2d0e9",
   "metadata": {},
   "outputs": [],
   "source": []
  }
 ],
 "metadata": {
  "kernelspec": {
   "display_name": "Python 3 (ipykernel)",
   "language": "python",
   "name": "python3"
  },
  "language_info": {
   "codemirror_mode": {
    "name": "ipython",
    "version": 3
   },
   "file_extension": ".py",
   "mimetype": "text/x-python",
   "name": "python",
   "nbconvert_exporter": "python",
   "pygments_lexer": "ipython3",
   "version": "3.12.4"
  }
 },
 "nbformat": 4,
 "nbformat_minor": 5
}
