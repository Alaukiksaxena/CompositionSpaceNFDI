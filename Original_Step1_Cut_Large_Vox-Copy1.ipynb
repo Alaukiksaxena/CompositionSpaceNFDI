{
 "cells": [
  {
   "cell_type": "code",
   "execution_count": 1,
   "metadata": {
    "ExecuteTime": {
     "end_time": "2021-08-04T15:25:33.848799Z",
     "start_time": "2021-08-04T15:25:32.475353Z"
    }
   },
   "outputs": [],
   "source": [
    "import numpy as np\n",
    "import pandas as pd\n",
    "import matplotlib.pyplot as plt\n",
    "from comp_analysis_cluster import read_rrng\n",
    "import  pandas as pd\n",
    "from tqdm import tqdm\n",
    "import h5py\n",
    "from comp_analysis_cluster import apt_df_2_big_chunks_arr\n",
    "from tqdm import tqdm\n"
   ]
  },
  {
   "cell_type": "code",
   "execution_count": 7,
   "metadata": {},
   "outputs": [
    {
     "name": "stderr",
     "output_type": "stream",
     "text": [
      "\r",
      "  0%|          | 0/3 [00:00<?, ?it/s]"
     ]
    },
    {
     "name": "stdout",
     "output_type": "stream",
     "text": [
      "Hi\n",
      "D1 High Hc R5076_52126.apt\n",
      "Done, reading *.APT file\n"
     ]
    },
    {
     "name": "stderr",
     "output_type": "stream",
     "text": [
      "100%|██████████| 3/3 [00:02<00:00,  1.24it/s]\n"
     ]
    },
    {
     "name": "stdout",
     "output_type": "stream",
     "text": [
      "/u/gazal/APT_calculations/for_nikita_Sm_Zr_Cu_Fe/APT_exp_Data_D3/D1/R5076_53078__SmCoFeCuZr_goodrangefile_20210309_Polin_WithoutHydrites_colors.RRNG\n"
     ]
    },
    {
     "name": "stderr",
     "output_type": "stream",
     "text": [
      "100%|██████████| 10/10 [00:10<00:00,  1.04s/it]"
     ]
    },
    {
     "name": "stdout",
     "output_type": "stream",
     "text": [
      "CPU times: user 1min 33s, sys: 13.3 s, total: 1min 46s\n",
      "Wall time: 1min 48s\n"
     ]
    },
    {
     "name": "stderr",
     "output_type": "stream",
     "text": [
      "\n"
     ]
    }
   ],
   "source": [
    "%%time\n",
    "folder = '/u/gazal/APT_calculations/for_nikita_Sm_Zr_Cu_Fe/APT_exp_Data_D3/D1'\n",
    "apt_df_2_big_chunks_arr(folder,10)"
   ]
  },
  {
   "cell_type": "code",
   "execution_count": 4,
   "metadata": {},
   "outputs": [],
   "source": [
    "#######################################################Done"
   ]
  },
  {
   "cell_type": "code",
   "execution_count": 8,
   "metadata": {
    "ExecuteTime": {
     "end_time": "2021-08-04T15:26:40.644866Z",
     "start_time": "2021-08-04T15:26:40.633897Z"
    }
   },
   "outputs": [
    {
     "name": "stdout",
     "output_type": "stream",
     "text": [
      "groups:    [('Group_xyz_Da_spec', <HDF5 group \"/Group_xyz_Da_spec\" (10 members)>)]\n",
      "keys:    ['chunk_0', 'chunk_1', 'chunk_2', 'chunk_3', 'chunk_4', 'chunk_5', 'chunk_6', 'chunk_7', 'chunk_8', 'chunk_9']\n"
     ]
    }
   ],
   "source": [
    "hdf = h5py.File(\"./file_D1 High Hc R5076_52126_apt_large_chunks_test_arr.h5\", \"r\")\n",
    "print(\"groups:   \",list(hdf.items()))\n",
    "dataset = hdf.get(\"Group_xyz_Da_spec\")\n",
    "\n",
    "\n",
    "print(\"keys:   \",list(dataset.keys()))\n"
   ]
  },
  {
   "cell_type": "code",
   "execution_count": 5,
   "metadata": {
    "ExecuteTime": {
     "end_time": "2021-08-04T15:30:51.770969Z",
     "start_time": "2021-08-04T15:30:51.624600Z"
    }
   },
   "outputs": [
    {
     "data": {
      "text/html": [
       "<div>\n",
       "<style scoped>\n",
       "    .dataframe tbody tr th:only-of-type {\n",
       "        vertical-align: middle;\n",
       "    }\n",
       "\n",
       "    .dataframe tbody tr th {\n",
       "        vertical-align: top;\n",
       "    }\n",
       "\n",
       "    .dataframe thead th {\n",
       "        text-align: right;\n",
       "    }\n",
       "</style>\n",
       "<table border=\"1\" class=\"dataframe\">\n",
       "  <thead>\n",
       "    <tr style=\"text-align: right;\">\n",
       "      <th></th>\n",
       "      <th>x</th>\n",
       "      <th>y</th>\n",
       "      <th>z</th>\n",
       "      <th>Da</th>\n",
       "      <th>spec</th>\n",
       "    </tr>\n",
       "  </thead>\n",
       "  <tbody>\n",
       "    <tr>\n",
       "      <th>0</th>\n",
       "      <td>15.569557</td>\n",
       "      <td>28.454739</td>\n",
       "      <td>-221.977875</td>\n",
       "      <td>28.082645</td>\n",
       "      <td>2.0</td>\n",
       "    </tr>\n",
       "    <tr>\n",
       "      <th>1</th>\n",
       "      <td>-8.819740</td>\n",
       "      <td>-25.931377</td>\n",
       "      <td>-221.977875</td>\n",
       "      <td>29.461376</td>\n",
       "      <td>0.0</td>\n",
       "    </tr>\n",
       "    <tr>\n",
       "      <th>2</th>\n",
       "      <td>-38.769955</td>\n",
       "      <td>24.578482</td>\n",
       "      <td>-221.977875</td>\n",
       "      <td>73.936569</td>\n",
       "      <td>3.0</td>\n",
       "    </tr>\n",
       "    <tr>\n",
       "      <th>3</th>\n",
       "      <td>14.593032</td>\n",
       "      <td>3.656040</td>\n",
       "      <td>-221.977875</td>\n",
       "      <td>58.932606</td>\n",
       "      <td>0.0</td>\n",
       "    </tr>\n",
       "    <tr>\n",
       "      <th>4</th>\n",
       "      <td>3.419344</td>\n",
       "      <td>53.909920</td>\n",
       "      <td>-221.977875</td>\n",
       "      <td>29.541327</td>\n",
       "      <td>0.0</td>\n",
       "    </tr>\n",
       "    <tr>\n",
       "      <th>...</th>\n",
       "      <td>...</td>\n",
       "      <td>...</td>\n",
       "      <td>...</td>\n",
       "      <td>...</td>\n",
       "      <td>...</td>\n",
       "    </tr>\n",
       "    <tr>\n",
       "      <th>12058038</th>\n",
       "      <td>47.173653</td>\n",
       "      <td>-6.513051</td>\n",
       "      <td>-199.781586</td>\n",
       "      <td>28.116039</td>\n",
       "      <td>2.0</td>\n",
       "    </tr>\n",
       "    <tr>\n",
       "      <th>12058039</th>\n",
       "      <td>22.305206</td>\n",
       "      <td>3.647068</td>\n",
       "      <td>-199.781586</td>\n",
       "      <td>58.915775</td>\n",
       "      <td>0.0</td>\n",
       "    </tr>\n",
       "    <tr>\n",
       "      <th>12058040</th>\n",
       "      <td>12.899149</td>\n",
       "      <td>32.743221</td>\n",
       "      <td>-199.781586</td>\n",
       "      <td>58.918964</td>\n",
       "      <td>0.0</td>\n",
       "    </tr>\n",
       "    <tr>\n",
       "      <th>12058041</th>\n",
       "      <td>35.345623</td>\n",
       "      <td>25.584610</td>\n",
       "      <td>-199.781586</td>\n",
       "      <td>58.938145</td>\n",
       "      <td>0.0</td>\n",
       "    </tr>\n",
       "    <tr>\n",
       "      <th>12058042</th>\n",
       "      <td>18.872185</td>\n",
       "      <td>-34.669472</td>\n",
       "      <td>-199.781586</td>\n",
       "      <td>29.468571</td>\n",
       "      <td>0.0</td>\n",
       "    </tr>\n",
       "  </tbody>\n",
       "</table>\n",
       "<p>12058043 rows × 5 columns</p>\n",
       "</div>"
      ],
      "text/plain": [
       "                  x          y           z         Da  spec\n",
       "0         15.569557  28.454739 -221.977875  28.082645   2.0\n",
       "1         -8.819740 -25.931377 -221.977875  29.461376   0.0\n",
       "2        -38.769955  24.578482 -221.977875  73.936569   3.0\n",
       "3         14.593032   3.656040 -221.977875  58.932606   0.0\n",
       "4          3.419344  53.909920 -221.977875  29.541327   0.0\n",
       "...             ...        ...         ...        ...   ...\n",
       "12058038  47.173653  -6.513051 -199.781586  28.116039   2.0\n",
       "12058039  22.305206   3.647068 -199.781586  58.915775   0.0\n",
       "12058040  12.899149  32.743221 -199.781586  58.918964   0.0\n",
       "12058041  35.345623  25.584610 -199.781586  58.938145   0.0\n",
       "12058042  18.872185 -34.669472 -199.781586  29.468571   0.0\n",
       "\n",
       "[12058043 rows x 5 columns]"
      ]
     },
     "execution_count": 5,
     "metadata": {},
     "output_type": "execute_result"
    }
   ],
   "source": [
    "#dataset = hdf.get(\"xyz_Da_spec\")\n",
    "arr = np.array(dataset.get(\"chunk_2\"))\n",
    "columns = list(list(dataset.attrs.values())[0])\n",
    "pd.DataFrame(data = arr, columns =  columns)"
   ]
  },
  {
   "cell_type": "code",
   "execution_count": 11,
   "metadata": {},
   "outputs": [
    {
     "data": {
      "text/plain": [
       "['Co:1', 'Cu:1', 'Fe:1', 'Sm:1', 'Zr:1']"
      ]
     },
     "execution_count": 11,
     "metadata": {},
     "output_type": "execute_result"
    }
   ],
   "source": [
    "list(list(dataset.attrs.values())[1])"
   ]
  },
  {
   "cell_type": "code",
   "execution_count": null,
   "metadata": {},
   "outputs": [],
   "source": []
  },
  {
   "cell_type": "code",
   "execution_count": 6,
   "metadata": {
    "ExecuteTime": {
     "end_time": "2021-07-26T13:04:44.049846Z",
     "start_time": "2021-07-26T13:04:44.032821Z"
    }
   },
   "outputs": [],
   "source": [
    "hdf.close()"
   ]
  },
  {
   "cell_type": "code",
   "execution_count": null,
   "metadata": {},
   "outputs": [],
   "source": []
  }
 ],
 "metadata": {
  "kernelspec": {
   "display_name": "Python 3",
   "language": "python",
   "name": "python3"
  },
  "language_info": {
   "codemirror_mode": {
    "name": "ipython",
    "version": 3
   },
   "file_extension": ".py",
   "mimetype": "text/x-python",
   "name": "python",
   "nbconvert_exporter": "python",
   "pygments_lexer": "ipython3",
   "version": "3.7.6"
  }
 },
 "nbformat": 4,
 "nbformat_minor": 2
}
