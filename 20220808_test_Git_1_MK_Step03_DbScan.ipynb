{
 "cells": [
  {
   "cell_type": "code",
   "execution_count": null,
   "id": "babcd106-6343-4dbf-97d0-fe60fa427c75",
   "metadata": {},
   "outputs": [],
   "source": [
    "# import libraries\n",
    "import sys\n",
    "import os\n",
    "import h5py\n",
    "import numpy as np\n",
    "import pandas as pd\n",
    "import matplotlib.pylab as plt\n",
    "from jupyterlab_h5web import H5Web\n",
    "# import modules with the functionalities offered by CompositionSpace\n",
    "from compositionspace.utils import get_file_size\n",
    "from compositionspace.io import get_reconstructed_positions, get_iontypes, get_iontypes_info\n",
    "from compositionspace.clustering import ProcessClustering"
   ]
  },
  {
   "cell_type": "code",
   "execution_count": null,
   "id": "b6578ab8-480d-4fca-bb5a-88d472d28810",
   "metadata": {},
   "outputs": [],
   "source": [
    "# ! pip list  \n",
    "MY_PROCESSED_DATA_PATH = f\"{os.getcwd()}\"\n",
    "print(f\"Executing compositionspace in the following working directory: {os.getcwd()}\")"
   ]
  },
  {
   "cell_type": "code",
   "execution_count": null,
   "id": "29ed9637-b629-41f9-977d-147a811804a6",
   "metadata": {},
   "outputs": [],
   "source": [
    "RECONSTRUCTION_AND_RANGING = (\"R21_08680-v02.pos\", \"R21_08680.rrng\")\n",
    "RECONSTRUCTION_AND_RANGING = (\"PARAPROBE.Transcoder.Results.SimID.636502001.nxs\",\n",
    "                              \"PARAPROBE.Ranger.Results.SimID.636502001.nxs\")\n",
    "config_file_path = f\"{MY_PROCESSED_DATA_PATH}/experiment_params.yaml\"\n",
    "results_file_path = f\"{MY_PROCESSED_DATA_PATH}/CompositionSpace.Results.nxs\""
   ]
  },
  {
   "cell_type": "code",
   "execution_count": null,
   "id": "ec62e7f4-1902-469c-9136-aa05be238155",
   "metadata": {},
   "outputs": [],
   "source": [
    "from sklearn.cluster import DBSCAN\n",
    "\n",
    "with h5py.File(results_file_path, \"r\") as h5r:\n",
    "    target = 5\n",
    "    phase_identifier = h5r[f\"/entry1/segmentation/ic_opt/cluster_analysis{target}/y_pred\"][:]\n",
    "    all_vxl_pos = h5r[\"/entry1/voxelization/cg_grid/position\"][:,:]\n",
    "    print(all_vxl_pos[0:10, :])\n",
    "    print(np.shape(all_vxl_pos))\n",
    "    print(set(phase_identifier))\n",
    "    \n",
    "    eps = 2. * 0.5  # nm ! # self.params[\"ml_models\"][\"DBScan\"][\"eps\"]\n",
    "    min_samples = 5  # self.params[\"ml_models\"][\"DBScan\"][\"min_samples\"]\n",
    "    \n",
    "    for target_phase in np.arange(0, np.max(tuple(set(phase_identifier))) + 1):\n",
    "        print(f\"Loop {target_phase}\")\n",
    "        # target_phase = 0  # <= np.max(phase_identifier)\n",
    "        if target_phase > np.max(tuple(set(phase_identifier))):\n",
    "            raise ValueError(f\"Argument target_phase needs to be <= np.max(tuple(set(phase_identifier))) !\")\n",
    "        trg_vxl_pos = all_vxl_pos[phase_identifier == target_phase, :]\n",
    "        print(np.shape(trg_vxl_pos))\n",
    "\n",
    "        db = DBSCAN(eps=eps,\n",
    "                    min_samples=min_samples,\n",
    "                    metric=\"euclidean\",\n",
    "                    algorithm=\"kd_tree\",\n",
    "                    leaf_size=10,\n",
    "                    p=None,\n",
    "                    n_jobs=-1).fit(trg_vxl_pos)\n",
    "        # print(np.unique(db.core_sample_indices_))\n",
    "        # core_samples_mask = np.zeros_like(db.labels_, dtype=bool)\n",
    "        # core_samples_mask[db.core_sample_indices_] = True\n",
    "        # labels = db.labels_\n",
    "        print(len(np.unique(db.labels_)))\n",
    "        print(np.unique(db.labels_))\n",
    "        del trg_vxl_pos"
   ]
  },
  {
   "cell_type": "code",
   "execution_count": null,
   "id": "3bf8166b-7508-4a8a-8760-eb8d06e19591",
   "metadata": {},
   "outputs": [],
   "source": [
    "Df_centroids_no_files, Df_centroids, Phase_columns = pdata.get_post_centroids(comps.voxel_centroid_output_file, 1)\n",
    "print(f\"df_centroids_no_files {Df_centroids_no_files}\")\n",
    "print(f\"Df_centroids {Df_centroids}\")\n",
    "print(f\"Phase_columns {Phase_columns}\")\n",
    "\n",
    "db = DBSCAN(eps=eps, min_samples=min_samples).fit(Df_centroids_no_files.values)  # eps=5., min_samples= 35\n",
    "print(np.unique(db.core_sample_indices_))\n",
    "core_samples_mask = np.zeros_like(db.labels_, dtype=bool)\n",
    "core_samples_mask[db.core_sample_indices_] = True\n",
    "labels = db.labels_"
   ]
  },
  {
   "cell_type": "code",
   "execution_count": null,
   "id": "0c7d8434",
   "metadata": {
    "tags": []
   },
   "outputs": [],
   "source": [
    "pdata.DBSCAN_clustering(comps.voxel_centroid_output_file, cluster_id = 0,\n",
    "                        plot=True, plot3d=True, save=True)"
   ]
  },
  {
   "cell_type": "code",
   "execution_count": null,
   "id": "90c994f6-5985-4134-b2c1-e489b4290e8a",
   "metadata": {},
   "outputs": [],
   "source": [
    "segmentation = ProcessSegmentation(\n",
    "    config_file_path,\n",
    "    results_file_path,\n",
    "    entry_id=1,\n",
    "    verbose=False)\n",
    "segmentation.perform_pca_and_write_results()\n",
    "segmentation.perform_bics_minimization_and_write_results()"
   ]
  },
  {
   "cell_type": "code",
   "execution_count": null,
   "id": "7940b252-f8ce-40db-8275-ab0f709564b5",
   "metadata": {},
   "outputs": [],
   "source": [
    "H5Web(results_file_path)"
   ]
  },
  {
   "cell_type": "markdown",
   "id": "6345ca38-0d7a-4337-b172-c14fe3649873",
   "metadata": {},
   "source": [
    "<div class=\"alert alert-block alert-danger\">\n",
    "Discussion points:<br>\n",
    "* Modify NXapm_composition_space<br>\n",
    "* What to show how to show?<br>\n",
    "* Number of cluster vs Number of clusters? wording...?<br>\n",
    "* Why to run the gm several times, ones in the bics loop ones in get composition cluster files \n",
    "</div>"
   ]
  }
 ],
 "metadata": {
  "kernelspec": {
   "display_name": "Python 3 (ipykernel)",
   "language": "python",
   "name": "python3"
  },
  "language_info": {
   "codemirror_mode": {
    "name": "ipython",
    "version": 3
   },
   "file_extension": ".py",
   "mimetype": "text/x-python",
   "name": "python",
   "nbconvert_exporter": "python",
   "pygments_lexer": "ipython3",
   "version": "3.11.5"
  }
 },
 "nbformat": 4,
 "nbformat_minor": 5
}
