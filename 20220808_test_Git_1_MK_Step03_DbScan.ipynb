{
 "cells": [
  {
   "cell_type": "code",
   "execution_count": 2,
   "id": "c3d54e7c",
   "metadata": {},
   "outputs": [],
   "source": [
    "# import libraries\n",
    "import sys\n",
    "import os\n",
    "import json\n",
    "import yaml\n",
    "import pandas as pd\n",
    "import matplotlib.pylab as plt\n",
    "# import modules with the functionalities offered by CompositionSpace\n",
    "from compositionspace.get_gitrepo_commit import get_repo_last_commit\n",
    "from compositionspace.preparation import ProcessPreparation\n",
    "from compositionspace.segmentation import ProcessSegmentation\n",
    "from compositionspace.clustering import ProcessClustering"
   ]
  },
  {
   "cell_type": "code",
   "execution_count": 3,
   "id": "eeab817f-fd21-453e-99a0-7e043fc96f60",
   "metadata": {},
   "outputs": [
    {
     "name": "stdout",
     "output_type": "stream",
     "text": [
      "Executing compositionspace in the following working directory /home/kaiobach/Research/hu_hu_hu/sprint19/compspace/CompositionSpace\n"
     ]
    }
   ],
   "source": [
    "# if desired inspect your environment\n",
    "# ! pip list\n",
    "print(f\"Executing compositionspace in the following working directory: {os.getcwd()}\")"
   ]
  },
  {
   "cell_type": "code",
   "execution_count": 6,
   "id": "b1d069f8",
   "metadata": {
    "tags": []
   },
   "outputs": [
    {
     "data": {
      "application/vnd.jupyter.widget-view+json": {
       "model_id": "0dd62ad71d3648dc835fdac22d695b34",
       "version_major": 2,
       "version_minor": 0
      },
      "text/plain": [
       "Reading files:   0%|          | 0/3 [00:00<?, ?it/s]"
      ]
     },
     "metadata": {},
     "output_type": "display_data"
    },
    {
     "data": {
      "application/vnd.jupyter.widget-view+json": {
       "model_id": "cdc8ad555f6b48e9b8bbe7f46aa6cbe4",
       "version_major": 2,
       "version_minor": 0
      },
      "text/plain": [
       "Creating chunks:   0%|          | 0/10 [00:00<?, ?it/s]"
      ]
     },
     "metadata": {},
     "output_type": "display_data"
    },
    {
     "data": {
      "application/vnd.jupyter.widget-view+json": {
       "model_id": "fd6f21794c3e4392909fbb093a4d83ab",
       "version_major": 2,
       "version_minor": 0
      },
      "text/plain": [
       "Getting Voxels:   0%|          | 0/10 [00:00<?, ?it/s]"
      ]
     },
     "metadata": {},
     "output_type": "display_data"
    },
    {
     "data": {
      "application/vnd.jupyter.widget-view+json": {
       "model_id": "aaa2199330e54762a402516cda2b5a27",
       "version_major": 2,
       "version_minor": 0
      },
      "text/plain": [
       "Calculating voxel composition:   0%|          | 0/8846 [00:00<?, ?it/s]"
      ]
     },
     "metadata": {},
     "output_type": "display_data"
    }
   ],
   "source": [
    "MY_PROCESSED_DATA_PATH = f\"{os.getcwd()}\"\n",
    "\n",
    "data = ProcessPreparation(f\"{MY_PROCESSED_DATA_PATH}/experiment_params.yaml\")\n",
    "data.get_big_slices()\n",
    "data.get_voxels()\n",
    "data.calculate_voxel_composition()"
   ]
  },
  {
   "cell_type": "code",
   "execution_count": null,
   "id": "016465aa",
   "metadata": {},
   "outputs": [],
   "source": [
    "data.chunk_files"
   ]
  },
  {
   "cell_type": "code",
   "execution_count": null,
   "id": "4c755d3d",
   "metadata": {},
   "outputs": [],
   "source": [
    "data.voxel_files"
   ]
  },
  {
   "cell_type": "code",
   "execution_count": null,
   "id": "2ae07585",
   "metadata": {},
   "outputs": [],
   "source": [
    "data.voxel_ratio_file"
   ]
  },
  {
   "cell_type": "code",
   "execution_count": null,
   "id": "4fda2add",
   "metadata": {
    "tags": []
   },
   "outputs": [],
   "source": [
    "comps = CompositionClustering(\"experiment_params.yaml\")\n",
    "res = comps.get_PCA_cumsum(data.voxel_ratio_file, data.voxel_files[0])"
   ]
  },
  {
   "cell_type": "code",
   "execution_count": null,
   "id": "4c1967bd",
   "metadata": {
    "tags": []
   },
   "outputs": [],
   "source": [
    "res = comps.get_bics_minimization(data.voxel_ratio_file, data.voxel_files[0])"
   ]
  },
  {
   "cell_type": "code",
   "execution_count": null,
   "id": "a9431a6c",
   "metadata": {
    "tags": []
   },
   "outputs": [],
   "source": [
    "comps.get_composition_clusters(data.voxel_ratio_file, data.voxel_files[0])"
   ]
  },
  {
   "cell_type": "code",
   "execution_count": null,
   "id": "8a9e2f33",
   "metadata": {},
   "outputs": [],
   "source": [
    "comps.generate_plots()"
   ]
  },
  {
   "cell_type": "code",
   "execution_count": null,
   "id": "89645fb8",
   "metadata": {},
   "outputs": [],
   "source": [
    "pdata = DataPostprocess(\"experiment_params.yaml\")\n",
    "print(f\"comps.voxel_centroid_output_file {comps.voxel_centroid_output_file}\")"
   ]
  },
  {
   "cell_type": "code",
   "execution_count": null,
   "id": "5b904520-c3d6-4558-9d36-3cc70d94cc00",
   "metadata": {},
   "outputs": [],
   "source": [
    "## Inspect that vox_centroid_file contains indeed just copies"
   ]
  },
  {
   "cell_type": "code",
   "execution_count": null,
   "id": "2c7d4d98-9051-4b1f-9208-325756514bcd",
   "metadata": {},
   "outputs": [],
   "source": [
    "import h5py\n",
    "import numpy as np\n",
    "h5r = h5py.File(comps.voxel_centroid_output_file, \"r\")\n",
    "xyz_0 = h5r[\"0/0\"][:, :]\n",
    "xyz_1 = h5r[\"1/1\"][:, :]\n",
    "xyz_2 = h5r[\"2/2\"][:, :]\n",
    "h5r.close()\n",
    "visited = np.zeros((len(xyz_2),), bool)\n",
    "print(f\"xyz_0 {np.shape(xyz_0)}\")\n",
    "print(f\"xyz_1 {np.shape(xyz_1)}\")\n",
    "print(f\"xyz_2 {np.shape(xyz_2)}\")\n",
    "print(f\"visited {np.shape(visited)}\")\n",
    "print(visited)\n",
    "max_diff = 0.\n",
    "if False is True:\n",
    "    for i in np.arange(0, np.shape(xyz_0)[0]):\n",
    "        idx = int(xyz_0[i, 3])\n",
    "        if visited[idx] is not True:\n",
    "            visited[idx] = True\n",
    "            sqr_diff = (xyz_2[idx, 0] - xyz_0[i, 0])**2 + (xyz_2[idx, 1] - xyz_0[i, 1])**2 + (xyz_2[idx, 2] - xyz_0[i, 2])**2\n",
    "            if sqr_diff >= max_diff:\n",
    "                max_diff = sqr_diff\n",
    "            # print(f\"idx {idx} sqr_diff {format(sqr_diff, '.60g')}\")\n",
    "        else:\n",
    "            print(f\"idx {idx} visited already\")\n",
    "    print(max_diff)\n",
    "    print(np.sum(visited))\n",
    "for i in np.arange(0, np.shape(xyz_1)[0]):\n",
    "    idx = int(xyz_1[i, 3])\n",
    "    if visited[idx] is not True:\n",
    "        visited[idx] = True\n",
    "        sqr_diff = (xyz_2[idx, 0] - xyz_1[i, 0])**2 + (xyz_2[idx, 1] - xyz_1[i, 1])**2 + (xyz_2[idx, 2] - xyz_1[i, 2])**2\n",
    "        if sqr_diff >= max_diff:\n",
    "            max_diff = sqr_diff\n",
    "        # print(f\"idx {idx} sqr_diff {format(sqr_diff, '.60g')}\")\n",
    "    else:\n",
    "        print(f\"idx {idx} visited already\")\n",
    "print(max_diff)\n",
    "print(np.sum(visited))"
   ]
  },
  {
   "cell_type": "markdown",
   "id": "a0da5f05-faa8-431f-be24-45e8f5ad19a9",
   "metadata": {},
   "source": [
    "## Conclusion: Indeed the vox_centroid_file contains unnecessary copies of positions that could be replaced with a phase_identifier array with low entropy, i.e. high compressibility"
   ]
  },
  {
   "cell_type": "code",
   "execution_count": null,
   "id": "ec62e7f4-1902-469c-9136-aa05be238155",
   "metadata": {},
   "outputs": [],
   "source": [
    "from sklearn.cluster import DBSCAN\n",
    "\n",
    "eps = 3  # self.params[\"ml_models\"][\"DBScan\"][\"eps\"]\n",
    "min_samples = 5  # self.params[\"ml_models\"][\"DBScan\"][\"min_samples\"]\n",
    "\n",
    "Df_centroids_no_files, Df_centroids, Phase_columns = pdata.get_post_centroids(comps.voxel_centroid_output_file, 1)\n",
    "print(f\"df_centroids_no_files {Df_centroids_no_files}\")\n",
    "print(f\"Df_centroids {Df_centroids}\")\n",
    "print(f\"Phase_columns {Phase_columns}\")\n",
    "\n",
    "db = DBSCAN(eps=eps, min_samples=min_samples).fit(Df_centroids_no_files.values)  # eps=5., min_samples= 35\n",
    "print(np.unique(db.core_sample_indices_))\n",
    "core_samples_mask = np.zeros_like(db.labels_, dtype=bool)\n",
    "core_samples_mask[db.core_sample_indices_] = True\n",
    "labels = db.labels_"
   ]
  },
  {
   "cell_type": "code",
   "execution_count": null,
   "id": "0c7d8434",
   "metadata": {
    "tags": []
   },
   "outputs": [],
   "source": [
    "pdata.DBSCAN_clustering(comps.voxel_centroid_output_file, cluster_id = 0,\n",
    "                        plot=True, plot3d=True, save=True)"
   ]
  },
  {
   "cell_type": "code",
   "execution_count": null,
   "id": "99ec380f-1b05-4a2e-a210-561eb26b24f4",
   "metadata": {},
   "outputs": [],
   "source": []
  }
 ],
 "metadata": {
  "kernelspec": {
   "display_name": "Python 3 (ipykernel)",
   "language": "python",
   "name": "python3"
  },
  "language_info": {
   "codemirror_mode": {
    "name": "ipython",
    "version": 3
   },
   "file_extension": ".py",
   "mimetype": "text/x-python",
   "name": "python",
   "nbconvert_exporter": "python",
   "pygments_lexer": "ipython3",
   "version": "3.11.5"
  }
 },
 "nbformat": 4,
 "nbformat_minor": 5
}
