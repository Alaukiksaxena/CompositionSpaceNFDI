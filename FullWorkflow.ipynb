{
 "cells": [
  {
   "cell_type": "code",
   "execution_count": 1,
   "id": "c3d54e7c",
   "metadata": {},
   "outputs": [],
   "source": [
    "# import libraries\n",
    "import sys\n",
    "import os\n",
    "import yaml\n",
    "import h5py\n",
    "import pandas as pd\n",
    "import flatdict as fd\n",
    "import matplotlib.pylab as plt\n",
    "from jupyterlab_h5web import H5Web\n",
    "# import modules with the functionalities offered by CompositionSpace\n",
    "from compositionspace.utils import get_file_size\n",
    "from compositionspace.visualization import generate_xdmf_for_visualizing_content\n",
    "# from compositionspace.io import get_reconstructed_positions, get_iontypes, get_ranging_info\n",
    "from compositionspace.preparation import ProcessPreparation\n",
    "from compositionspace.autophase import ProcessAutomatedPhaseAssignment\n",
    "from compositionspace.segmentation import ProcessSegmentation\n",
    "from compositionspace.clustering import ProcessClustering"
   ]
  },
  {
   "cell_type": "code",
   "execution_count": 2,
   "id": "4cc5a514-9e53-492c-8aab-0af54ba23bb7",
   "metadata": {},
   "outputs": [
    {
     "name": "stdout",
     "output_type": "stream",
     "text": [
      "Executing compositionspace in the following working directory: /home/kaiobach/Research/hu_hu_hu/sprint22/conda-compspace-step01/CompositionSpace\n"
     ]
    }
   ],
   "source": [
    "# ! pip list\n",
    "MY_PROCESSED_DATA_PATH = f\"{os.getcwd()}\"\n",
    "print(f\"Executing compositionspace in the following working directory: {os.getcwd()}\")"
   ]
  },
  {
   "cell_type": "markdown",
   "id": "ed397ebd-5954-40bf-b4fc-3042eca1acf0",
   "metadata": {},
   "source": [
    "## Load reconstruction and ranging and voxelize with rectangular transfer function without creating slices"
   ]
  },
  {
   "cell_type": "markdown",
   "id": "802bf198-692c-4a87-abed-95492c775745",
   "metadata": {},
   "source": [
    "Prerequisite: Properly formatted reconstructed dataset and ranging definitions generated either with paraprobe-toolbox."
   ]
  },
  {
   "cell_type": "code",
   "execution_count": 3,
   "id": "ecd3a7e2-6c3a-470c-8c64-e7fdad7e44fd",
   "metadata": {},
   "outputs": [],
   "source": [
    "paraprobe_toolbox_dir = \"/home/kaiobach/Research/paraprobe-toolbox\"  # CHANGEME\"\n",
    "workdir = [f\"{paraprobe_toolbox_dir}/teaching/example_analyses/usa_denton_smith\",\n",
    "           f\"{paraprobe_toolbox_dir}/teaching/example_analyses/iuc09_saksena\"]\n",
    "simid = 1\n",
    "RECONSTRUCTION_AND_RANGING = (f\"{workdir[simid - 1]}/..\")\n",
    "RECONSTRUCTION_AND_RANGING = (f\"{workdir[simid - 1]}/PARAPROBE.Transcoder.Results.SimID.1.nxs\",\n",
    "                              f\"{workdir[simid - 1]}/PARAPROBE.Ranger.Results.SimID.1.nxs\")\n",
    "config_file_path = f\"{MY_PROCESSED_DATA_PATH}/tests/experiment_params.yaml\"\n",
    "results_file_path = f\"{MY_PROCESSED_DATA_PATH}/CompositionSpace.Results.{simid}.nxs\""
   ]
  },
  {
   "cell_type": "code",
   "execution_count": 4,
   "id": "d615c926-17f4-4ba2-93d9-acfe0230cdfe",
   "metadata": {},
   "outputs": [
    {
     "name": "stdout",
     "output_type": "stream",
     "text": [
      "16.239 MiB\n",
      "0.871 MiB\n"
     ]
    }
   ],
   "source": [
    "get_file_size(RECONSTRUCTION_AND_RANGING[0])\n",
    "get_file_size(RECONSTRUCTION_AND_RANGING[1])\n",
    "# H5Web(RECONSTRUCTION_AND_RANGING[0])\n",
    "# H5Web(RECONSTRUCTION_AND_RANGING[1])"
   ]
  },
  {
   "cell_type": "code",
   "execution_count": 5,
   "id": "33255c0b-04a8-4b84-9d70-c2ce3a62cfb2",
   "metadata": {
    "scrolled": true
   },
   "outputs": [
    {
     "name": "stdout",
     "output_type": "stream",
     "text": [
      "Load reconstructed positions shape (945211, 3), type <class 'numpy.ndarray'>, dtype float32\n",
      "26 iontypes distinguished:\n",
      "\tion0, ('unknown iontype', np.uint8(0))\n",
      "\tion1, ('Si ++', np.uint8(1))\n",
      "\tion2, ('Si +', np.uint8(2))\n",
      "\tion3, ('Cr +', np.uint8(3))\n",
      "\tion4, ('Si +', np.uint8(4))\n",
      "\tion5, ('Si +', np.uint8(5))\n",
      "\tion6, ('Si ++', np.uint8(6))\n",
      "\tion7, ('Si ++', np.uint8(7))\n",
      "\tion8, ('Cr +', np.uint8(8))\n",
      "\tion9, ('Cr ++', np.uint8(9))\n",
      "\tion10, ('Cr ++', np.uint8(10))\n",
      "\tion11, ('Cu +', np.uint8(11))\n",
      "\tion12, ('Cu +', np.uint8(12))\n",
      "\tion13, ('C +', np.uint8(13))\n",
      "\tion14, ('C ++', np.uint8(14))\n",
      "\tion15, ('O +', np.uint8(15))\n",
      "\tion16, ('O +', np.uint8(16))\n",
      "\tion17, ('Cr O +', np.uint8(17))\n",
      "\tion18, ('Cr O +', np.uint8(18))\n",
      "\tion19, ('Cr O +', np.uint8(19))\n",
      "\tion20, ('Cr O ++', np.uint8(20))\n",
      "\tion21, ('Cr O ++', np.uint8(21))\n",
      "\tion22, ('Cr O ++', np.uint8(22))\n",
      "\tion23, ('Cr O O +', np.uint8(23))\n",
      "\tion24, ('Cr O O ++', np.uint8(24))\n",
      "\tion25, ('Cr Cr O ++', np.uint8(25))\n",
      "9 charge-agnostic iontypes distinguished:\n",
      "\tunknown iontype, [np.uint8(0)]\n",
      "\tSi, [np.uint8(1), np.uint8(2), np.uint8(4), np.uint8(5), np.uint8(6), np.uint8(7)]\n",
      "\tCr, [np.uint8(3), np.uint8(8), np.uint8(9), np.uint8(10)]\n",
      "\tCu, [np.uint8(11), np.uint8(12)]\n",
      "\tC, [np.uint8(13), np.uint8(14)]\n",
      "\tO, [np.uint8(15), np.uint8(16)]\n",
      "\tCr O, [np.uint8(17), np.uint8(18), np.uint8(19), np.uint8(20), np.uint8(21), np.uint8(22)]\n",
      "\tCr O O, [np.uint8(23), np.uint8(24)]\n",
      "\tCr Cr O, [np.uint8(25)]\n",
      "5 elements distinguished:\n",
      "C\n",
      "Cr\n",
      "Cu\n",
      "O\n",
      "Si\n",
      "Load ranged iontypes shape (945211,), type <class 'numpy.ndarray'>, dtype uint8\n",
      "[[ 3.4028235e+38 -3.4028235e+38]\n",
      " [ 3.4028235e+38 -3.4028235e+38]\n",
      " [ 3.4028235e+38 -3.4028235e+38]]\n",
      "shape (945211,)\n",
      "dim 0\n",
      "\tnp.min(xyz[:, axis_id]) -20.433578491210938 >>>> -23.0\n",
      "\tnp.max(xyz[:, axis_id]) 19.706375122070312 >>>> 22.0\n",
      "\tself.aabb3d axis_id 0, [-23.  22.], extent 45\n",
      "dim 1\n",
      "\tnp.min(xyz[:, axis_id]) -17.857210159301758 >>>> -20.0\n",
      "\tnp.max(xyz[:, axis_id]) 21.282995223999023 >>>> 24.0\n",
      "\tself.aabb3d axis_id 1, [-20.  24.], extent 44\n",
      "dim 2\n",
      "\tnp.min(xyz[:, axis_id]) -75.08065032958984 >>>> -78.0\n",
      "\tnp.max(xyz[:, axis_id]) -0.020034153014421463 >>>> 2.0\n",
      "\tself.aabb3d axis_id 2, [-78.   2.], extent 80\n",
      "np.max(self.voxel_identifier) 153609\n",
      "np.prod(self.extent) 158400\n",
      "{np.str_('C'): array([0, 0, 0, ..., 0, 0, 0], dtype=uint64), np.str_('Cr'): array([0, 0, 0, ..., 0, 0, 0], dtype=uint64), np.str_('Cu'): array([0, 0, 0, ..., 0, 0, 0], dtype=uint64), np.str_('O'): array([0, 0, 0, ..., 0, 0, 0], dtype=uint64), np.str_('Si'): array([0, 0, 0, ..., 0, 0, 0], dtype=uint64)}\n",
      "{np.str_('C'): 0, np.str_('Cr'): 1, np.str_('Cu'): 2, np.str_('O'): 3, np.str_('Si'): 4}\n",
      "ion1, ('Si ++', np.uint8(1)):\n",
      "\tSi\n",
      "\t1\n",
      "\t{'Si': 1}\n",
      "ion2, ('Si +', np.uint8(2)):\n",
      "\tSi\n",
      "\t1\n",
      "\t{'Si': 1}\n",
      "ion3, ('Cr +', np.uint8(3)):\n",
      "\tCr\n",
      "\t1\n",
      "\t{'Cr': 1}\n",
      "ion4, ('Si +', np.uint8(4)):\n",
      "\tSi\n",
      "\t1\n",
      "\t{'Si': 1}\n",
      "ion5, ('Si +', np.uint8(5)):\n",
      "\tSi\n",
      "\t1\n",
      "\t{'Si': 1}\n",
      "ion6, ('Si ++', np.uint8(6)):\n",
      "\tSi\n",
      "\t1\n",
      "\t{'Si': 1}\n",
      "ion7, ('Si ++', np.uint8(7)):\n",
      "\tSi\n",
      "\t1\n",
      "\t{'Si': 1}\n",
      "ion8, ('Cr +', np.uint8(8)):\n",
      "\tCr\n",
      "\t1\n",
      "\t{'Cr': 1}\n",
      "ion9, ('Cr ++', np.uint8(9)):\n",
      "\tCr\n",
      "\t1\n",
      "\t{'Cr': 1}\n",
      "ion10, ('Cr ++', np.uint8(10)):\n",
      "\tCr\n",
      "\t1\n",
      "\t{'Cr': 1}\n",
      "ion11, ('Cu +', np.uint8(11)):\n",
      "\tCu\n",
      "\t1\n",
      "\t{'Cu': 1}\n",
      "ion12, ('Cu +', np.uint8(12)):\n",
      "\tCu\n",
      "\t1\n",
      "\t{'Cu': 1}\n",
      "ion13, ('C +', np.uint8(13)):\n",
      "\tC\n",
      "\t1\n",
      "\t{'C': 1}\n",
      "ion14, ('C ++', np.uint8(14)):\n",
      "\tC\n",
      "\t1\n",
      "\t{'C': 1}\n",
      "ion15, ('O +', np.uint8(15)):\n",
      "\tO\n",
      "\t1\n",
      "\t{'O': 1}\n",
      "ion16, ('O +', np.uint8(16)):\n",
      "\tO\n",
      "\t1\n",
      "\t{'O': 1}\n",
      "ion17, ('Cr O +', np.uint8(17)):\n",
      "\tCr O\n",
      "\t2\n",
      "\t{'Cr': 1, 'O': 1}\n",
      "ion18, ('Cr O +', np.uint8(18)):\n",
      "\tCr O\n",
      "\t2\n",
      "\t{'Cr': 1, 'O': 1}\n",
      "ion19, ('Cr O +', np.uint8(19)):\n",
      "\tCr O\n",
      "\t2\n",
      "\t{'Cr': 1, 'O': 1}\n",
      "ion20, ('Cr O ++', np.uint8(20)):\n",
      "\tCr O\n",
      "\t2\n",
      "\t{'Cr': 1, 'O': 1}\n",
      "ion21, ('Cr O ++', np.uint8(21)):\n",
      "\tCr O\n",
      "\t2\n",
      "\t{'Cr': 1, 'O': 1}\n",
      "ion22, ('Cr O ++', np.uint8(22)):\n",
      "\tCr O\n",
      "\t2\n",
      "\t{'Cr': 1, 'O': 1}\n",
      "ion23, ('Cr O O +', np.uint8(23)):\n",
      "\tCr O O\n",
      "\t2\n",
      "\t{'Cr': 1, 'O': 2}\n",
      "ion24, ('Cr O O ++', np.uint8(24)):\n",
      "\tCr O O\n",
      "\t2\n",
      "\t{'Cr': 1, 'O': 2}\n",
      "ion25, ('Cr Cr O ++', np.uint8(25)):\n",
      "\tCr Cr O\n",
      "\t2\n",
      "\t{'Cr': 2, 'O': 1}\n",
      "/entry1/voxelization/element1, C\n",
      "symbol C, idx 0, np.sum(elem_cnts[symbol]) 706, np.sum(total_cnts) 706\n",
      "/entry1/voxelization/element2, Cr\n",
      "symbol Cr, idx 1, np.sum(elem_cnts[symbol]) 174850, np.sum(total_cnts) 175556\n",
      "/entry1/voxelization/element3, Cu\n",
      "symbol Cu, idx 2, np.sum(elem_cnts[symbol]) 683, np.sum(total_cnts) 176239\n",
      "/entry1/voxelization/element4, O\n",
      "symbol O, idx 3, np.sum(elem_cnts[symbol]) 89980, np.sum(total_cnts) 266219\n",
      "/entry1/voxelization/element5, Si\n",
      "symbol Si, idx 4, np.sum(elem_cnts[symbol]) 785076, np.sum(total_cnts) 1051295\n",
      "n_ions 945211\n"
     ]
    }
   ],
   "source": [
    "voxelize = ProcessPreparation(config_file_path, results_file_path, entry_id=1, verbose=True)\n",
    "voxelize.run(recon_file_path=RECONSTRUCTION_AND_RANGING[0],\n",
    "             range_file_path=RECONSTRUCTION_AND_RANGING[1])"
   ]
  },
  {
   "cell_type": "code",
   "execution_count": 6,
   "id": "625f4da7-e0d4-4d37-9792-ad5fed59bb84",
   "metadata": {},
   "outputs": [
    {
     "name": "stdout",
     "output_type": "stream",
     "text": [
      "2.312 MiB\n"
     ]
    }
   ],
   "source": [
    "get_file_size(results_file_path)\n",
    "# H5Web(results_file_path)"
   ]
  },
  {
   "cell_type": "markdown",
   "id": "cfaa354a-9e4a-4529-b1c9-da6fd4165020",
   "metadata": {},
   "source": [
    "Voxelization is performed on elements not on iontypes, i.e. using a atomic decomposition!"
   ]
  },
  {
   "cell_type": "markdown",
   "id": "8617402e-fe2d-44b5-8a03-4d2ddb41296e",
   "metadata": {},
   "source": [
    "## Automated phase assignment"
   ]
  },
  {
   "cell_type": "code",
   "execution_count": 7,
   "id": "0a667aa3-e69e-4138-a4bd-5a53f14c9a7d",
   "metadata": {
    "scrolled": true
   },
   "outputs": [
    {
     "name": "stdout",
     "output_type": "stream",
     "text": [
      "Composition matrix has 5 elements\n",
      "Populating composition table for element1\n",
      "Populating composition table for element2\n",
      "Populating composition table for element3\n",
      "Populating composition table for element4\n",
      "Populating composition table for element5\n",
      "sorted_indices [5 2 4 1 3 0] in decreasing feature importance\n",
      "sorted_index, feature_importance[sorted_index]\n",
      "5, 0.8425501856917044\n",
      "2, 0.08796359545615835\n",
      "4, 0.06032072282260312\n",
      "1, 0.005201161349588438\n",
      "3, 0.003964334679945743\n",
      "0, 0.0\n"
     ]
    }
   ],
   "source": [
    "autophase = ProcessAutomatedPhaseAssignment(config_file_path, results_file_path, entry_id=1, verbose=True)\n",
    "autophase.run()"
   ]
  },
  {
   "cell_type": "code",
   "execution_count": 8,
   "id": "e0a4aa0f-2175-4006-a9e0-1f30333284ad",
   "metadata": {},
   "outputs": [
    {
     "name": "stdout",
     "output_type": "stream",
     "text": [
      "2.325 MiB\n"
     ]
    }
   ],
   "source": [
    "get_file_size(results_file_path)\n",
    "# H5Web(results_file_path)"
   ]
  },
  {
   "cell_type": "markdown",
   "id": "10373f39-6a61-4604-9631-06e4eded4e6d",
   "metadata": {},
   "source": [
    "## Segmentation PCA and IC minimization"
   ]
  },
  {
   "cell_type": "code",
   "execution_count": 9,
   "id": "f126ed5c-b107-4890-8fd2-c46c46e3bc5b",
   "metadata": {},
   "outputs": [
    {
     "name": "stdout",
     "output_type": "stream",
     "text": [
      "Composition matrix has 5 elements\n",
      "Populating composition table for element1\n",
      "Populating composition table for element2\n",
      "Populating composition table for element3\n",
      "Populating composition table for element4\n",
      "Populating composition table for element5\n",
      "Composition matrix has 5 elements\n",
      "Populating composition table for element1\n",
      "Populating composition table for element2\n",
      "Populating composition table for element3\n",
      "Populating composition table for element4\n",
      "Populating composition table for element5\n",
      "Using results with automated phase assignment\n",
      "np.shape(X_train) (158400, 2)\n",
      "GaussianMixture ML analysis with n_cluster 1\n",
      "Using results with automated phase assignment\n",
      "np.shape(X_train) (158400, 2)\n",
      "GaussianMixture ML analysis with n_cluster 2\n",
      "Using results with automated phase assignment\n",
      "np.shape(X_train) (158400, 2)\n",
      "GaussianMixture ML analysis with n_cluster 3\n",
      "Using results with automated phase assignment\n",
      "np.shape(X_train) (158400, 2)\n",
      "GaussianMixture ML analysis with n_cluster 4\n",
      "Using results with automated phase assignment\n",
      "np.shape(X_train) (158400, 2)\n",
      "GaussianMixture ML analysis with n_cluster 5\n"
     ]
    }
   ],
   "source": [
    "segmentation = ProcessSegmentation(config_file_path, results_file_path, entry_id=1, verbose=True)\n",
    "segmentation.run()"
   ]
  },
  {
   "cell_type": "code",
   "execution_count": 10,
   "id": "9b31ff53-d565-4128-a5a7-e8ffe011d07e",
   "metadata": {
    "scrolled": true
   },
   "outputs": [
    {
     "name": "stdout",
     "output_type": "stream",
     "text": [
      "2.516 MiB\n",
      "Inspecting /home/kaiobach/Research/hu_hu_hu/sprint22/conda-compspace-step01/CompositionSpace/CompositionSpace.Results.1.nxs...\n",
      "Found dimensionality, uint64, (), 3\n",
      "Found extent, uint64, (3,), [45 44 80]\n",
      "Found origin, float64, (3,), [-23. -20. -78.]\n",
      "Found cell_dimensions, float64, (3,), [1. 1. 1.]\n"
     ]
    }
   ],
   "source": [
    "get_file_size(results_file_path)\n",
    "# H5Web(results_file_path)\n",
    "\n",
    "generate_xdmf_for_visualizing_content(results_file_path)"
   ]
  },
  {
   "cell_type": "markdown",
   "id": "638edaae-174c-46d7-8765-86100e76273b",
   "metadata": {},
   "source": [
    "## DBScan clustering"
   ]
  },
  {
   "cell_type": "code",
   "execution_count": null,
   "id": "6895f918-49d0-4f9c-9c84-130fadc72867",
   "metadata": {},
   "outputs": [],
   "source": [
    "clustering = ProcessClustering(config_file_path, results_file_path, entry_id=1, verbose=True)\n",
    "clustering.run()"
   ]
  },
  {
   "cell_type": "code",
   "execution_count": null,
   "id": "44223976-9a66-4330-a414-79bf0847355b",
   "metadata": {},
   "outputs": [],
   "source": [
    "get_file_size(results_file_path)\n",
    "H5Web(results_file_path)"
   ]
  },
  {
   "cell_type": "code",
   "execution_count": null,
   "id": "e506b0db-587f-474a-be60-966d4e7b6ca8",
   "metadata": {},
   "outputs": [],
   "source": [
    "# Add "
   ]
  },
  {
   "cell_type": "code",
   "execution_count": null,
   "id": "cd535b6c-6bbd-45d5-95df-42e2f25976eb",
   "metadata": {},
   "outputs": [],
   "source": []
  },
  {
   "cell_type": "markdown",
   "id": "b2c4acc3-a2b1-4faa-bccd-b3eee80729bc",
   "metadata": {},
   "source": [
    "## Meshing"
   ]
  },
  {
   "cell_type": "markdown",
   "id": "9ce2de83-7b43-4afc-a7eb-d6201e06e323",
   "metadata": {},
   "source": [
    "Use https://github.com/Alaukiksaxena/CompositionSpaceNFDI/commit/44a81ffe9e9bd994f41e1c501b9d1630f7dcf019"
   ]
  },
  {
   "cell_type": "code",
   "execution_count": null,
   "id": "04f6e157-5bfd-4df2-ac30-a9ab033aa475",
   "metadata": {},
   "outputs": [],
   "source": []
  }
 ],
 "metadata": {
  "kernelspec": {
   "display_name": "Python 3 (ipykernel)",
   "language": "python",
   "name": "python3"
  },
  "language_info": {
   "codemirror_mode": {
    "name": "ipython",
    "version": 3
   },
   "file_extension": ".py",
   "mimetype": "text/x-python",
   "name": "python",
   "nbconvert_exporter": "python",
   "pygments_lexer": "ipython3",
   "version": "3.12.4"
  }
 },
 "nbformat": 4,
 "nbformat_minor": 5
}
