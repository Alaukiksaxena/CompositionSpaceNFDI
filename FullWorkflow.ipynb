{
 "cells": [
  {
   "cell_type": "code",
   "execution_count": 1,
   "id": "c3d54e7c",
   "metadata": {},
   "outputs": [],
   "source": [
    "# import libraries\n",
    "import sys\n",
    "import os\n",
    "import yaml\n",
    "import h5py\n",
    "import pandas as pd\n",
    "import flatdict as fd\n",
    "import matplotlib.pylab as plt\n",
    "from jupyterlab_h5web import H5Web\n",
    "# import modules with the functionalities offered by CompositionSpace\n",
    "from compositionspace.utils import get_file_size\n",
    "from compositionspace.visualization import generate_xdmf_for_visualizing_content\n",
    "from compositionspace.preparation import ProcessPreparation\n",
    "from compositionspace.autophase import ProcessAutomatedPhaseAssignment\n",
    "from compositionspace.segmentation import ProcessSegmentation\n",
    "from compositionspace.clustering import ProcessClustering"
   ]
  },
  {
   "cell_type": "code",
   "execution_count": 2,
   "id": "4cc5a514-9e53-492c-8aab-0af54ba23bb7",
   "metadata": {},
   "outputs": [
    {
     "name": "stdout",
     "output_type": "stream",
     "text": [
      "Executing compositionspace in the following working directory: /home/kaiobach/Research/hu_hu_hu/sprint22/conda-compspace-step01/CompositionSpace\n"
     ]
    }
   ],
   "source": [
    "# ! pip list\n",
    "MY_PROCESSED_DATA_PATH = f\"{os.getcwd()}\"\n",
    "print(f\"Executing compositionspace in the following working directory: {os.getcwd()}\")"
   ]
  },
  {
   "cell_type": "markdown",
   "id": "ed397ebd-5954-40bf-b4fc-3042eca1acf0",
   "metadata": {},
   "source": [
    "## Load reconstruction and ranging and voxelize with rectangular transfer function without creating slices"
   ]
  },
  {
   "cell_type": "markdown",
   "id": "802bf198-692c-4a87-abed-95492c775745",
   "metadata": {},
   "source": [
    "Prerequisite: Properly formatted reconstructed dataset and ranging definitions generated either with paraprobe-toolbox."
   ]
  },
  {
   "cell_type": "code",
   "execution_count": null,
   "id": "ecd3a7e2-6c3a-470c-8c64-e7fdad7e44fd",
   "metadata": {},
   "outputs": [],
   "source": [
    "paraprobe_toolbox_dir = \"!!! CHANGEME !!!\"\n",
    "workdir = [f\"{paraprobe_toolbox_dir}/teaching/example_analyses/usa_denton_smith\",\n",
    "           f\"{paraprobe_toolbox_dir}/teaching/example_analyses/iuc09_saksena\"]\n",
    "simid = 1\n",
    "RECONSTRUCTION_AND_RANGING = (f\"{workdir[simid - 1]}/..\")\n",
    "RECONSTRUCTION_AND_RANGING = (f\"{workdir[simid - 1]}/PARAPROBE.Transcoder.Results.SimID.1.nxs\",\n",
    "                              f\"{workdir[simid - 1]}/PARAPROBE.Ranger.Results.SimID.1.nxs\")\n",
    "config_file_path = f\"{MY_PROCESSED_DATA_PATH}/tests/experiment_params.yaml\"\n",
    "results_file_path = f\"{MY_PROCESSED_DATA_PATH}/CompositionSpace.Results.{simid}.nxs\""
   ]
  },
  {
   "cell_type": "code",
   "execution_count": null,
   "id": "d615c926-17f4-4ba2-93d9-acfe0230cdfe",
   "metadata": {},
   "outputs": [],
   "source": [
    "get_file_size(RECONSTRUCTION_AND_RANGING[0])\n",
    "get_file_size(RECONSTRUCTION_AND_RANGING[1])\n",
    "# H5Web(RECONSTRUCTION_AND_RANGING[0])\n",
    "# H5Web(RECONSTRUCTION_AND_RANGING[1])"
   ]
  },
  {
   "cell_type": "code",
   "execution_count": null,
   "id": "33255c0b-04a8-4b84-9d70-c2ce3a62cfb2",
   "metadata": {
    "scrolled": true
   },
   "outputs": [],
   "source": [
    "voxelize = ProcessPreparation(config_file_path, results_file_path, entry_id=1, verbose=True)\n",
    "voxelize.run(recon_file_path=RECONSTRUCTION_AND_RANGING[0],\n",
    "             range_file_path=RECONSTRUCTION_AND_RANGING[1])"
   ]
  },
  {
   "cell_type": "code",
   "execution_count": null,
   "id": "625f4da7-e0d4-4d37-9792-ad5fed59bb84",
   "metadata": {},
   "outputs": [],
   "source": [
    "get_file_size(results_file_path)\n",
    "# H5Web(results_file_path)"
   ]
  },
  {
   "cell_type": "markdown",
   "id": "cfaa354a-9e4a-4529-b1c9-da6fd4165020",
   "metadata": {},
   "source": [
    "Voxelization is performed on elements not on iontypes, i.e. using a atomic decomposition!"
   ]
  },
  {
   "cell_type": "markdown",
   "id": "8617402e-fe2d-44b5-8a03-4d2ddb41296e",
   "metadata": {},
   "source": [
    "## Automated phase assignment"
   ]
  },
  {
   "cell_type": "code",
   "execution_count": null,
   "id": "0a667aa3-e69e-4138-a4bd-5a53f14c9a7d",
   "metadata": {
    "scrolled": true
   },
   "outputs": [],
   "source": [
    "autophase = ProcessAutomatedPhaseAssignment(config_file_path, results_file_path, entry_id=1, verbose=True)\n",
    "autophase.run()"
   ]
  },
  {
   "cell_type": "code",
   "execution_count": null,
   "id": "e0a4aa0f-2175-4006-a9e0-1f30333284ad",
   "metadata": {},
   "outputs": [],
   "source": [
    "get_file_size(results_file_path)\n",
    "# H5Web(results_file_path)"
   ]
  },
  {
   "cell_type": "markdown",
   "id": "10373f39-6a61-4604-9631-06e4eded4e6d",
   "metadata": {},
   "source": [
    "## Segmentation PCA and IC minimization"
   ]
  },
  {
   "cell_type": "code",
   "execution_count": null,
   "id": "f126ed5c-b107-4890-8fd2-c46c46e3bc5b",
   "metadata": {},
   "outputs": [],
   "source": [
    "segmentation = ProcessSegmentation(config_file_path, results_file_path, entry_id=1, verbose=True)\n",
    "segmentation.run()"
   ]
  },
  {
   "cell_type": "code",
   "execution_count": null,
   "id": "9b31ff53-d565-4128-a5a7-e8ffe011d07e",
   "metadata": {
    "scrolled": true
   },
   "outputs": [],
   "source": [
    "get_file_size(results_file_path)\n",
    "# H5Web(results_file_path)"
   ]
  },
  {
   "cell_type": "markdown",
   "id": "638edaae-174c-46d7-8765-86100e76273b",
   "metadata": {},
   "source": [
    "## DBScan clustering"
   ]
  },
  {
   "cell_type": "code",
   "execution_count": null,
   "id": "6895f918-49d0-4f9c-9c84-130fadc72867",
   "metadata": {},
   "outputs": [],
   "source": [
    "clustering = ProcessClustering(config_file_path, results_file_path, entry_id=1, verbose=True)\n",
    "clustering.run()"
   ]
  },
  {
   "cell_type": "code",
   "execution_count": null,
   "id": "44223976-9a66-4330-a414-79bf0847355b",
   "metadata": {},
   "outputs": [],
   "source": [
    "get_file_size(results_file_path)\n",
    "H5Web(results_file_path)"
   ]
  },
  {
   "cell_type": "markdown",
   "id": "ce8920e3-cc0e-444b-8117-dc3cfc5d1bee",
   "metadata": {},
   "source": [
    "## Default plotting to explore the results using HDF5/XDMF via Paraview"
   ]
  },
  {
   "cell_type": "code",
   "execution_count": null,
   "id": "cd535b6c-6bbd-45d5-95df-42e2f25976eb",
   "metadata": {},
   "outputs": [],
   "source": [
    "generate_xdmf_for_visualizing_content(results_file_path)"
   ]
  },
  {
   "cell_type": "markdown",
   "id": "b2c4acc3-a2b1-4faa-bccd-b3eee80729bc",
   "metadata": {},
   "source": [
    "## Meshing"
   ]
  },
  {
   "cell_type": "markdown",
   "id": "9ce2de83-7b43-4afc-a7eb-d6201e06e323",
   "metadata": {},
   "source": [
    "Use https://github.com/Alaukiksaxena/CompositionSpaceNFDI/commit/44a81ffe9e9bd994f41e1c501b9d1630f7dcf019"
   ]
  },
  {
   "cell_type": "code",
   "execution_count": null,
   "id": "04f6e157-5bfd-4df2-ac30-a9ab033aa475",
   "metadata": {},
   "outputs": [],
   "source": []
  }
 ],
 "metadata": {
  "kernelspec": {
   "display_name": "Python 3 (ipykernel)",
   "language": "python",
   "name": "python3"
  },
  "language_info": {
   "codemirror_mode": {
    "name": "ipython",
    "version": 3
   },
   "file_extension": ".py",
   "mimetype": "text/x-python",
   "name": "python",
   "nbconvert_exporter": "python",
   "pygments_lexer": "ipython3",
   "version": "3.12.4"
  }
 },
 "nbformat": 4,
 "nbformat_minor": 5
}
