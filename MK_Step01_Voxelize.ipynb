{
 "cells": [
  {
   "cell_type": "code",
   "execution_count": 1,
   "id": "c3d54e7c",
   "metadata": {},
   "outputs": [],
   "source": [
    "# import libraries\n",
    "import sys\n",
    "import os\n",
    "import pandas as pd\n",
    "import matplotlib.pylab as plt\n",
    "from jupyterlab_h5web import H5Web\n",
    "# import modules with the functionalities offered by CompositionSpace\n",
    "from compositionspace.utils import get_file_size\n",
    "from compositionspace.io import get_reconstructed_positions, get_iontypes, get_iontypes_info\n",
    "from compositionspace.preparation import ProcessPreparation"
   ]
  },
  {
   "cell_type": "code",
   "execution_count": 2,
   "id": "4cc5a514-9e53-492c-8aab-0af54ba23bb7",
   "metadata": {},
   "outputs": [
    {
     "name": "stdout",
     "output_type": "stream",
     "text": [
      "Executing compositionspace in the following working directory: /home/kaiobach/Research/hu_hu_hu/sprint19/compspace/CompositionSpace\n"
     ]
    }
   ],
   "source": [
    "# ! pip list  \n",
    "MY_PROCESSED_DATA_PATH = f\"{os.getcwd()}\"\n",
    "print(f\"Executing compositionspace in the following working directory: {os.getcwd()}\")"
   ]
  },
  {
   "cell_type": "markdown",
   "id": "ed397ebd-5954-40bf-b4fc-3042eca1acf0",
   "metadata": {},
   "source": [
    "## Load reconstruction and ranging"
   ]
  },
  {
   "cell_type": "code",
   "execution_count": 3,
   "id": "ecd3a7e2-6c3a-470c-8c64-e7fdad7e44fd",
   "metadata": {},
   "outputs": [],
   "source": [
    "RECONSTRUCTION_AND_RANGING = (\"R21_08680-v02.pos\", \"R21_08680.rrng\")\n",
    "RECONSTRUCTION_AND_RANGING = (\"PARAPROBE.Transcoder.Results.SimID.636502001.nxs\",\n",
    "                              \"PARAPROBE.Ranger.Results.SimID.636502001.nxs\")\n",
    "config_file_path = f\"{MY_PROCESSED_DATA_PATH}/experiment_params.yaml\"\n",
    "results_file_path = f\"{MY_PROCESSED_DATA_PATH}/CompositionSpace.Results.nxs\""
   ]
  },
  {
   "cell_type": "code",
   "execution_count": 4,
   "id": "d615c926-17f4-4ba2-93d9-acfe0230cdfe",
   "metadata": {},
   "outputs": [],
   "source": [
    "# H5Web(RECONSTRUCTION_AND_RANGING[0])\n",
    "# H5Web(RECONSTRUCTION_AND_RANGING[1])"
   ]
  },
  {
   "cell_type": "code",
   "execution_count": 5,
   "id": "f4cfaab3-72ab-4dfa-92d4-6d6349a533fe",
   "metadata": {
    "scrolled": true
   },
   "outputs": [
    {
     "name": "stdout",
     "output_type": "stream",
     "text": [
      "Load reconstructed positions shape (4868202, 3), type <class 'numpy.ndarray'>, dtype float32\n",
      "Load iontypes information 73 types distinguished\n",
      "Load ranged iontypes shape (4868202,), type <class 'numpy.ndarray'>, dtype uint8\n"
     ]
    }
   ],
   "source": [
    "(xyz_val, xyz_unit) = get_reconstructed_positions(RECONSTRUCTION_AND_RANGING[0])\n",
    "ityp_info = get_iontypes_info(RECONSTRUCTION_AND_RANGING[0])\n",
    "(ityp_val, ityp_unit) = get_iontypes(RECONSTRUCTION_AND_RANGING[1])"
   ]
  },
  {
   "cell_type": "markdown",
   "id": "1df2fbfa-4c55-4cc0-b2c2-31af79e72a8b",
   "metadata": {},
   "source": [
    "## Voxelize with rectangular transfer function without creating slices"
   ]
  },
  {
   "cell_type": "code",
   "execution_count": 6,
   "id": "33255c0b-04a8-4b84-9d70-c2ce3a62cfb2",
   "metadata": {},
   "outputs": [
    {
     "name": "stdout",
     "output_type": "stream",
     "text": [
      "[[ 3.4028235e+38 -3.4028235e+38]\n",
      " [ 3.4028235e+38 -3.4028235e+38]\n",
      " [ 3.4028235e+38 -3.4028235e+38]]\n",
      "shape (4868202,)\n",
      "self.aabb3d [-32.  31.], extent 63\n",
      "[-31. -30. -29. -28. -27. -26. -25. -24. -23. -22. -21. -20. -19. -18.\n",
      " -17. -16. -15. -14. -13. -12. -11. -10.  -9.  -8.  -7.  -6.  -5.  -4.\n",
      "  -3.  -2.  -1.   0.   1.   2.   3.   4.   5.   6.   7.   8.   9.  10.\n",
      "  11.  12.  13.  14.  15.  16.  17.  18.  19.  20.  21.  22.  23.  24.\n",
      "  25.  26.  27.  28.  29.  30.  31.]\n",
      "self.aabb3d [-31.  31.], extent 62\n",
      "[-30. -29. -28. -27. -26. -25. -24. -23. -22. -21. -20. -19. -18. -17.\n",
      " -16. -15. -14. -13. -12. -11. -10.  -9.  -8.  -7.  -6.  -5.  -4.  -3.\n",
      "  -2.  -1.   0.   1.   2.   3.   4.   5.   6.   7.   8.   9.  10.  11.\n",
      "  12.  13.  14.  15.  16.  17.  18.  19.  20.  21.  22.  23.  24.  25.\n",
      "  26.  27.  28.  29.  30.  31.]\n",
      "self.aabb3d [ 0. 72.], extent 72\n",
      "[ 1.  2.  3.  4.  5.  6.  7.  8.  9. 10. 11. 12. 13. 14. 15. 16. 17. 18.\n",
      " 19. 20. 21. 22. 23. 24. 25. 26. 27. 28. 29. 30. 31. 32. 33. 34. 35. 36.\n",
      " 37. 38. 39. 40. 41. 42. 43. 44. 45. 46. 47. 48. 49. 50. 51. 52. 53. 54.\n",
      " 55. 56. 57. 58. 59. 60. 61. 62. 63. 64. 65. 66. 67. 68. 69. 70. 71. 72.]\n",
      "[23966 28612 10501  9404  6070  1540 28238 10034 14593 29728]\n",
      "281199\n",
      "[( 8, 23966,  1) ( 8, 28612,  2) ( 8, 10501,  3) ( 8,  9404,  4)\n",
      " ( 8,  6070,  5) ( 8,  1540,  6) (29, 28238,  7) ( 8, 10034,  8)\n",
      " ( 8, 14593,  9) (29, 29728, 10)]\n",
      "[(0, 1419,  1223) (0, 1420,  1811) (0, 1476,  6358) (0, 1477,  3891)\n",
      " (0, 1479, 19054) (0, 1480,  4742) (0, 1481,  8258) (0, 1481, 11264)\n",
      " (0, 1539, 11085) (0, 1539, 13681)]\n",
      "[(72, 238597, 4001574) (72, 244319, 4331875) (72, 244810, 4375588)\n",
      " (72, 245252, 4116453) (72, 254361, 4739678) (72, 255094, 4520185)\n",
      " (72, 258068, 4518381) (72, 264403, 4730446) (72, 264654, 4758833)\n",
      " (72, 266159, 4856367)]\n",
      "\n",
      "Cardinality is 281232 means we have to visit so that many entries in the lookup table 238176 but by virtue of construction of the lookup table all the indices will be close in cache.\n",
      "ityp 0, np.sum(total_weights) 238176.0\n",
      "ityp 1, np.sum(total_weights) 238286.0\n",
      "ityp 2, np.sum(total_weights) 238571.0\n",
      "ityp 3, np.sum(total_weights) 241498.0\n",
      "ityp 4, np.sum(total_weights) 243540.0\n",
      "ityp 5, np.sum(total_weights) 245455.0\n",
      "ityp 6, np.sum(total_weights) 264818.0\n",
      "ityp 7, np.sum(total_weights) 266245.0\n",
      "ityp 8, np.sum(total_weights) 3816576.0\n",
      "ityp 9, np.sum(total_weights) 3818363.0\n",
      "ityp 10, np.sum(total_weights) 4060876.0\n",
      "ityp 11, np.sum(total_weights) 4143065.0\n",
      "ityp 12, np.sum(total_weights) 4157279.0\n",
      "ityp 13, np.sum(total_weights) 4157480.0\n",
      "ityp 14, np.sum(total_weights) 4159051.0\n",
      "ityp 15, np.sum(total_weights) 4159215.0\n",
      "ityp 16, np.sum(total_weights) 4162639.0\n",
      "ityp 17, np.sum(total_weights) 4162859.0\n",
      "ityp 18, np.sum(total_weights) 4163017.0\n",
      "ityp 19, np.sum(total_weights) 4164222.0\n",
      "ityp 20, np.sum(total_weights) 4171861.0\n",
      "ityp 21, np.sum(total_weights) 4172661.0\n",
      "ityp 22, np.sum(total_weights) 4173162.0\n",
      "ityp 23, np.sum(total_weights) 4173819.0\n",
      "ityp 24, np.sum(total_weights) 4175859.0\n",
      "ityp 25, np.sum(total_weights) 4176394.0\n",
      "ityp 26, np.sum(total_weights) 4176728.0\n",
      "ityp 27, np.sum(total_weights) 4177079.0\n",
      "ityp 28, np.sum(total_weights) 4207092.0\n",
      "ityp 29, np.sum(total_weights) 4771164.0\n",
      "ityp 30, np.sum(total_weights) 4834561.0\n",
      "ityp 31, np.sum(total_weights) 4834797.0\n",
      "ityp 32, np.sum(total_weights) 4835057.0\n",
      "ityp 33, np.sum(total_weights) 4837142.0\n",
      "ityp 34, np.sum(total_weights) 4837338.0\n",
      "ityp 35, np.sum(total_weights) 4838552.0\n",
      "ityp 36, np.sum(total_weights) 4842570.0\n",
      "ityp 37, np.sum(total_weights) 4842982.0\n",
      "ityp 38, np.sum(total_weights) 4843202.0\n",
      "ityp 39, np.sum(total_weights) 4843728.0\n",
      "ityp 40, np.sum(total_weights) 4844471.0\n",
      "ityp 41, np.sum(total_weights) 4844574.0\n",
      "ityp 42, np.sum(total_weights) 4844877.0\n",
      "ityp 43, np.sum(total_weights) 4847695.0\n",
      "ityp 44, np.sum(total_weights) 4849863.0\n",
      "ityp 45, np.sum(total_weights) 4850756.0\n",
      "ityp 46, np.sum(total_weights) 4851123.0\n",
      "ityp 47, np.sum(total_weights) 4852538.0\n",
      "ityp 48, np.sum(total_weights) 4852796.0\n",
      "ityp 49, np.sum(total_weights) 4853120.0\n",
      "ityp 50, np.sum(total_weights) 4854500.0\n",
      "ityp 51, np.sum(total_weights) 4855579.0\n",
      "ityp 52, np.sum(total_weights) 4856231.0\n",
      "ityp 53, np.sum(total_weights) 4857370.0\n",
      "ityp 54, np.sum(total_weights) 4858608.0\n",
      "ityp 55, np.sum(total_weights) 4859347.0\n",
      "ityp 56, np.sum(total_weights) 4861204.0\n",
      "ityp 57, np.sum(total_weights) 4861918.0\n",
      "ityp 58, np.sum(total_weights) 4862149.0\n",
      "ityp 59, np.sum(total_weights) 4862299.0\n",
      "ityp 60, np.sum(total_weights) 4864827.0\n",
      "ityp 61, np.sum(total_weights) 4865049.0\n",
      "ityp 62, np.sum(total_weights) 4865141.0\n",
      "ityp 63, np.sum(total_weights) 4865893.0\n",
      "ityp 64, np.sum(total_weights) 4865992.0\n",
      "ityp 65, np.sum(total_weights) 4866559.0\n",
      "ityp 66, np.sum(total_weights) 4866788.0\n",
      "ityp 67, np.sum(total_weights) 4867158.0\n",
      "ityp 68, np.sum(total_weights) 4867263.0\n",
      "ityp 69, np.sum(total_weights) 4867411.0\n",
      "ityp 70, np.sum(total_weights) 4867529.0\n",
      "ityp 71, np.sum(total_weights) 4868055.0\n",
      "ityp 72, np.sum(total_weights) 4868202.0\n",
      "cardinality of cg_grid 281232, n_ions 4868202\n"
     ]
    }
   ],
   "source": [
    "voxelize = ProcessPreparation(\n",
    "    config_file_path,\n",
    "    results_file_path,\n",
    "    verbose=True)\n",
    "voxelize.write_init_results()\n",
    "voxelize.define_voxelization_grid(xyz_val)\n",
    "voxelize.define_lookup_table(ityp_val)\n",
    "voxelize.write_voxelization_grid_info()\n",
    "voxelize.write_voxelization_results(ityp_info)"
   ]
  },
  {
   "cell_type": "code",
   "execution_count": 7,
   "id": "625f4da7-e0d4-4d37-9792-ad5fed59bb84",
   "metadata": {},
   "outputs": [
    {
     "name": "stdout",
     "output_type": "stream",
     "text": [
      "14.324 MiB\n"
     ]
    },
    {
     "data": {
      "application/x-hdf5": "/home/kaiobach/Research/hu_hu_hu/sprint19/compspace/CompositionSpace/CompositionSpace.Results.nxs",
      "text/plain": [
       "<jupyterlab_h5web.widget.H5Web object>"
      ]
     },
     "execution_count": 7,
     "metadata": {},
     "output_type": "execute_result"
    }
   ],
   "source": [
    "get_file_size(results_file_path)\n",
    "H5Web(results_file_path)"
   ]
  },
  {
   "cell_type": "markdown",
   "id": "59a4bfc3-d77f-452a-a2ac-5bb03dc92df9",
   "metadata": {},
   "source": [
    "<div class=\"alert alert-block alert-danger\">\n",
    "Discussion points:<br>\n",
    "* Atomic decomposition<br>\n",
    "</div>"
   ]
  },
  {
   "cell_type": "code",
   "execution_count": null,
   "id": "f126ed5c-b107-4890-8fd2-c46c46e3bc5b",
   "metadata": {},
   "outputs": [],
   "source": []
  }
 ],
 "metadata": {
  "kernelspec": {
   "display_name": "Python 3 (ipykernel)",
   "language": "python",
   "name": "python3"
  },
  "language_info": {
   "codemirror_mode": {
    "name": "ipython",
    "version": 3
   },
   "file_extension": ".py",
   "mimetype": "text/x-python",
   "name": "python",
   "nbconvert_exporter": "python",
   "pygments_lexer": "ipython3",
   "version": "3.11.5"
  }
 },
 "nbformat": 4,
 "nbformat_minor": 5
}
