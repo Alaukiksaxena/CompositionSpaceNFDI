{
 "cells": [
  {
   "cell_type": "code",
   "execution_count": 2,
   "id": "c3d54e7c",
   "metadata": {},
   "outputs": [],
   "source": [
    "# import libraries\n",
    "import sys\n",
    "import os\n",
    "import h5py\n",
    "import pandas as pd\n",
    "import matplotlib.pylab as plt\n",
    "from jupyterlab_h5web import H5Web\n",
    "# import modules with the functionalities offered by CompositionSpace\n",
    "from compositionspace.utils import get_file_size\n",
    "# from compositionspace.io import get_reconstructed_positions, get_iontypes, get_ranging_info\n",
    "from compositionspace.preparation import ProcessPreparation\n",
    "from compositionspace.autophase import ProcessAutomatedPhaseAssignment\n",
    "from compositionspace.segmentation import ProcessSegmentation\n",
    "from compositionspace.clustering import ProcessClustering"
   ]
  },
  {
   "cell_type": "code",
   "execution_count": 3,
   "id": "4cc5a514-9e53-492c-8aab-0af54ba23bb7",
   "metadata": {},
   "outputs": [
    {
     "name": "stdout",
     "output_type": "stream",
     "text": [
      "Executing compositionspace in the following working directory: /home/kaiobach/Research/hu_hu_hu/sprint22/conda-compspace-step01/CompositionSpace\n"
     ]
    }
   ],
   "source": [
    "# ! pip list\n",
    "MY_PROCESSED_DATA_PATH = f\"{os.getcwd()}\"\n",
    "print(f\"Executing compositionspace in the following working directory: {os.getcwd()}\")"
   ]
  },
  {
   "cell_type": "markdown",
   "id": "ed397ebd-5954-40bf-b4fc-3042eca1acf0",
   "metadata": {},
   "source": [
    "## Load reconstruction and ranging and voxelize with rectangular transfer function without creating slices"
   ]
  },
  {
   "cell_type": "code",
   "execution_count": 4,
   "id": "ecd3a7e2-6c3a-470c-8c64-e7fdad7e44fd",
   "metadata": {},
   "outputs": [],
   "source": [
    "workdir = \"/home/kaiobach/Research/paraprobe-toolbox/teaching/example_analyses/iuc09_saksena\"\n",
    "workdir = \"/home/kaiobach/Research/paraprobe-toolbox/teaching/example_analyses/usa_denton_smith\"\n",
    "simid = 1\n",
    "RECONSTRUCTION_AND_RANGING = (f\"{workdir}/..\")\n",
    "RECONSTRUCTION_AND_RANGING = (f\"{workdir}/PARAPROBE.Transcoder.Results.SimID.1.nxs\",\n",
    "                              f\"{workdir}/PARAPROBE.Ranger.Results.SimID.1.nxs\")\n",
    "config_file_path = f\"{MY_PROCESSED_DATA_PATH}/tests/experiment_params.yaml\"\n",
    "results_file_path = f\"{MY_PROCESSED_DATA_PATH}/CompositionSpace.Results.{simid}.nxs\""
   ]
  },
  {
   "cell_type": "code",
   "execution_count": 6,
   "id": "d615c926-17f4-4ba2-93d9-acfe0230cdfe",
   "metadata": {},
   "outputs": [
    {
     "name": "stdout",
     "output_type": "stream",
     "text": [
      "16.239 MiB\n",
      "0.871 MiB\n"
     ]
    }
   ],
   "source": [
    "get_file_size(RECONSTRUCTION_AND_RANGING[0])\n",
    "get_file_size(RECONSTRUCTION_AND_RANGING[1])\n",
    "# H5Web(RECONSTRUCTION_AND_RANGING[0])\n",
    "# H5Web(RECONSTRUCTION_AND_RANGING[1])"
   ]
  },
  {
   "cell_type": "code",
   "execution_count": 12,
   "id": "33255c0b-04a8-4b84-9d70-c2ce3a62cfb2",
   "metadata": {
    "scrolled": true
   },
   "outputs": [
    {
     "name": "stdout",
     "output_type": "stream",
     "text": [
      "Load reconstructed positions shape (945211, 3), type <class 'numpy.ndarray'>, dtype float32\n",
      "26 iontypes distinguished:\n",
      "\tion0, ('unknown iontype', np.uint8(0))\n",
      "\tion1, ('Si ++', np.uint8(1))\n",
      "\tion2, ('Si +', np.uint8(2))\n",
      "\tion3, ('Cr +', np.uint8(3))\n",
      "\tion4, ('Si +', np.uint8(4))\n",
      "\tion5, ('Si +', np.uint8(5))\n",
      "\tion6, ('Si ++', np.uint8(6))\n",
      "\tion7, ('Si ++', np.uint8(7))\n",
      "\tion8, ('Cr +', np.uint8(8))\n",
      "\tion9, ('Cr ++', np.uint8(9))\n",
      "\tion10, ('Cr ++', np.uint8(10))\n",
      "\tion11, ('Cu +', np.uint8(11))\n",
      "\tion12, ('Cu +', np.uint8(12))\n",
      "\tion13, ('C +', np.uint8(13))\n",
      "\tion14, ('C ++', np.uint8(14))\n",
      "\tion15, ('O +', np.uint8(15))\n",
      "\tion16, ('O +', np.uint8(16))\n",
      "\tion17, ('Cr O +', np.uint8(17))\n",
      "\tion18, ('Cr O +', np.uint8(18))\n",
      "\tion19, ('Cr O +', np.uint8(19))\n",
      "\tion20, ('Cr O ++', np.uint8(20))\n",
      "\tion21, ('Cr O ++', np.uint8(21))\n",
      "\tion22, ('Cr O ++', np.uint8(22))\n",
      "\tion23, ('Cr O O +', np.uint8(23))\n",
      "\tion24, ('Cr O O ++', np.uint8(24))\n",
      "\tion25, ('Cr Cr O ++', np.uint8(25))\n",
      "9 charge-agnostic iontypes distinguished:\n",
      "\tunknown iontype, [np.uint8(0)]\n",
      "\tSi, [np.uint8(1), np.uint8(2), np.uint8(4), np.uint8(5), np.uint8(6), np.uint8(7)]\n",
      "\tCr, [np.uint8(3), np.uint8(8), np.uint8(9), np.uint8(10)]\n",
      "\tCu, [np.uint8(11), np.uint8(12)]\n",
      "\tC, [np.uint8(13), np.uint8(14)]\n",
      "\tO, [np.uint8(15), np.uint8(16)]\n",
      "\tCr O, [np.uint8(17), np.uint8(18), np.uint8(19), np.uint8(20), np.uint8(21), np.uint8(22)]\n",
      "\tCr O O, [np.uint8(23), np.uint8(24)]\n",
      "\tCr Cr O, [np.uint8(25)]\n",
      "5 elements distinguished:\n",
      "Si\n",
      "Cr\n",
      "O\n",
      "C\n",
      "Cu\n",
      "Load ranged iontypes shape (945211,), type <class 'numpy.ndarray'>, dtype uint8\n",
      "[[ 3.4028235e+38 -3.4028235e+38]\n",
      " [ 3.4028235e+38 -3.4028235e+38]\n",
      " [ 3.4028235e+38 -3.4028235e+38]]\n",
      "shape (945211,)\n",
      "dim 0\n",
      "\tnp.min(xyz[:, axis_id]) -20.433578491210938 >>>> -23.0\n",
      "\tnp.max(xyz[:, axis_id]) 19.706375122070312 >>>> 22.0\n",
      "\tself.aabb3d axis_id 0, [-23.  22.], extent 45\n",
      "dim 1\n",
      "\tnp.min(xyz[:, axis_id]) -17.857210159301758 >>>> -20.0\n",
      "\tnp.max(xyz[:, axis_id]) 21.282995223999023 >>>> 24.0\n",
      "\tself.aabb3d axis_id 1, [-20.  24.], extent 44\n",
      "dim 2\n",
      "\tnp.min(xyz[:, axis_id]) -75.08065032958984 >>>> -78.0\n",
      "\tnp.max(xyz[:, axis_id]) -0.020034153014421463 >>>> 2.0\n",
      "\tself.aabb3d axis_id 2, [-78.   2.], extent 80\n",
      "np.max(self.voxel_identifier) 153609\n",
      "np.prod(self.extent) 158400\n",
      "ion1, ('Si ++', np.uint8(1)):\n",
      "\tSi\n",
      "\t1\n",
      "\t{'Si': 1}\n",
      "ion2, ('Si +', np.uint8(2)):\n",
      "\tSi\n",
      "\t1\n",
      "\t{'Si': 1}\n",
      "ion3, ('Cr +', np.uint8(3)):\n",
      "\tCr\n",
      "\t1\n",
      "\t{'Cr': 1}\n",
      "ion4, ('Si +', np.uint8(4)):\n",
      "\tSi\n",
      "\t1\n",
      "\t{'Si': 1}\n",
      "ion5, ('Si +', np.uint8(5)):\n",
      "\tSi\n",
      "\t1\n",
      "\t{'Si': 1}\n",
      "ion6, ('Si ++', np.uint8(6)):\n",
      "\tSi\n",
      "\t1\n",
      "\t{'Si': 1}\n",
      "ion7, ('Si ++', np.uint8(7)):\n",
      "\tSi\n",
      "\t1\n",
      "\t{'Si': 1}\n",
      "ion8, ('Cr +', np.uint8(8)):\n",
      "\tCr\n",
      "\t1\n",
      "\t{'Cr': 1}\n",
      "ion9, ('Cr ++', np.uint8(9)):\n",
      "\tCr\n",
      "\t1\n",
      "\t{'Cr': 1}\n",
      "ion10, ('Cr ++', np.uint8(10)):\n",
      "\tCr\n",
      "\t1\n",
      "\t{'Cr': 1}\n",
      "ion11, ('Cu +', np.uint8(11)):\n",
      "\tCu\n",
      "\t1\n",
      "\t{'Cu': 1}\n",
      "ion12, ('Cu +', np.uint8(12)):\n",
      "\tCu\n",
      "\t1\n",
      "\t{'Cu': 1}\n",
      "ion13, ('C +', np.uint8(13)):\n",
      "\tC\n",
      "\t1\n",
      "\t{'C': 1}\n",
      "ion14, ('C ++', np.uint8(14)):\n",
      "\tC\n",
      "\t1\n",
      "\t{'C': 1}\n",
      "ion15, ('O +', np.uint8(15)):\n",
      "\tO\n",
      "\t1\n",
      "\t{'O': 1}\n",
      "ion16, ('O +', np.uint8(16)):\n",
      "\tO\n",
      "\t1\n",
      "\t{'O': 1}\n",
      "ion17, ('Cr O +', np.uint8(17)):\n",
      "\tCr O\n",
      "\t2\n",
      "\t{'Cr': 1, 'O': 1}\n",
      "ion18, ('Cr O +', np.uint8(18)):\n",
      "\tCr O\n",
      "\t2\n",
      "\t{'Cr': 1, 'O': 1}\n",
      "ion19, ('Cr O +', np.uint8(19)):\n",
      "\tCr O\n",
      "\t2\n",
      "\t{'Cr': 1, 'O': 1}\n",
      "ion20, ('Cr O ++', np.uint8(20)):\n",
      "\tCr O\n",
      "\t2\n",
      "\t{'Cr': 1, 'O': 1}\n",
      "ion21, ('Cr O ++', np.uint8(21)):\n",
      "\tCr O\n",
      "\t2\n",
      "\t{'Cr': 1, 'O': 1}\n",
      "ion22, ('Cr O ++', np.uint8(22)):\n",
      "\tCr O\n",
      "\t2\n",
      "\t{'Cr': 1, 'O': 1}\n",
      "ion23, ('Cr O O +', np.uint8(23)):\n",
      "\tCr O O\n",
      "\t2\n",
      "\t{'Cr': 1, 'O': 2}\n",
      "ion24, ('Cr O O ++', np.uint8(24)):\n",
      "\tCr O O\n",
      "\t2\n",
      "\t{'Cr': 1, 'O': 2}\n",
      "ion25, ('Cr Cr O ++', np.uint8(25)):\n",
      "\tCr Cr O\n",
      "\t2\n",
      "\t{'Cr': 2, 'O': 1}\n",
      "symbol Si, idx 0, np.sum(elem_cnts[symbol]) 785076, np.sum(total_cnts) 785076\n",
      "symbol Cr, idx 1, np.sum(elem_cnts[symbol]) 174850, np.sum(total_cnts) 959926\n",
      "symbol O, idx 2, np.sum(elem_cnts[symbol]) 89980, np.sum(total_cnts) 1049906\n",
      "symbol C, idx 3, np.sum(elem_cnts[symbol]) 706, np.sum(total_cnts) 1050612\n",
      "symbol Cu, idx 4, np.sum(elem_cnts[symbol]) 683, np.sum(total_cnts) 1051295\n",
      "n_ions 945211\n"
     ]
    },
    {
     "data": {
      "text/plain": [
       "'\\nvoxelize.init_ranging(ityp_info, elements)\\nvoxelize.write_init_results()\\nvoxelize.define_voxelization_grid(xyz_val)\\nvoxelize.define_lookup_table(ityp_val)\\nvoxelize.write_voxelization_grid_info()\\nvoxelize.write_voxelization_results()\\n'"
      ]
     },
     "execution_count": 12,
     "metadata": {},
     "output_type": "execute_result"
    }
   ],
   "source": [
    "voxelize = ProcessPreparation(config_file_path, results_file_path, entry_id=1, verbose=True)\n",
    "voxelize.run(recon_file_path=RECONSTRUCTION_AND_RANGING[0],\n",
    "             range_file_path=RECONSTRUCTION_AND_RANGING[1])"
   ]
  },
  {
   "cell_type": "code",
   "execution_count": 13,
   "id": "625f4da7-e0d4-4d37-9792-ad5fed59bb84",
   "metadata": {},
   "outputs": [
    {
     "name": "stdout",
     "output_type": "stream",
     "text": [
      "2.279 MiB\n"
     ]
    }
   ],
   "source": [
    "get_file_size(results_file_path)\n",
    "# H5Web(results_file_path)"
   ]
  },
  {
   "cell_type": "markdown",
   "id": "cfaa354a-9e4a-4529-b1c9-da6fd4165020",
   "metadata": {},
   "source": [
    "Voxelization is performed on elements not on iontypes, i.e. using a atomic decomposition!"
   ]
  },
  {
   "cell_type": "markdown",
   "id": "8617402e-fe2d-44b5-8a03-4d2ddb41296e",
   "metadata": {},
   "source": [
    "## Automated phase assignment"
   ]
  },
  {
   "cell_type": "code",
   "execution_count": 14,
   "id": "0a667aa3-e69e-4138-a4bd-5a53f14c9a7d",
   "metadata": {
    "scrolled": true
   },
   "outputs": [
    {
     "name": "stdout",
     "output_type": "stream",
     "text": [
      "Composition matrix has 5 chemical classes\n",
      "Populating composition table column 1\n",
      "Populating composition table column 2\n",
      "Populating composition table column 3\n",
      "Populating composition table column 4\n",
      "Populating composition table column 5\n",
      "sorted_index, feature_importance[sorted_index]\n",
      "1, 0.8392149718450334\n",
      "2, 0.08843114534741313\n",
      "3, 0.06303204111209978\n",
      "4, 0.005043336884034228\n",
      "5, 0.004278504811419446\n",
      "0, 0.0\n"
     ]
    }
   ],
   "source": [
    "autophase = ProcessAutomatedPhaseAssignment(config_file_path, results_file_path, entry_id=1, verbose=True)\n",
    "autophase.run()"
   ]
  },
  {
   "cell_type": "code",
   "execution_count": 15,
   "id": "e0a4aa0f-2175-4006-a9e0-1f30333284ad",
   "metadata": {},
   "outputs": [
    {
     "name": "stdout",
     "output_type": "stream",
     "text": [
      "2.292 MiB\n"
     ]
    },
    {
     "data": {
      "application/x-hdf5": "/home/kaiobach/Research/hu_hu_hu/sprint22/conda-compspace-step01/CompositionSpace/CompositionSpace.Results.1.nxs",
      "text/plain": [
       "<jupyterlab_h5web.widget.H5Web object>"
      ]
     },
     "execution_count": 15,
     "metadata": {},
     "output_type": "execute_result"
    }
   ],
   "source": [
    "get_file_size(results_file_path)\n",
    "# H5Web(results_file_path)"
   ]
  },
  {
   "cell_type": "markdown",
   "id": "10373f39-6a61-4604-9631-06e4eded4e6d",
   "metadata": {},
   "source": [
    "## Segmentation PCA and IC minimization"
   ]
  },
  {
   "cell_type": "code",
   "execution_count": null,
   "id": "f126ed5c-b107-4890-8fd2-c46c46e3bc5b",
   "metadata": {},
   "outputs": [],
   "source": [
    "segmentation = ProcessSegmentation(config_file_path, results_file_path, entry_id=1, verbose=True)\n",
    "segmentation.perform_pca_and_write_results()\n",
    "segmentation.perform_bics_minimization_and_write_results()"
   ]
  },
  {
   "cell_type": "code",
   "execution_count": null,
   "id": "9b31ff53-d565-4128-a5a7-e8ffe011d07e",
   "metadata": {
    "scrolled": true
   },
   "outputs": [],
   "source": [
    "get_file_size(results_file_path)\n",
    "# H5Web(results_file_path)"
   ]
  },
  {
   "cell_type": "markdown",
   "id": "638edaae-174c-46d7-8765-86100e76273b",
   "metadata": {},
   "source": [
    "## DBScan clustering"
   ]
  },
  {
   "cell_type": "code",
   "execution_count": null,
   "id": "6895f918-49d0-4f9c-9c84-130fadc72867",
   "metadata": {},
   "outputs": [],
   "source": [
    "clustering = ProcessClustering(\n",
    "    config_file_path,\n",
    "    results_file_path,\n",
    "    entry_id=1,\n",
    "    verbose=True)\n",
    "clustering.run_and_write_results()"
   ]
  },
  {
   "cell_type": "code",
   "execution_count": null,
   "id": "44223976-9a66-4330-a414-79bf0847355b",
   "metadata": {},
   "outputs": [],
   "source": [
    "get_file_size(results_file_path)\n",
    "H5Web(results_file_path)"
   ]
  },
  {
   "cell_type": "markdown",
   "id": "c0886636-6d6a-4180-8ec9-425c3800738b",
   "metadata": {},
   "source": [
    "<div class=\"alert alert-block alert-danger\">\n",
    "Discussion points:<br>\n",
    "- Tests are too specific, hardcoded file names<br>\n",
    "- Readthedocs documentation needs to be updated<br>\n",
    "- GM and ML models are variables collect over<br>\n",
    "- Loading file formats from the community should use ifes-apt-tc-data-modeling library currently using paraprobe result<br>\n",
    "- Ion handling should use ifes-apt-tc-data-modeling is not added as a dependencies and loading properly<br>\n",
    "-  tests/experiment_params.json should be removed?<br>\n",
    "- NeXus renaming<br>\n",
    "- CompositionSpace by design does not distinguish charge states iontypes should be atomic decomposed<br>\n",
    "- Why is the center of the voxel defined by the median position of the ions but not by the barycenter of the voxel (currently using voxel barycenter)<br>\n",
    "- Ran 2, and even 0.5 discretization speed is comparable<br>\n",
    "- Triple loop in preparation step should be replaced with more fancy numpy indexing code that I know is somewhere but I couldnt find quickly<br>\n",
    "- Move test data out of this repository<br>\n",
    "</div>"
   ]
  },
  {
   "cell_type": "markdown",
   "id": "b2c4acc3-a2b1-4faa-bccd-b3eee80729bc",
   "metadata": {},
   "source": [
    "## Meshing"
   ]
  },
  {
   "cell_type": "markdown",
   "id": "9ce2de83-7b43-4afc-a7eb-d6201e06e323",
   "metadata": {},
   "source": [
    "Test for now with the SiGe dataset."
   ]
  },
  {
   "cell_type": "code",
   "execution_count": null,
   "id": "633ead77-993e-4058-b95b-45a4dd998a78",
   "metadata": {},
   "outputs": [],
   "source": [
    "sige_file_path = \"Output_DBSCAN_segmentation_phase_1.h5\"\n",
    "H5Web(sige_file_path)"
   ]
  },
  {
   "cell_type": "code",
   "execution_count": null,
   "id": "17ee7615-98d9-4440-a6af-e55683248cda",
   "metadata": {},
   "outputs": [],
   "source": [
    "import h5py\n",
    "import numpy as np\n",
    "with h5py.File(sige_file_path, \"r\") as h5r:\n",
    "    n_vxls = 0\n",
    "    aabb3d = np.zeros((3, 2), np.float64)\n",
    "    for dim in [0, 1, 2]:\n",
    "        aabb3d[dim, :] = [np.finfo(np.float64).max, np.finfo(np.float64).min]\n",
    "    # print(aabb3d)\n",
    "    for key in h5r[\"1\"].keys():\n",
    "        for dim in [0, 1, 2]:\n",
    "            mimx = (np.min(h5r[\"1\"][key][:, dim]), np.max(h5r[\"1\"][key][:, dim]))\n",
    "            if mimx[0] <= aabb3d[dim, 0]:\n",
    "                aabb3d[dim, 0] = mimx[0]\n",
    "            if mimx[1] >= aabb3d[dim, 1]:\n",
    "                aabb3d[dim, 1] = mimx[1]\n",
    "            n_vxls += int(np.shape(h5r[\"1\"][key])[0])\n",
    "    print(aabb3d)\n",
    "    print(n_vxls)\n",
    "    # assume cubic vxl 2nm edge length"
   ]
  },
  {
   "cell_type": "markdown",
   "id": "89f1378d-f267-4914-a9af-2d51fb7e44ab",
   "metadata": {},
   "source": [
    "Assume that the data were discretized on the following rectangular grid with 2nm cubic voxel"
   ]
  },
  {
   "cell_type": "code",
   "execution_count": null,
   "id": "5119192e-fea3-47ad-b958-cd9184d3c189",
   "metadata": {},
   "outputs": [],
   "source": [
    "nx = int((88--96)/2)\n",
    "ny = int((94--96)/2)\n",
    "nz = int((0--222)/2)\n",
    "grid = np.zeros((nx, ny, nz), np.uint32)\n",
    "# that grid should intentionally be a cuboid to enable checking correct dimensions\n",
    "\n",
    "def i_to_xyz(i):\n",
    "    z = int(i / (nx * ny))\n",
    "    rem = i - (nx * ny * z)\n",
    "    y = int(rem / nx)\n",
    "    x = rem - (y * nx)\n",
    "    return (x, y, z)\n",
    "\n",
    "with h5py.File(sige_file_path, \"r\") as h5r:\n",
    "    for key in h5r[\"1\"].keys():\n",
    "        jds = np.asarray(h5r[\"1\"][key][:, 3], np.uint32)\n",
    "        for j in jds:\n",
    "            x, y, z = i_to_xyz(j)\n",
    "            grid[x, y, z] = int(key) + 1\n",
    "        print(key)\n",
    "print(np.shape(grid))\n",
    "print(np.unique(grid))"
   ]
  },
  {
   "cell_type": "code",
   "execution_count": null,
   "id": "7f697813-a48e-4c52-b6a7-804829603d6d",
   "metadata": {},
   "outputs": [],
   "source": [
    "import h5py\n",
    "with h5py.File(\"input.grid.nxs\", \"w\") as h5w:\n",
    "    h5w.create_dataset(\"/grid\", compression=\"gzip\", compression_opts=1, data=grid)"
   ]
  },
  {
   "cell_type": "code",
   "execution_count": null,
   "id": "32d12e24-946c-4b19-a0bb-ea428aeb1374",
   "metadata": {},
   "outputs": [],
   "source": [
    "H5Web(\"input.grid.nxs\")"
   ]
  },
  {
   "cell_type": "code",
   "execution_count": null,
   "id": "3efc0fb2-11b4-4cb9-929a-cba9a0a2d0e9",
   "metadata": {},
   "outputs": [],
   "source": []
  }
 ],
 "metadata": {
  "kernelspec": {
   "display_name": "Python 3 (ipykernel)",
   "language": "python",
   "name": "python3"
  },
  "language_info": {
   "codemirror_mode": {
    "name": "ipython",
    "version": 3
   },
   "file_extension": ".py",
   "mimetype": "text/x-python",
   "name": "python",
   "nbconvert_exporter": "python",
   "pygments_lexer": "ipython3",
   "version": "3.12.4"
  }
 },
 "nbformat": 4,
 "nbformat_minor": 5
}
