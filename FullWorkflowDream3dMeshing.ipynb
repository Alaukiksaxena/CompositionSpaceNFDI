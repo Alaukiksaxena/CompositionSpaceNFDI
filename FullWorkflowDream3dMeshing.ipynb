{
 "cells": [
  {
   "cell_type": "code",
   "execution_count": 10,
   "id": "c3d54e7c",
   "metadata": {},
   "outputs": [],
   "source": [
    "# import libraries\n",
    "import sys\n",
    "import os\n",
    "import pandas as pd\n",
    "import matplotlib.pylab as plt\n",
    "from jupyterlab_h5web import H5Web\n",
    "# import modules with the functionalities offered by CompositionSpace\n",
    "from compositionspace.utils import get_file_size\n",
    "from compositionspace.io import get_reconstructed_positions, get_iontypes, get_iontypes_info\n",
    "from compositionspace.preparation import ProcessPreparation\n",
    "from compositionspace.segmentation import ProcessSegmentation\n",
    "from compositionspace.clustering import ProcessClustering"
   ]
  },
  {
   "cell_type": "code",
   "execution_count": 2,
   "id": "4cc5a514-9e53-492c-8aab-0af54ba23bb7",
   "metadata": {},
   "outputs": [
    {
     "name": "stdout",
     "output_type": "stream",
     "text": [
      "Executing compositionspace in the following working directory: /home/kaiobach/Research/hu_hu_hu/sprint20/iuc09_saksena_comp_space/CompositionSpace\n"
     ]
    }
   ],
   "source": [
    "# ! pip list  \n",
    "MY_PROCESSED_DATA_PATH = f\"{os.getcwd()}\"\n",
    "print(f\"Executing compositionspace in the following working directory: {os.getcwd()}\")"
   ]
  },
  {
   "cell_type": "markdown",
   "id": "ed397ebd-5954-40bf-b4fc-3042eca1acf0",
   "metadata": {},
   "source": [
    "## Load reconstruction and ranging"
   ]
  },
  {
   "cell_type": "code",
   "execution_count": 3,
   "id": "ecd3a7e2-6c3a-470c-8c64-e7fdad7e44fd",
   "metadata": {},
   "outputs": [],
   "source": [
    "workdir = \"/home/kaiobach/Research/paraprobe-toolbox/teaching/example_analyses/iuc09_saksena\"\n",
    "RECONSTRUCTION_AND_RANGING = (f\"{workdir}/..\")\n",
    "RECONSTRUCTION_AND_RANGING = (f\"{workdir}/PARAPROBE.Transcoder.Results.SimID.1.nxs\",\n",
    "                              f\"{workdir}/PARAPROBE.Ranger.Results.SimID.1.nxs\")\n",
    "config_file_path = f\"{MY_PROCESSED_DATA_PATH}/experiment_params.yaml\"\n",
    "results_file_path = f\"{MY_PROCESSED_DATA_PATH}/CompositionSpace.Results.nxs\""
   ]
  },
  {
   "cell_type": "code",
   "execution_count": 4,
   "id": "d615c926-17f4-4ba2-93d9-acfe0230cdfe",
   "metadata": {},
   "outputs": [],
   "source": [
    "# H5Web(RECONSTRUCTION_AND_RANGING[0])\n",
    "# H5Web(RECONSTRUCTION_AND_RANGING[1])"
   ]
  },
  {
   "cell_type": "code",
   "execution_count": 5,
   "id": "f4cfaab3-72ab-4dfa-92d4-6d6349a533fe",
   "metadata": {
    "scrolled": true
   },
   "outputs": [
    {
     "name": "stdout",
     "output_type": "stream",
     "text": [
      "Load reconstructed positions shape (69507210, 3), type <class 'numpy.ndarray'>, dtype float32\n",
      "Load iontypes information 111 types distinguished\n",
      "Load ranged iontypes shape (69507210,), type <class 'numpy.ndarray'>, dtype uint8\n"
     ]
    }
   ],
   "source": [
    "(xyz_val, xyz_unit) = get_reconstructed_positions(RECONSTRUCTION_AND_RANGING[0])\n",
    "ityp_info = get_iontypes_info(RECONSTRUCTION_AND_RANGING[0])\n",
    "(ityp_val, ityp_unit) = get_iontypes(RECONSTRUCTION_AND_RANGING[1])"
   ]
  },
  {
   "cell_type": "markdown",
   "id": "1df2fbfa-4c55-4cc0-b2c2-31af79e72a8b",
   "metadata": {},
   "source": [
    "## Voxelize with rectangular transfer function without creating slices"
   ]
  },
  {
   "cell_type": "code",
   "execution_count": 6,
   "id": "33255c0b-04a8-4b84-9d70-c2ce3a62cfb2",
   "metadata": {
    "scrolled": true
   },
   "outputs": [
    {
     "name": "stdout",
     "output_type": "stream",
     "text": [
      "[[ 3.4028235e+38 -3.4028235e+38]\n",
      " [ 3.4028235e+38 -3.4028235e+38]\n",
      " [ 3.4028235e+38 -3.4028235e+38]]\n",
      "shape (69507210,)\n",
      "self.aabb3d [-55.  53.], extent 108\n",
      "[-54. -53. -52. -51. -50. -49. -48. -47. -46. -45. -44. -43. -42. -41.\n",
      " -40. -39. -38. -37. -36. -35. -34. -33. -32. -31. -30. -29. -28. -27.\n",
      " -26. -25. -24. -23. -22. -21. -20. -19. -18. -17. -16. -15. -14. -13.\n",
      " -12. -11. -10.  -9.  -8.  -7.  -6.  -5.  -4.  -3.  -2.  -1.   0.   1.\n",
      "   2.   3.   4.   5.   6.   7.   8.   9.  10.  11.  12.  13.  14.  15.\n",
      "  16.  17.  18.  19.  20.  21.  22.  23.  24.  25.  26.  27.  28.  29.\n",
      "  30.  31.  32.  33.  34.  35.  36.  37.  38.  39.  40.  41.  42.  43.\n",
      "  44.  45.  46.  47.  48.  49.  50.  51.  52.  53.]\n",
      "self.aabb3d [-59.  54.], extent 113\n",
      "[-58. -57. -56. -55. -54. -53. -52. -51. -50. -49. -48. -47. -46. -45.\n",
      " -44. -43. -42. -41. -40. -39. -38. -37. -36. -35. -34. -33. -32. -31.\n",
      " -30. -29. -28. -27. -26. -25. -24. -23. -22. -21. -20. -19. -18. -17.\n",
      " -16. -15. -14. -13. -12. -11. -10.  -9.  -8.  -7.  -6.  -5.  -4.  -3.\n",
      "  -2.  -1.   0.   1.   2.   3.   4.   5.   6.   7.   8.   9.  10.  11.\n",
      "  12.  13.  14.  15.  16.  17.  18.  19.  20.  21.  22.  23.  24.  25.\n",
      "  26.  27.  28.  29.  30.  31.  32.  33.  34.  35.  36.  37.  38.  39.\n",
      "  40.  41.  42.  43.  44.  45.  46.  47.  48.  49.  50.  51.  52.  53.\n",
      "  54.]\n",
      "self.aabb3d [-204.   -0.], extent 204\n",
      "[-203. -202. -201. -200. -199. -198. -197. -196. -195. -194. -193. -192.\n",
      " -191. -190. -189. -188. -187. -186. -185. -184. -183. -182. -181. -180.\n",
      " -179. -178. -177. -176. -175. -174. -173. -172. -171. -170. -169. -168.\n",
      " -167. -166. -165. -164. -163. -162. -161. -160. -159. -158. -157. -156.\n",
      " -155. -154. -153. -152. -151. -150. -149. -148. -147. -146. -145. -144.\n",
      " -143. -142. -141. -140. -139. -138. -137. -136. -135. -134. -133. -132.\n",
      " -131. -130. -129. -128. -127. -126. -125. -124. -123. -122. -121. -120.\n",
      " -119. -118. -117. -116. -115. -114. -113. -112. -111. -110. -109. -108.\n",
      " -107. -106. -105. -104. -103. -102. -101. -100.  -99.  -98.  -97.  -96.\n",
      "  -95.  -94.  -93.  -92.  -91.  -90.  -89.  -88.  -87.  -86.  -85.  -84.\n",
      "  -83.  -82.  -81.  -80.  -79.  -78.  -77.  -76.  -75.  -74.  -73.  -72.\n",
      "  -71.  -70.  -69.  -68.  -67.  -66.  -65.  -64.  -63.  -62.  -61.  -60.\n",
      "  -59.  -58.  -57.  -56.  -55.  -54.  -53.  -52.  -51.  -50.  -49.  -48.\n",
      "  -47.  -46.  -45.  -44.  -43.  -42.  -41.  -40.  -39.  -38.  -37.  -36.\n",
      "  -35.  -34.  -33.  -32.  -31.  -30.  -29.  -28.  -27.  -26.  -25.  -24.\n",
      "  -23.  -22.  -21.  -20.  -19.  -18.  -17.  -16.  -15.  -14.  -13.  -12.\n",
      "  -11.  -10.   -9.   -8.   -7.   -6.   -5.   -4.   -3.   -2.   -1.    0.]\n",
      "[2483515 2448289 2471619 2361078 2471864 2457584 2421069 2420009 2321098\n",
      " 2449392]\n",
      "2485027\n",
      "[(  0, 2483515,  1) ( 27, 2448289,  2) (104, 2471619,  3)\n",
      " (104, 2361078,  4) (  0, 2471864,  5) ( 18, 2457584,  6)\n",
      " ( 17, 2421069,  7) (  1, 2420009,  8) ( 11, 2321098,  9)\n",
      " (104, 2449392, 10)]\n",
      "[(0, 463, 69492909) (0, 568, 69444999) (0, 568, 69476323)\n",
      " (0, 674, 69412038) (0, 675, 69492093) (0, 780, 69464542)\n",
      " (0, 886, 69464033) (0, 992, 69381026) (0, 992, 69430067)\n",
      " (0, 993, 69461064)]\n",
      "[(110, 2401535,  161079) (110, 2408233,  615500) (110, 2412362,  390984)\n",
      " (110, 2412980,  371259) (110, 2422725, 1105186) (110, 2422922, 1426949)\n",
      " (110, 2425417,   55713) (110, 2446882,  151783) (110, 2447999,  176207)\n",
      " (110, 2448630,  517095)]\n",
      "\n",
      "Cardinality is 2489616 means we have to visit so that many entries in the lookup table 10708227 but by virtue of construction of the lookup table all the indices will be close in cache.\n",
      "ityp 0, np.sum(total_weights) 10708227.0\n",
      "ityp 1, np.sum(total_weights) 16337519.0\n",
      "ityp 2, np.sum(total_weights) 16933607.0\n",
      "ityp 3, np.sum(total_weights) 16936407.0\n",
      "ityp 4, np.sum(total_weights) 16948528.0\n",
      "ityp 5, np.sum(total_weights) 16950456.0\n",
      "ityp 6, np.sum(total_weights) 16951899.0\n",
      "ityp 7, np.sum(total_weights) 17364932.0\n",
      "ityp 8, np.sum(total_weights) 17407519.0\n",
      "ityp 9, np.sum(total_weights) 17453586.0\n",
      "ityp 10, np.sum(total_weights) 17486943.0\n",
      "ityp 11, np.sum(total_weights) 22870728.0\n",
      "ityp 12, np.sum(total_weights) 23489587.0\n",
      "ityp 13, np.sum(total_weights) 23793516.0\n",
      "ityp 14, np.sum(total_weights) 23798853.0\n",
      "ityp 15, np.sum(total_weights) 23802849.0\n",
      "ityp 16, np.sum(total_weights) 23805661.0\n",
      "ityp 17, np.sum(total_weights) 45848861.0\n",
      "ityp 18, np.sum(total_weights) 54341281.0\n",
      "ityp 19, np.sum(total_weights) 55223435.0\n",
      "ityp 20, np.sum(total_weights) 55547369.0\n",
      "ityp 21, np.sum(total_weights) 55560326.0\n",
      "ityp 22, np.sum(total_weights) 55926284.0\n",
      "ityp 23, np.sum(total_weights) 57109111.0\n",
      "ityp 24, np.sum(total_weights) 57418641.0\n",
      "ityp 25, np.sum(total_weights) 57506006.0\n",
      "ityp 26, np.sum(total_weights) 57678054.0\n",
      "ityp 27, np.sum(total_weights) 64293809.0\n",
      "ityp 28, np.sum(total_weights) 64318867.0\n",
      "ityp 29, np.sum(total_weights) 65154785.0\n",
      "ityp 30, np.sum(total_weights) 65255809.0\n",
      "ityp 31, np.sum(total_weights) 65372662.0\n",
      "ityp 32, np.sum(total_weights) 65505260.0\n",
      "ityp 33, np.sum(total_weights) 65722137.0\n",
      "ityp 34, np.sum(total_weights) 65840321.0\n",
      "ityp 35, np.sum(total_weights) 66071309.0\n",
      "ityp 36, np.sum(total_weights) 66290628.0\n",
      "ityp 37, np.sum(total_weights) 66295082.0\n",
      "ityp 38, np.sum(total_weights) 66299452.0\n",
      "ityp 39, np.sum(total_weights) 66303239.0\n",
      "ityp 40, np.sum(total_weights) 66308117.0\n",
      "ityp 41, np.sum(total_weights) 66335636.0\n",
      "ityp 42, np.sum(total_weights) 66376718.0\n",
      "ityp 43, np.sum(total_weights) 66631887.0\n",
      "ityp 44, np.sum(total_weights) 67049725.0\n",
      "ityp 45, np.sum(total_weights) 67056949.0\n",
      "ityp 46, np.sum(total_weights) 67061936.0\n",
      "ityp 47, np.sum(total_weights) 67065484.0\n",
      "ityp 48, np.sum(total_weights) 67069346.0\n",
      "ityp 49, np.sum(total_weights) 67082824.0\n",
      "ityp 50, np.sum(total_weights) 67090034.0\n",
      "ityp 51, np.sum(total_weights) 67098982.0\n",
      "ityp 52, np.sum(total_weights) 67110934.0\n",
      "ityp 53, np.sum(total_weights) 67177395.0\n",
      "ityp 54, np.sum(total_weights) 67206588.0\n",
      "ityp 55, np.sum(total_weights) 67254565.0\n",
      "ityp 56, np.sum(total_weights) 67300107.0\n",
      "ityp 57, np.sum(total_weights) 67328219.0\n",
      "ityp 58, np.sum(total_weights) 67371490.0\n",
      "ityp 59, np.sum(total_weights) 67399891.0\n",
      "ityp 60, np.sum(total_weights) 67404498.0\n",
      "ityp 61, np.sum(total_weights) 67408952.0\n",
      "ityp 62, np.sum(total_weights) 67418869.0\n",
      "ityp 63, np.sum(total_weights) 67438511.0\n",
      "ityp 64, np.sum(total_weights) 67441141.0\n",
      "ityp 65, np.sum(total_weights) 67454093.0\n",
      "ityp 66, np.sum(total_weights) 67458367.0\n",
      "ityp 67, np.sum(total_weights) 67462260.0\n",
      "ityp 68, np.sum(total_weights) 67465295.0\n",
      "ityp 69, np.sum(total_weights) 67469204.0\n",
      "ityp 70, np.sum(total_weights) 67477310.0\n",
      "ityp 71, np.sum(total_weights) 67481686.0\n",
      "ityp 72, np.sum(total_weights) 67487421.0\n",
      "ityp 73, np.sum(total_weights) 67490780.0\n",
      "ityp 74, np.sum(total_weights) 67494909.0\n",
      "ityp 75, np.sum(total_weights) 67498554.0\n",
      "ityp 76, np.sum(total_weights) 67502749.0\n",
      "ityp 77, np.sum(total_weights) 67507160.0\n",
      "ityp 78, np.sum(total_weights) 67511456.0\n",
      "ityp 79, np.sum(total_weights) 67515873.0\n",
      "ityp 80, np.sum(total_weights) 67518719.0\n",
      "ityp 81, np.sum(total_weights) 67521252.0\n",
      "ityp 82, np.sum(total_weights) 67525191.0\n",
      "ityp 83, np.sum(total_weights) 67528086.0\n",
      "ityp 84, np.sum(total_weights) 67532093.0\n",
      "ityp 85, np.sum(total_weights) 67535070.0\n",
      "ityp 86, np.sum(total_weights) 67539140.0\n",
      "ityp 87, np.sum(total_weights) 67542931.0\n",
      "ityp 88, np.sum(total_weights) 67546563.0\n",
      "ityp 89, np.sum(total_weights) 67550005.0\n",
      "ityp 90, np.sum(total_weights) 67553221.0\n",
      "ityp 91, np.sum(total_weights) 67556374.0\n",
      "ityp 92, np.sum(total_weights) 67559464.0\n",
      "ityp 93, np.sum(total_weights) 67564298.0\n",
      "ityp 94, np.sum(total_weights) 67567386.0\n",
      "ityp 95, np.sum(total_weights) 67571369.0\n",
      "ityp 96, np.sum(total_weights) 67576066.0\n",
      "ityp 97, np.sum(total_weights) 67578925.0\n",
      "ityp 98, np.sum(total_weights) 67583471.0\n",
      "ityp 99, np.sum(total_weights) 67589570.0\n",
      "ityp 100, np.sum(total_weights) 67592893.0\n",
      "ityp 101, np.sum(total_weights) 67594973.0\n",
      "ityp 102, np.sum(total_weights) 67607491.0\n",
      "ityp 103, np.sum(total_weights) 67612405.0\n",
      "ityp 104, np.sum(total_weights) 69180023.0\n",
      "ityp 105, np.sum(total_weights) 69488260.0\n",
      "ityp 106, np.sum(total_weights) 69494401.0\n",
      "ityp 107, np.sum(total_weights) 69497920.0\n",
      "ityp 108, np.sum(total_weights) 69500324.0\n",
      "ityp 109, np.sum(total_weights) 69505187.0\n",
      "ityp 110, np.sum(total_weights) 69507210.0\n",
      "cardinality of cg_grid 2489616, n_ions 69507210\n"
     ]
    }
   ],
   "source": [
    "voxelize = ProcessPreparation(\n",
    "    config_file_path,\n",
    "    results_file_path,\n",
    "    verbose=True)\n",
    "voxelize.write_init_results()\n",
    "voxelize.define_voxelization_grid(xyz_val)\n",
    "voxelize.define_lookup_table(ityp_val)\n",
    "voxelize.write_voxelization_grid_info()\n",
    "voxelize.write_voxelization_results(ityp_info)"
   ]
  },
  {
   "cell_type": "code",
   "execution_count": 7,
   "id": "625f4da7-e0d4-4d37-9792-ad5fed59bb84",
   "metadata": {},
   "outputs": [
    {
     "name": "stdout",
     "output_type": "stream",
     "text": [
      "216.965 MiB\n"
     ]
    }
   ],
   "source": [
    "get_file_size(results_file_path)\n",
    "# H5Web(results_file_path)"
   ]
  },
  {
   "cell_type": "markdown",
   "id": "59a4bfc3-d77f-452a-a2ac-5bb03dc92df9",
   "metadata": {},
   "source": [
    "<div class=\"alert alert-block alert-danger\">\n",
    "Discussion points:<br>\n",
    "* Atomic decomposition<br>\n",
    "</div>"
   ]
  },
  {
   "cell_type": "markdown",
   "id": "10373f39-6a61-4604-9631-06e4eded4e6d",
   "metadata": {},
   "source": [
    "## Segmentation PCA and IC minimization"
   ]
  },
  {
   "cell_type": "code",
   "execution_count": 8,
   "id": "f126ed5c-b107-4890-8fd2-c46c46e3bc5b",
   "metadata": {},
   "outputs": [
    {
     "name": "stdout",
     "output_type": "stream",
     "text": [
      "GaussianMixture ML analysis with n_cluster 1\n",
      "GaussianMixture ML analysis with n_cluster 2\n",
      "GaussianMixture ML analysis with n_cluster 3\n",
      "GaussianMixture ML analysis with n_cluster 4\n",
      "GaussianMixture ML analysis with n_cluster 5\n"
     ]
    }
   ],
   "source": [
    "segmentation = ProcessSegmentation(\n",
    "    config_file_path,\n",
    "    results_file_path,\n",
    "    entry_id=1,\n",
    "    verbose=True)\n",
    "segmentation.perform_pca_and_write_results()\n",
    "segmentation.perform_bics_minimization_and_write_results()"
   ]
  },
  {
   "cell_type": "code",
   "execution_count": 10,
   "id": "9b31ff53-d565-4128-a5a7-e8ffe011d07e",
   "metadata": {},
   "outputs": [
    {
     "name": "stdout",
     "output_type": "stream",
     "text": [
      "219.178 MiB\n"
     ]
    },
    {
     "data": {
      "application/x-hdf5": "/home/kaiobach/Research/hu_hu_hu/sprint20/iuc09_saksena_comp_space/CompositionSpace/CompositionSpace.Results.nxs",
      "text/plain": [
       "<jupyterlab_h5web.widget.H5Web object>"
      ]
     },
     "execution_count": 10,
     "metadata": {},
     "output_type": "execute_result"
    }
   ],
   "source": [
    "get_file_size(results_file_path)\n",
    "H5Web(results_file_path)"
   ]
  },
  {
   "cell_type": "markdown",
   "id": "1393fe51-d877-451d-a633-5d1bd4f3461d",
   "metadata": {},
   "source": [
    "<div class=\"alert alert-block alert-danger\">\n",
    "Discussion points:<br>\n",
    "* Modify NXapm_composition_space<br>\n",
    "* What to show how to show?<br>\n",
    "* Number of cluster vs Number of clusters? wording...?<br>\n",
    "* Why to run the gm several times, ones in the bics loop ones in get composition cluster files \n",
    "</div>"
   ]
  },
  {
   "cell_type": "markdown",
   "id": "638edaae-174c-46d7-8765-86100e76273b",
   "metadata": {},
   "source": [
    "## DBScan clustering"
   ]
  },
  {
   "cell_type": "code",
   "execution_count": 11,
   "id": "6895f918-49d0-4f9c-9c84-130fadc72867",
   "metadata": {},
   "outputs": [
    {
     "name": "stdout",
     "output_type": "stream",
     "text": [
      "n_ic_cluster 5, eps 3 nm, min_samples 5\n",
      "np.shape(all_vxl_pos) (2489616, 3) list(set(phase_identifier) [0, 1, 2, 3, 4]\n",
      "Loop 0\n",
      "np.shape(trg_vxl_pos) (1108109, 3)\n",
      "1\n",
      "type(db.labels_) <class 'numpy.ndarray'> dtype int64\n",
      "[0]\n",
      "Loop 1\n",
      "np.shape(trg_vxl_pos) (922088, 3)\n",
      "1\n",
      "type(db.labels_) <class 'numpy.ndarray'> dtype int64\n",
      "[0]\n",
      "Loop 2\n",
      "np.shape(trg_vxl_pos) (119525, 3)\n",
      "3\n",
      "type(db.labels_) <class 'numpy.ndarray'> dtype int64\n",
      "[-1  0  1]\n",
      "Loop 3\n",
      "np.shape(trg_vxl_pos) (339476, 3)\n",
      "2\n",
      "type(db.labels_) <class 'numpy.ndarray'> dtype int64\n",
      "[-1  0]\n",
      "Loop 4\n",
      "np.shape(trg_vxl_pos) (418, 3)\n",
      "1\n",
      "type(db.labels_) <class 'numpy.ndarray'> dtype int64\n",
      "[-1]\n"
     ]
    }
   ],
   "source": [
    "clustering = ProcessClustering(\n",
    "    config_file_path,\n",
    "    results_file_path,\n",
    "    entry_id=1,\n",
    "    verbose=True)\n",
    "clustering.run_and_write_results()"
   ]
  },
  {
   "cell_type": "code",
   "execution_count": 12,
   "id": "44223976-9a66-4330-a414-79bf0847355b",
   "metadata": {},
   "outputs": [
    {
     "name": "stdout",
     "output_type": "stream",
     "text": [
      "219.283 MiB\n"
     ]
    },
    {
     "data": {
      "application/x-hdf5": "/home/kaiobach/Research/hu_hu_hu/sprint20/iuc09_saksena_comp_space/CompositionSpace/CompositionSpace.Results.nxs",
      "text/plain": [
       "<jupyterlab_h5web.widget.H5Web object>"
      ]
     },
     "execution_count": 12,
     "metadata": {},
     "output_type": "execute_result"
    }
   ],
   "source": [
    "get_file_size(results_file_path)\n",
    "H5Web(results_file_path)"
   ]
  },
  {
   "cell_type": "markdown",
   "id": "c0886636-6d6a-4180-8ec9-425c3800738b",
   "metadata": {},
   "source": [
    "<div class=\"alert alert-block alert-danger\">\n",
    "Discussion points:<br>\n",
    "- Tests are too specific, hardcoded file names<br>\n",
    "- Readthedocs documentation needs to be updated<br>\n",
    "- GM and ML models are variables collect over<br>\n",
    "- Loading file formats from the community should use ifes-apt-tc-data-modeling library currently using paraprobe result<br>\n",
    "- Ion handling should use ifes-apt-tc-data-modeling is not added as a dependencies and loading properly<br>\n",
    "-  tests/experiment_params.json should be removed?<br>\n",
    "- NeXus renaming<br>\n",
    "- CompositionSpace by design does not distinguish charge states iontypes should be atomic decomposed<br>\n",
    "- Why is the center of the voxel defined by the median position of the ions but not by the barycenter of the voxel (currently using voxel barycenter)<br>\n",
    "- Ran 2, and even 0.5 discretization speed is comparable<br>\n",
    "- Triple loop in preparation step should be replaced with more fancy numpy indexing code that I know is somewhere but I couldnt find quickly<br>\n",
    "- Move test data out of this repository<br>\n",
    "</div>"
   ]
  },
  {
   "cell_type": "markdown",
   "id": "b2c4acc3-a2b1-4faa-bccd-b3eee80729bc",
   "metadata": {},
   "source": [
    "## Meshing"
   ]
  },
  {
   "cell_type": "markdown",
   "id": "9ce2de83-7b43-4afc-a7eb-d6201e06e323",
   "metadata": {},
   "source": [
    "Test for now with the SiGe dataset."
   ]
  },
  {
   "cell_type": "code",
   "execution_count": 13,
   "id": "633ead77-993e-4058-b95b-45a4dd998a78",
   "metadata": {},
   "outputs": [
    {
     "data": {
      "application/x-hdf5": "/home/kaiobach/Research/hu_hu_hu/sprint20/iuc09_saksena_comp_space/CompositionSpace/Output_DBSCAN_segmentation_phase_1.h5",
      "text/plain": [
       "<jupyterlab_h5web.widget.H5Web object>"
      ]
     },
     "execution_count": 13,
     "metadata": {},
     "output_type": "execute_result"
    }
   ],
   "source": [
    "sige_file_path = \"Output_DBSCAN_segmentation_phase_1.h5\"\n",
    "H5Web(sige_file_path)"
   ]
  },
  {
   "cell_type": "code",
   "execution_count": 5,
   "id": "17ee7615-98d9-4440-a6af-e55683248cda",
   "metadata": {},
   "outputs": [
    {
     "name": "stdout",
     "output_type": "stream",
     "text": [
      "[[ -94.18623883   87.23963464]\n",
      " [ -94.32663361   93.68342216]\n",
      " [-219.77029586   -0.74721716]]\n",
      "590121\n"
     ]
    }
   ],
   "source": [
    "import h5py\n",
    "import numpy as np\n",
    "with h5py.File(sige_file_path, \"r\") as h5r:\n",
    "    n_vxls = 0\n",
    "    aabb3d = np.zeros((3, 2), np.float64)\n",
    "    for dim in [0, 1, 2]:\n",
    "        aabb3d[dim, :] = [np.finfo(np.float64).max, np.finfo(np.float64).min]\n",
    "    # print(aabb3d)\n",
    "    for key in h5r[\"1\"].keys():\n",
    "        for dim in [0, 1, 2]:\n",
    "            mimx = (np.min(h5r[\"1\"][key][:, dim]), np.max(h5r[\"1\"][key][:, dim]))\n",
    "            if mimx[0] <= aabb3d[dim, 0]:\n",
    "                aabb3d[dim, 0] = mimx[0]\n",
    "            if mimx[1] >= aabb3d[dim, 1]:\n",
    "                aabb3d[dim, 1] = mimx[1]\n",
    "            n_vxls += int(np.shape(h5r[\"1\"][key])[0])\n",
    "    print(aabb3d)\n",
    "    print(n_vxls)\n",
    "    # assume cubic vxl 2nm edge length"
   ]
  },
  {
   "cell_type": "markdown",
   "id": "89f1378d-f267-4914-a9af-2d51fb7e44ab",
   "metadata": {},
   "source": [
    "Assume that the data were discretized on the following rectangular grid with 2nm cubic voxel"
   ]
  },
  {
   "cell_type": "code",
   "execution_count": 7,
   "id": "5119192e-fea3-47ad-b958-cd9184d3c189",
   "metadata": {},
   "outputs": [
    {
     "name": "stdout",
     "output_type": "stream",
     "text": [
      "0\n",
      "1\n",
      "2\n",
      "3\n",
      "4\n",
      "5\n",
      "6\n",
      "7\n",
      "(92, 95, 111)\n",
      "[0 1 2 3 4 5 6 7 8]\n"
     ]
    }
   ],
   "source": [
    "nx = int((88--96)/2)\n",
    "ny = int((94--96)/2)\n",
    "nz = int((0--222)/2)\n",
    "grid = np.zeros((nx, ny, nz), np.uint32)\n",
    "# that grid should intentionally be a cuboid to enable checking correct dimensions\n",
    "\n",
    "def i_to_xyz(i):\n",
    "    z = int(i / (nx * ny))\n",
    "    rem = i - (nx * ny * z)\n",
    "    y = int(rem / nx)\n",
    "    x = rem - (y * nx)\n",
    "    return (x, y, z)\n",
    "\n",
    "with h5py.File(sige_file_path, \"r\") as h5r:\n",
    "    for key in h5r[\"1\"].keys():\n",
    "        jds = np.asarray(h5r[\"1\"][key][:, 3], np.uint32)\n",
    "        for j in jds:\n",
    "            x, y, z = i_to_xyz(j)\n",
    "            grid[x, y, z] = int(key) + 1\n",
    "        print(key)\n",
    "print(np.shape(grid))\n",
    "print(np.unique(grid))"
   ]
  },
  {
   "cell_type": "code",
   "execution_count": 11,
   "id": "7f697813-a48e-4c52-b6a7-804829603d6d",
   "metadata": {},
   "outputs": [],
   "source": [
    "import h5py\n",
    "with h5py.File(\"input.grid.nxs\", \"w\") as h5w:\n",
    "    h5w.create_dataset(\"/grid\", compression=\"gzip\", compression_opts=1, data=grid)"
   ]
  },
  {
   "cell_type": "code",
   "execution_count": 12,
   "id": "32d12e24-946c-4b19-a0bb-ea428aeb1374",
   "metadata": {},
   "outputs": [
    {
     "data": {
      "application/x-hdf5": "/home/kaiobach/Research/hu_hu_hu/sprint20/iuc09_saksena_comp_space/CompositionSpace/input.grid.nxs",
      "text/plain": [
       "<jupyterlab_h5web.widget.H5Web object>"
      ]
     },
     "execution_count": 12,
     "metadata": {},
     "output_type": "execute_result"
    }
   ],
   "source": [
    "H5Web(\"input.grid.nxs\")"
   ]
  },
  {
   "cell_type": "code",
   "execution_count": null,
   "id": "3efc0fb2-11b4-4cb9-929a-cba9a0a2d0e9",
   "metadata": {},
   "outputs": [],
   "source": []
  }
 ],
 "metadata": {
  "kernelspec": {
   "display_name": "Python 3 (ipykernel)",
   "language": "python",
   "name": "python3"
  },
  "language_info": {
   "codemirror_mode": {
    "name": "ipython",
    "version": 3
   },
   "file_extension": ".py",
   "mimetype": "text/x-python",
   "name": "python",
   "nbconvert_exporter": "python",
   "pygments_lexer": "ipython3",
   "version": "3.11.5"
  }
 },
 "nbformat": 4,
 "nbformat_minor": 5
}
