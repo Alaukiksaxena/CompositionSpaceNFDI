{
 "cells": [
  {
   "cell_type": "code",
   "execution_count": 1,
   "id": "c3d54e7c",
   "metadata": {},
   "outputs": [],
   "source": [
    "# import libraries\n",
    "import sys\n",
    "import os\n",
    "import h5py\n",
    "import pandas as pd\n",
    "import matplotlib.pylab as plt\n",
    "from jupyterlab_h5web import H5Web\n",
    "# import modules with the functionalities offered by CompositionSpace\n",
    "from compositionspace.utils import get_file_size\n",
    "from compositionspace.io import get_reconstructed_positions, get_iontypes, get_ranging_info\n",
    "from compositionspace.preparation import ProcessPreparation\n",
    "from compositionspace.segmentation import ProcessSegmentation\n",
    "from compositionspace.clustering import ProcessClustering"
   ]
  },
  {
   "cell_type": "code",
   "execution_count": 2,
   "id": "4cc5a514-9e53-492c-8aab-0af54ba23bb7",
   "metadata": {},
   "outputs": [
    {
     "name": "stdout",
     "output_type": "stream",
     "text": [
      "Executing compositionspace in the following working directory: /home/kaiobach/Research/hu_hu_hu/sprint22/conda-compspace-step01/CompositionSpace\n"
     ]
    }
   ],
   "source": [
    "# ! pip list\n",
    "MY_PROCESSED_DATA_PATH = f\"{os.getcwd()}\"\n",
    "print(f\"Executing compositionspace in the following working directory: {os.getcwd()}\")"
   ]
  },
  {
   "cell_type": "markdown",
   "id": "ed397ebd-5954-40bf-b4fc-3042eca1acf0",
   "metadata": {},
   "source": [
    "## Load reconstruction and ranging"
   ]
  },
  {
   "cell_type": "code",
   "execution_count": 3,
   "id": "ecd3a7e2-6c3a-470c-8c64-e7fdad7e44fd",
   "metadata": {},
   "outputs": [],
   "source": [
    "workdir = \"/home/kaiobach/Research/paraprobe-toolbox/teaching/example_analyses/iuc09_saksena\"\n",
    "workdir = \"/home/kaiobach/Research/paraprobe-toolbox/teaching/example_analyses/usa_denton_smith\"\n",
    "simid = 1\n",
    "RECONSTRUCTION_AND_RANGING = (f\"{workdir}/..\")\n",
    "RECONSTRUCTION_AND_RANGING = (f\"{workdir}/PARAPROBE.Transcoder.Results.SimID.1.nxs\",\n",
    "                              f\"{workdir}/PARAPROBE.Ranger.Results.SimID.1.nxs\")\n",
    "config_file_path = f\"{MY_PROCESSED_DATA_PATH}/experiment_params.yaml\"\n",
    "results_file_path = f\"{MY_PROCESSED_DATA_PATH}/CompositionSpace.Results.{simid}.nxs\""
   ]
  },
  {
   "cell_type": "code",
   "execution_count": 4,
   "id": "d615c926-17f4-4ba2-93d9-acfe0230cdfe",
   "metadata": {},
   "outputs": [],
   "source": [
    "# H5Web(RECONSTRUCTION_AND_RANGING[0])\n",
    "# H5Web(RECONSTRUCTION_AND_RANGING[1])"
   ]
  },
  {
   "cell_type": "code",
   "execution_count": 5,
   "id": "f4cfaab3-72ab-4dfa-92d4-6d6349a533fe",
   "metadata": {
    "scrolled": true
   },
   "outputs": [
    {
     "name": "stdout",
     "output_type": "stream",
     "text": [
      "Load reconstructed positions shape (945211, 3), type <class 'numpy.ndarray'>, dtype float32\n",
      "26 iontypes distinguished:\n",
      "\tion0, ('unknown iontype', 0)\n",
      "\tion1, ('Si ++', 1)\n",
      "\tion2, ('Si +', 2)\n",
      "\tion3, ('Cr +', 3)\n",
      "\tion4, ('Si +', 4)\n",
      "\tion5, ('Si +', 5)\n",
      "\tion6, ('Si ++', 6)\n",
      "\tion7, ('Si ++', 7)\n",
      "\tion8, ('Cr +', 8)\n",
      "\tion9, ('Cr ++', 9)\n",
      "\tion10, ('Cr ++', 10)\n",
      "\tion11, ('Cu +', 11)\n",
      "\tion12, ('Cu +', 12)\n",
      "\tion13, ('C +', 13)\n",
      "\tion14, ('C ++', 14)\n",
      "\tion15, ('O +', 15)\n",
      "\tion16, ('O +', 16)\n",
      "\tion17, ('Cr O +', 17)\n",
      "\tion18, ('Cr O +', 18)\n",
      "\tion19, ('Cr O +', 19)\n",
      "\tion20, ('Cr O ++', 20)\n",
      "\tion21, ('Cr O ++', 21)\n",
      "\tion22, ('Cr O ++', 22)\n",
      "\tion23, ('Cr O O +', 23)\n",
      "\tion24, ('Cr O O ++', 24)\n",
      "\tion25, ('Cr Cr O ++', 25)\n",
      "9 charge-agnostic iontypes distinguished:\n",
      "\tunknown iontype, [0]\n",
      "\tSi, [1, 2, 4, 5, 6, 7]\n",
      "\tCr, [3, 8, 9, 10]\n",
      "\tCu, [11, 12]\n",
      "\tC, [13, 14]\n",
      "\tO, [15, 16]\n",
      "\tCr O, [17, 18, 19, 20, 21, 22]\n",
      "\tCr O O, [23, 24]\n",
      "\tCr Cr O, [25]\n",
      "5 elements distinguished:\n",
      "Cr\n",
      "Cu\n",
      "O\n",
      "C\n",
      "Si\n",
      "Load ranged iontypes shape (945211,), type <class 'numpy.ndarray'>, dtype uint8\n"
     ]
    }
   ],
   "source": [
    "(xyz_val, xyz_unit) = get_reconstructed_positions(RECONSTRUCTION_AND_RANGING[0])\n",
    "ityp_info, nochrg_ityp_info, elements = get_ranging_info(RECONSTRUCTION_AND_RANGING[0], verbose=True)\n",
    "(ityp_val, ityp_unit) = get_iontypes(RECONSTRUCTION_AND_RANGING[1])"
   ]
  },
  {
   "cell_type": "markdown",
   "id": "1df2fbfa-4c55-4cc0-b2c2-31af79e72a8b",
   "metadata": {},
   "source": [
    "## Voxelize with rectangular transfer function without creating slices"
   ]
  },
  {
   "cell_type": "code",
   "execution_count": 6,
   "id": "33255c0b-04a8-4b84-9d70-c2ce3a62cfb2",
   "metadata": {
    "scrolled": true
   },
   "outputs": [
    {
     "name": "stdout",
     "output_type": "stream",
     "text": [
      "[[ 3.4028235e+38 -3.4028235e+38]\n",
      " [ 3.4028235e+38 -3.4028235e+38]\n",
      " [ 3.4028235e+38 -3.4028235e+38]]\n",
      "shape (945211,)\n",
      "dim 0\n",
      "\tnp.min(xyz[:, axis_id]) -20.433578491210938 >>>> -23.0\n",
      "\tnp.max(xyz[:, axis_id]) 19.706375122070312 >>>> 22.0\n",
      "\tself.aabb3d axis_id 0, [-23.  22.], extent 45\n",
      "dim 1\n",
      "\tnp.min(xyz[:, axis_id]) -17.857210159301758 >>>> -20.0\n",
      "\tnp.max(xyz[:, axis_id]) 21.282995223999023 >>>> 24.0\n",
      "\tself.aabb3d axis_id 1, [-20.  24.], extent 44\n",
      "dim 2\n",
      "\tnp.min(xyz[:, axis_id]) -75.08065032958984 >>>> -78.0\n",
      "\tnp.max(xyz[:, axis_id]) -0.020034153014421463 >>>> 2.0\n",
      "\tself.aabb3d axis_id 2, [-78.   2.], extent 80\n",
      "np.max(self.voxel_identifier) 153609\n",
      "np.prod(self.extent) 158400\n",
      "ion1, ('Si ++', 1):\n",
      "\tSi\n",
      "\t1\n",
      "\t{'Si': 1}\n",
      "ion2, ('Si +', 2):\n",
      "\tSi\n",
      "\t1\n",
      "\t{'Si': 1}\n",
      "ion3, ('Cr +', 3):\n",
      "\tCr\n",
      "\t1\n",
      "\t{'Cr': 1}\n",
      "ion4, ('Si +', 4):\n",
      "\tSi\n",
      "\t1\n",
      "\t{'Si': 1}\n",
      "ion5, ('Si +', 5):\n",
      "\tSi\n",
      "\t1\n",
      "\t{'Si': 1}\n",
      "ion6, ('Si ++', 6):\n",
      "\tSi\n",
      "\t1\n",
      "\t{'Si': 1}\n",
      "ion7, ('Si ++', 7):\n",
      "\tSi\n",
      "\t1\n",
      "\t{'Si': 1}\n",
      "ion8, ('Cr +', 8):\n",
      "\tCr\n",
      "\t1\n",
      "\t{'Cr': 1}\n",
      "ion9, ('Cr ++', 9):\n",
      "\tCr\n",
      "\t1\n",
      "\t{'Cr': 1}\n",
      "ion10, ('Cr ++', 10):\n",
      "\tCr\n",
      "\t1\n",
      "\t{'Cr': 1}\n",
      "ion11, ('Cu +', 11):\n",
      "\tCu\n",
      "\t1\n",
      "\t{'Cu': 1}\n",
      "ion12, ('Cu +', 12):\n",
      "\tCu\n",
      "\t1\n",
      "\t{'Cu': 1}\n",
      "ion13, ('C +', 13):\n",
      "\tC\n",
      "\t1\n",
      "\t{'C': 1}\n",
      "ion14, ('C ++', 14):\n",
      "\tC\n",
      "\t1\n",
      "\t{'C': 1}\n",
      "ion15, ('O +', 15):\n",
      "\tO\n",
      "\t1\n",
      "\t{'O': 1}\n",
      "ion16, ('O +', 16):\n",
      "\tO\n",
      "\t1\n",
      "\t{'O': 1}\n",
      "ion17, ('Cr O +', 17):\n",
      "\tCr O\n",
      "\t2\n",
      "\t{'Cr': 1, 'O': 1}\n",
      "ion18, ('Cr O +', 18):\n",
      "\tCr O\n",
      "\t2\n",
      "\t{'Cr': 1, 'O': 1}\n",
      "ion19, ('Cr O +', 19):\n",
      "\tCr O\n",
      "\t2\n",
      "\t{'Cr': 1, 'O': 1}\n",
      "ion20, ('Cr O ++', 20):\n",
      "\tCr O\n",
      "\t2\n",
      "\t{'Cr': 1, 'O': 1}\n",
      "ion21, ('Cr O ++', 21):\n",
      "\tCr O\n",
      "\t2\n",
      "\t{'Cr': 1, 'O': 1}\n",
      "ion22, ('Cr O ++', 22):\n",
      "\tCr O\n",
      "\t2\n",
      "\t{'Cr': 1, 'O': 1}\n",
      "ion23, ('Cr O O +', 23):\n",
      "\tCr O O\n",
      "\t2\n",
      "\t{'Cr': 1, 'O': 2}\n",
      "ion24, ('Cr O O ++', 24):\n",
      "\tCr O O\n",
      "\t2\n",
      "\t{'Cr': 1, 'O': 2}\n",
      "ion25, ('Cr Cr O ++', 25):\n",
      "\tCr Cr O\n",
      "\t2\n",
      "\t{'Cr': 2, 'O': 1}\n",
      "symbol Cr, idx 0, np.sum(elem_cnts[symbol]) 174850, np.sum(total_cnts) 174850\n",
      "symbol Cu, idx 1, np.sum(elem_cnts[symbol]) 683, np.sum(total_cnts) 175533\n",
      "symbol O, idx 2, np.sum(elem_cnts[symbol]) 89980, np.sum(total_cnts) 265513\n",
      "symbol C, idx 3, np.sum(elem_cnts[symbol]) 706, np.sum(total_cnts) 266219\n",
      "symbol Si, idx 4, np.sum(elem_cnts[symbol]) 785076, np.sum(total_cnts) 1051295\n",
      "n_ions 945211\n"
     ]
    }
   ],
   "source": [
    "voxelize = ProcessPreparation(config_file_path, results_file_path, verbose=True)\n",
    "voxelize.init_ranging(ityp_info, elements)\n",
    "voxelize.write_init_results()\n",
    "voxelize.define_voxelization_grid(xyz_val)\n",
    "voxelize.define_lookup_table(ityp_val)\n",
    "voxelize.write_voxelization_grid_info()\n",
    "voxelize.write_voxelization_results()"
   ]
  },
  {
   "cell_type": "code",
   "execution_count": 7,
   "id": "625f4da7-e0d4-4d37-9792-ad5fed59bb84",
   "metadata": {},
   "outputs": [
    {
     "name": "stdout",
     "output_type": "stream",
     "text": [
      "2.279 MiB\n"
     ]
    }
   ],
   "source": [
    "get_file_size(results_file_path)\n",
    "# H5Web(results_file_path)"
   ]
  },
  {
   "cell_type": "markdown",
   "id": "cfaa354a-9e4a-4529-b1c9-da6fd4165020",
   "metadata": {},
   "source": [
    "Voxelization based on element types not on iontypes."
   ]
  },
  {
   "cell_type": "markdown",
   "id": "10373f39-6a61-4604-9631-06e4eded4e6d",
   "metadata": {},
   "source": [
    "## Segmentation PCA and IC minimization"
   ]
  },
  {
   "cell_type": "code",
   "execution_count": 8,
   "id": "f126ed5c-b107-4890-8fd2-c46c46e3bc5b",
   "metadata": {},
   "outputs": [
    {
     "name": "stdout",
     "output_type": "stream",
     "text": [
      "Composition matrix has 5 chemical classes\n",
      "Composition matrix has 5 chemical classes\n",
      "GaussianMixture ML analysis with n_cluster 1\n",
      "GaussianMixture ML analysis with n_cluster 2\n",
      "GaussianMixture ML analysis with n_cluster 3\n",
      "GaussianMixture ML analysis with n_cluster 4\n",
      "GaussianMixture ML analysis with n_cluster 5\n"
     ]
    }
   ],
   "source": [
    "segmentation = ProcessSegmentation(\n",
    "    config_file_path,\n",
    "    results_file_path,\n",
    "    entry_id=1,\n",
    "    verbose=True)\n",
    "segmentation.perform_pca_and_write_results()\n",
    "segmentation.perform_bics_minimization_and_write_results()"
   ]
  },
  {
   "cell_type": "code",
   "execution_count": 9,
   "id": "9b31ff53-d565-4128-a5a7-e8ffe011d07e",
   "metadata": {
    "scrolled": true
   },
   "outputs": [
    {
     "name": "stdout",
     "output_type": "stream",
     "text": [
      "2.473 MiB\n"
     ]
    }
   ],
   "source": [
    "get_file_size(results_file_path)\n",
    "# H5Web(results_file_path)"
   ]
  },
  {
   "cell_type": "markdown",
   "id": "1393fe51-d877-451d-a633-5d1bd4f3461d",
   "metadata": {},
   "source": [
    "<div class=\"alert alert-block alert-danger\">\n",
    "Discussion points:<br>\n",
    "* Modify NXapm_composition_space<br>\n",
    "* What to show how to show?<br>\n",
    "* Number of cluster vs Number of clusters? wording...?<br>\n",
    "* Why to run the gm several times, ones in the bics loop ones in get composition cluster files \n",
    "</div>"
   ]
  },
  {
   "cell_type": "markdown",
   "id": "638edaae-174c-46d7-8765-86100e76273b",
   "metadata": {},
   "source": [
    "## DBScan clustering"
   ]
  },
  {
   "cell_type": "code",
   "execution_count": 10,
   "id": "6895f918-49d0-4f9c-9c84-130fadc72867",
   "metadata": {},
   "outputs": [
    {
     "name": "stdout",
     "output_type": "stream",
     "text": [
      "DBScan configuration: eps 3 nm, min_samples 5\n",
      "['cluster_analysis0', 'cluster_analysis1', 'cluster_analysis2', 'cluster_analysis3', 'cluster_analysis4', 'sequence_index', 'summary']\n",
      "cluster_analysis0\n",
      "ic_run_id 0 >>>>\n",
      "np.shape(all_vxl_pos) (158400, 3) list(set(phase_identifier) [0]\n",
      "\tLoop 0\n",
      "\tnp.shape(trg_vxl_pos) (158400, 3)\n",
      "\tnp.shape(trg_vxl_idx) (158400,)\n",
      "\t1\n",
      "\ttype(db.labels_) <class 'numpy.ndarray'> dtype int64\n",
      "[0]\n",
      "cluster_analysis1\n",
      "ic_run_id 1 >>>>\n",
      "np.shape(all_vxl_pos) (158400, 3) list(set(phase_identifier) [0, 1]\n",
      "\tLoop 0\n",
      "\tnp.shape(trg_vxl_pos) (48323, 3)\n",
      "\tnp.shape(trg_vxl_idx) (48323,)\n",
      "\t1\n",
      "\ttype(db.labels_) <class 'numpy.ndarray'> dtype int64\n",
      "[0]\n",
      "\tLoop 1\n",
      "\tnp.shape(trg_vxl_pos) (110077, 3)\n",
      "\tnp.shape(trg_vxl_idx) (110077,)\n",
      "\t1\n",
      "\ttype(db.labels_) <class 'numpy.ndarray'> dtype int64\n",
      "[0]\n",
      "cluster_analysis2\n",
      "ic_run_id 2 >>>>\n",
      "np.shape(all_vxl_pos) (158400, 3) list(set(phase_identifier) [0, 1, 2]\n",
      "\tLoop 0\n",
      "\tnp.shape(trg_vxl_pos) (110077, 3)\n",
      "\tnp.shape(trg_vxl_idx) (110077,)\n",
      "\t1\n",
      "\ttype(db.labels_) <class 'numpy.ndarray'> dtype int64\n",
      "[0]\n",
      "\tLoop 1\n",
      "\tnp.shape(trg_vxl_pos) (39046, 3)\n",
      "\tnp.shape(trg_vxl_idx) (39046,)\n",
      "\t2\n",
      "\ttype(db.labels_) <class 'numpy.ndarray'> dtype int64\n",
      "[-1  0]\n",
      "\tLoop 2\n",
      "\tnp.shape(trg_vxl_pos) (9277, 3)\n",
      "\tnp.shape(trg_vxl_idx) (9277,)\n",
      "\t2\n",
      "\ttype(db.labels_) <class 'numpy.ndarray'> dtype int64\n",
      "[-1  0]\n",
      "cluster_analysis3\n",
      "ic_run_id 3 >>>>\n",
      "np.shape(all_vxl_pos) (158400, 3) list(set(phase_identifier) [0, 1, 2, 3]\n",
      "\tLoop 0\n",
      "\tnp.shape(trg_vxl_pos) (110077, 3)\n",
      "\tnp.shape(trg_vxl_idx) (110077,)\n",
      "\t1\n",
      "\ttype(db.labels_) <class 'numpy.ndarray'> dtype int64\n",
      "[0]\n",
      "\tLoop 1\n",
      "\tnp.shape(trg_vxl_pos) (39046, 3)\n",
      "\tnp.shape(trg_vxl_idx) (39046,)\n",
      "\t2\n",
      "\ttype(db.labels_) <class 'numpy.ndarray'> dtype int64\n",
      "[-1  0]\n",
      "\tLoop 2\n",
      "\tnp.shape(trg_vxl_pos) (3731, 3)\n",
      "\tnp.shape(trg_vxl_idx) (3731,)\n",
      "\t2\n",
      "\ttype(db.labels_) <class 'numpy.ndarray'> dtype int64\n",
      "[-1  0]\n",
      "\tLoop 3\n",
      "\tnp.shape(trg_vxl_pos) (5546, 3)\n",
      "\tnp.shape(trg_vxl_idx) (5546,)\n",
      "\t2\n",
      "\ttype(db.labels_) <class 'numpy.ndarray'> dtype int64\n",
      "[-1  0]\n",
      "cluster_analysis4\n",
      "ic_run_id 4 >>>>\n",
      "np.shape(all_vxl_pos) (158400, 3) list(set(phase_identifier) [0, 1, 2, 3, 4]\n",
      "\tLoop 0\n",
      "\tnp.shape(trg_vxl_pos) (39046, 3)\n",
      "\tnp.shape(trg_vxl_idx) (39046,)\n",
      "\t2\n",
      "\ttype(db.labels_) <class 'numpy.ndarray'> dtype int64\n",
      "[-1  0]\n",
      "\tLoop 1\n",
      "\tnp.shape(trg_vxl_pos) (110077, 3)\n",
      "\tnp.shape(trg_vxl_idx) (110077,)\n",
      "\t1\n",
      "\ttype(db.labels_) <class 'numpy.ndarray'> dtype int64\n",
      "[0]\n",
      "\tLoop 2\n",
      "\tnp.shape(trg_vxl_pos) (3769, 3)\n",
      "\tnp.shape(trg_vxl_idx) (3769,)\n",
      "\t2\n",
      "\ttype(db.labels_) <class 'numpy.ndarray'> dtype int64\n",
      "[-1  0]\n",
      "\tLoop 3\n",
      "\tnp.shape(trg_vxl_pos) (1287, 3)\n",
      "\tnp.shape(trg_vxl_idx) (1287,)\n",
      "\t8\n",
      "\ttype(db.labels_) <class 'numpy.ndarray'> dtype int64\n",
      "[-1  0  1  2  3  4  5  6]\n",
      "\tLoop 4\n",
      "\tnp.shape(trg_vxl_pos) (4221, 3)\n",
      "\tnp.shape(trg_vxl_idx) (4221,)\n",
      "\t2\n",
      "\ttype(db.labels_) <class 'numpy.ndarray'> dtype int64\n",
      "[-1  0]\n",
      "sequence_index\n",
      "summary\n"
     ]
    }
   ],
   "source": [
    "clustering = ProcessClustering(\n",
    "    config_file_path,\n",
    "    results_file_path,\n",
    "    entry_id=1,\n",
    "    verbose=True)\n",
    "clustering.run_and_write_results()"
   ]
  },
  {
   "cell_type": "code",
   "execution_count": 11,
   "id": "44223976-9a66-4330-a414-79bf0847355b",
   "metadata": {},
   "outputs": [
    {
     "name": "stdout",
     "output_type": "stream",
     "text": [
      "3.878 MiB\n"
     ]
    },
    {
     "data": {
      "application/x-hdf5": "/home/kaiobach/Research/hu_hu_hu/sprint22/conda-compspace-step01/CompositionSpace/CompositionSpace.Results.1.nxs",
      "text/plain": [
       "<jupyterlab_h5web.widget.H5Web object>"
      ]
     },
     "execution_count": 11,
     "metadata": {},
     "output_type": "execute_result"
    }
   ],
   "source": [
    "get_file_size(results_file_path)\n",
    "H5Web(results_file_path)"
   ]
  },
  {
   "cell_type": "markdown",
   "id": "c0886636-6d6a-4180-8ec9-425c3800738b",
   "metadata": {},
   "source": [
    "<div class=\"alert alert-block alert-danger\">\n",
    "Discussion points:<br>\n",
    "- Tests are too specific, hardcoded file names<br>\n",
    "- Readthedocs documentation needs to be updated<br>\n",
    "- GM and ML models are variables collect over<br>\n",
    "- Loading file formats from the community should use ifes-apt-tc-data-modeling library currently using paraprobe result<br>\n",
    "- Ion handling should use ifes-apt-tc-data-modeling is not added as a dependencies and loading properly<br>\n",
    "-  tests/experiment_params.json should be removed?<br>\n",
    "- NeXus renaming<br>\n",
    "- CompositionSpace by design does not distinguish charge states iontypes should be atomic decomposed<br>\n",
    "- Why is the center of the voxel defined by the median position of the ions but not by the barycenter of the voxel (currently using voxel barycenter)<br>\n",
    "- Ran 2, and even 0.5 discretization speed is comparable<br>\n",
    "- Triple loop in preparation step should be replaced with more fancy numpy indexing code that I know is somewhere but I couldnt find quickly<br>\n",
    "- Move test data out of this repository<br>\n",
    "</div>"
   ]
  },
  {
   "cell_type": "markdown",
   "id": "b2c4acc3-a2b1-4faa-bccd-b3eee80729bc",
   "metadata": {},
   "source": [
    "## Meshing"
   ]
  },
  {
   "cell_type": "markdown",
   "id": "9ce2de83-7b43-4afc-a7eb-d6201e06e323",
   "metadata": {},
   "source": [
    "Test for now with the SiGe dataset."
   ]
  },
  {
   "cell_type": "code",
   "execution_count": null,
   "id": "633ead77-993e-4058-b95b-45a4dd998a78",
   "metadata": {},
   "outputs": [],
   "source": [
    "sige_file_path = \"Output_DBSCAN_segmentation_phase_1.h5\"\n",
    "H5Web(sige_file_path)"
   ]
  },
  {
   "cell_type": "code",
   "execution_count": null,
   "id": "17ee7615-98d9-4440-a6af-e55683248cda",
   "metadata": {},
   "outputs": [],
   "source": [
    "import h5py\n",
    "import numpy as np\n",
    "with h5py.File(sige_file_path, \"r\") as h5r:\n",
    "    n_vxls = 0\n",
    "    aabb3d = np.zeros((3, 2), np.float64)\n",
    "    for dim in [0, 1, 2]:\n",
    "        aabb3d[dim, :] = [np.finfo(np.float64).max, np.finfo(np.float64).min]\n",
    "    # print(aabb3d)\n",
    "    for key in h5r[\"1\"].keys():\n",
    "        for dim in [0, 1, 2]:\n",
    "            mimx = (np.min(h5r[\"1\"][key][:, dim]), np.max(h5r[\"1\"][key][:, dim]))\n",
    "            if mimx[0] <= aabb3d[dim, 0]:\n",
    "                aabb3d[dim, 0] = mimx[0]\n",
    "            if mimx[1] >= aabb3d[dim, 1]:\n",
    "                aabb3d[dim, 1] = mimx[1]\n",
    "            n_vxls += int(np.shape(h5r[\"1\"][key])[0])\n",
    "    print(aabb3d)\n",
    "    print(n_vxls)\n",
    "    # assume cubic vxl 2nm edge length"
   ]
  },
  {
   "cell_type": "markdown",
   "id": "89f1378d-f267-4914-a9af-2d51fb7e44ab",
   "metadata": {},
   "source": [
    "Assume that the data were discretized on the following rectangular grid with 2nm cubic voxel"
   ]
  },
  {
   "cell_type": "code",
   "execution_count": null,
   "id": "5119192e-fea3-47ad-b958-cd9184d3c189",
   "metadata": {},
   "outputs": [],
   "source": [
    "nx = int((88--96)/2)\n",
    "ny = int((94--96)/2)\n",
    "nz = int((0--222)/2)\n",
    "grid = np.zeros((nx, ny, nz), np.uint32)\n",
    "# that grid should intentionally be a cuboid to enable checking correct dimensions\n",
    "\n",
    "def i_to_xyz(i):\n",
    "    z = int(i / (nx * ny))\n",
    "    rem = i - (nx * ny * z)\n",
    "    y = int(rem / nx)\n",
    "    x = rem - (y * nx)\n",
    "    return (x, y, z)\n",
    "\n",
    "with h5py.File(sige_file_path, \"r\") as h5r:\n",
    "    for key in h5r[\"1\"].keys():\n",
    "        jds = np.asarray(h5r[\"1\"][key][:, 3], np.uint32)\n",
    "        for j in jds:\n",
    "            x, y, z = i_to_xyz(j)\n",
    "            grid[x, y, z] = int(key) + 1\n",
    "        print(key)\n",
    "print(np.shape(grid))\n",
    "print(np.unique(grid))"
   ]
  },
  {
   "cell_type": "code",
   "execution_count": null,
   "id": "7f697813-a48e-4c52-b6a7-804829603d6d",
   "metadata": {},
   "outputs": [],
   "source": [
    "import h5py\n",
    "with h5py.File(\"input.grid.nxs\", \"w\") as h5w:\n",
    "    h5w.create_dataset(\"/grid\", compression=\"gzip\", compression_opts=1, data=grid)"
   ]
  },
  {
   "cell_type": "code",
   "execution_count": null,
   "id": "32d12e24-946c-4b19-a0bb-ea428aeb1374",
   "metadata": {},
   "outputs": [],
   "source": [
    "H5Web(\"input.grid.nxs\")"
   ]
  },
  {
   "cell_type": "code",
   "execution_count": null,
   "id": "3efc0fb2-11b4-4cb9-929a-cba9a0a2d0e9",
   "metadata": {},
   "outputs": [],
   "source": []
  }
 ],
 "metadata": {
  "kernelspec": {
   "display_name": "Python 3 (ipykernel)",
   "language": "python",
   "name": "python3"
  },
  "language_info": {
   "codemirror_mode": {
    "name": "ipython",
    "version": 3
   },
   "file_extension": ".py",
   "mimetype": "text/x-python",
   "name": "python",
   "nbconvert_exporter": "python",
   "pygments_lexer": "ipython3",
   "version": "3.11.5"
  }
 },
 "nbformat": 4,
 "nbformat_minor": 5
}
